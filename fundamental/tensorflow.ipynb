{
 "cells": [
  {
   "cell_type": "code",
   "execution_count": 1,
   "metadata": {},
   "outputs": [],
   "source": [
    "import tensorflow as tf"
   ]
  },
  {
   "attachments": {},
   "cell_type": "markdown",
   "metadata": {},
   "source": [
    "# TensorFlow:\n",
    "1. Terminology\n",
    "2. Getting information\n",
    "3. Creating Tensor Random"
   ]
  },
  {
   "attachments": {},
   "cell_type": "markdown",
   "metadata": {},
   "source": [
    "## 1. Terminology"
   ]
  },
  {
   "attachments": {},
   "cell_type": "markdown",
   "metadata": {},
   "source": []
  },
  {
   "attachments": {},
   "cell_type": "markdown",
   "metadata": {},
   "source": [
    "## 2. Getting Information"
   ]
  },
  {
   "attachments": {},
   "cell_type": "markdown",
   "metadata": {},
   "source": []
  },
  {
   "attachments": {},
   "cell_type": "markdown",
   "metadata": {},
   "source": [
    "## 3. TensorFlow Random:\n",
    "\n",
    "1. **tf.random.uniform(shape, minval=0, maxval=None, dtype=tf.float32, seed=None)**: generates a tensor with values drawn from a uniform distribution. You specify the shape of the output tensor, along with optional arguments such as minval (minimum value) and maxval (maximum value).\n",
    "\n",
    "2. **tf.random.normal(shape, mean=0.0, stddev=1.0, dtype=tf.float32, seed=None)**: generates a tensor with values drawn from a normal (Gaussian) distribution.\n",
    "\n",
    "3. **tf.random.truncated_normal(shape, mean=0.0, stddev=1.0, dtype=tf.float32, seed=None)**: generates a tensor with values drawn from a truncated normal distribution. The distribution is similar to the normal distribution, but any values more than two standard deviations from the mean are discarded and redrawn.\n",
    "\n",
    "4. **tf.random.shuffle(value, seed=None)**: This function shuffles the elements of a tensor along its first dimension. It is commonly used for randomizing the order of training data samples.\n",
    "\n",
    "5. **tf.random.set_seed(seed)**: It ensures that the random operations produce deterministic results across runs when using the same seed."
   ]
  },
  {
   "cell_type": "code",
   "execution_count": null,
   "metadata": {},
   "outputs": [],
   "source": []
  }
 ],
 "metadata": {
  "kernelspec": {
   "display_name": "Python 3",
   "language": "python",
   "name": "python3"
  },
  "language_info": {
   "codemirror_mode": {
    "name": "ipython",
    "version": 3
   },
   "file_extension": ".py",
   "mimetype": "text/x-python",
   "name": "python",
   "nbconvert_exporter": "python",
   "pygments_lexer": "ipython3",
   "version": "3.11.2"
  },
  "orig_nbformat": 4
 },
 "nbformat": 4,
 "nbformat_minor": 2
}
