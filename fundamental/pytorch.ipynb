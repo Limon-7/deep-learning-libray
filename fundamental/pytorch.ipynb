{
 "cells": [
  {
   "attachments": {},
   "cell_type": "markdown",
   "metadata": {},
   "source": [
    "# PyTorch Fundamental:\n",
    "\n",
    "Tensors are the central data abstraction in PyTorch. This interactive notebook provides an in-depth introduction to the `torch.Tensor` class. You can run this notebook locally, on [Colab](https://colab.research.google.com/), or on your preferred cloud service.\n",
    "1. Terminology\n",
    "2. Getting information\n",
    "3. Tensor Random\n",
    "\n",
    "## 1. Terminology\n",
    "A brief note about tensors and their number of dimensions, and terminology:\n",
    "1. O-dimensional tensor called a *scaler.\n",
    "2. 1-dimensional tensor called a *vector.\n",
    "3. Likewise, a 2-dimensional tensor is often referred to as a *matrix.\n",
    "4. Anything with more than two dimensions is generally just called a tensor."
   ]
  },
  {
   "cell_type": "code",
   "execution_count": 51,
   "metadata": {},
   "outputs": [],
   "source": [
    "import torch\n",
    "import math"
   ]
  },
  {
   "attachments": {},
   "cell_type": "markdown",
   "metadata": {},
   "source": [
    "1. Scaler:"
   ]
  },
  {
   "cell_type": "code",
   "execution_count": 74,
   "metadata": {},
   "outputs": [
    {
     "data": {
      "text/plain": [
       "(0, torch.Size([]), 7, tensor(7), torch.Tensor)"
      ]
     },
     "execution_count": 74,
     "metadata": {},
     "output_type": "execute_result"
    }
   ],
   "source": [
    "scaler= torch.tensor(7)\n",
    "scaler.ndim, scaler.shape, scaler.item(), scaler, type(scaler)"
   ]
  },
  {
   "attachments": {},
   "cell_type": "markdown",
   "metadata": {},
   "source": [
    "2. Vector:"
   ]
  },
  {
   "cell_type": "code",
   "execution_count": 77,
   "metadata": {},
   "outputs": [
    {
     "name": "stdout",
     "output_type": "stream",
     "text": [
      "<class 'torch.Tensor'>\n"
     ]
    },
    {
     "data": {
      "text/plain": [
       "(tensor([7, 8]), 1, torch.Size([2]))"
      ]
     },
     "execution_count": 77,
     "metadata": {},
     "output_type": "execute_result"
    }
   ],
   "source": [
    "vector= torch.tensor([7,8])\n",
    "print(type(vector))\n",
    "vector, vector.ndim, vector.shape"
   ]
  },
  {
   "attachments": {},
   "cell_type": "markdown",
   "metadata": {},
   "source": [
    "**Note:** Here  torch.Size([2]) means the vector has a shape 2 state that there are two items."
   ]
  },
  {
   "attachments": {},
   "cell_type": "markdown",
   "metadata": {},
   "source": [
    "3. Matrix:"
   ]
  },
  {
   "cell_type": "code",
   "execution_count": 76,
   "metadata": {},
   "outputs": [
    {
     "name": "stdout",
     "output_type": "stream",
     "text": [
      "<class 'torch.Tensor'>\n"
     ]
    },
    {
     "data": {
      "text/plain": [
       "(tensor([[ 7,  8],\n",
       "         [ 9, 10]]),\n",
       " torch.Size([2, 2]),\n",
       " 2,\n",
       " torch.int64)"
      ]
     },
     "execution_count": 76,
     "metadata": {},
     "output_type": "execute_result"
    }
   ],
   "source": [
    "## Matrix\n",
    "MATRIX=torch.tensor([[7, 8], \n",
    "                    [9, 10]])\n",
    "print(type(MATRIX))\n",
    "MATRIX,MATRIX.shape, MATRIX.ndim,MATRIX.dtype"
   ]
  },
  {
   "attachments": {},
   "cell_type": "markdown",
   "metadata": {},
   "source": [
    "4. **Tensor or Multi-dimentional:**"
   ]
  },
  {
   "cell_type": "code",
   "execution_count": 120,
   "metadata": {},
   "outputs": [
    {
     "data": {
      "text/plain": [
       "(tensor([[[1, 2, 3],\n",
       "          [3, 6, 9],\n",
       "          [2, 4, 5]]]),\n",
       " torch.Size([1, 3, 3]),\n",
       " 3)"
      ]
     },
     "execution_count": 120,
     "metadata": {},
     "output_type": "execute_result"
    }
   ],
   "source": [
    "# Tensor\n",
    "TENSOR = torch.tensor([[[1, 2, 3],\n",
    "                        [3, 6, 9],\n",
    "                        [2, 4, 5]]])\n",
    "TENSOR, TENSOR.shape, TENSOR.ndim"
   ]
  },
  {
   "attachments": {},
   "cell_type": "markdown",
   "metadata": {},
   "source": [
    "## 2. Getting Information:\n",
    "        1. type(x): type(tensor) will return the type of the tensor object.\n",
    "        2. x.dtype: tensor.dtype will give you the data type.\n",
    "        3. x.shape: tensor.shape will give you the shape of the tensor.\n",
    "        4. x.size(): tensor.size() will give you the total number of elements.\n",
    "        5. x.ndim: The ndim attribute of a PyTorch tensor returns the number of dimensions (rank) of the tensor.\n",
    "        6. x.device: tensor.device will give you the device information.\n",
    "        7. x.requires_grad: indicates whether the tensor requires gradient computation for backpropagation during training."
   ]
  },
  {
   "cell_type": "code",
   "execution_count": 125,
   "metadata": {},
   "outputs": [
    {
     "name": "stdout",
     "output_type": "stream",
     "text": [
      "<class 'torch.Tensor'>\n",
      "torch.int64\n",
      "torch.Size([2, 3])\n",
      "torch.Size([2, 3])\n",
      "2\n",
      "cpu\n",
      "False\n"
     ]
    }
   ],
   "source": [
    "#Create a tensor\n",
    "tensor = torch.tensor([[1, 2, 3], [4, 5, 6]])\n",
    "\n",
    "print(type(tensor)) # Get type of the tensor\n",
    "print(tensor.dtype) # Get data type of the tensor\n",
    "print(tensor.shape)# Get shape of the tensor\n",
    "print(tensor.size()) # Get total number of elements in the tensor\n",
    "print(tensor.ndim) # Get number of dimensions of the tensor\n",
    "print(tensor.device) # Get device information of the tensor\n",
    "print(tensor.requires_grad)# Check if tensor requires gradient computation\n"
   ]
  },
  {
   "attachments": {},
   "cell_type": "markdown",
   "metadata": {},
   "source": [
    "## 3. Random Tensors and Seeding\n",
    "\n",
    "Speaking of the random tensor, did you notice the call to `torch.manual_seed()` immediately preceding it? Initializing tensors, such as a model's learning weights, with random values is common but there are times - especially in research settings - where you'll want some assurance of the reproducibility of your results. Manually setting your random number generator's seed is the way to do this. Let's look more closely:"
   ]
  },
  {
   "cell_type": "code",
   "execution_count": 66,
   "metadata": {},
   "outputs": [
    {
     "data": {
      "text/plain": [
       "(torch.Size([2, 3, 3]),\n",
       " 3,\n",
       " tensor([[[0.2961, 0.5166, 0.2517],\n",
       "          [0.6886, 0.0740, 0.8665],\n",
       "          [0.1366, 0.1025, 0.1841]],\n",
       " \n",
       "         [[0.7264, 0.3153, 0.6871],\n",
       "          [0.0756, 0.1966, 0.3164],\n",
       "          [0.4017, 0.1186, 0.8274]]]),\n",
       " tensor([0.2961, 0.5166, 0.2517]),\n",
       " tensor(0.3164))"
      ]
     },
     "execution_count": 66,
     "metadata": {},
     "output_type": "execute_result"
    }
   ],
   "source": [
    "torch.manual_seed(123)\n",
    "torch_random= torch.rand([2,3,3], dtype=torch.float)# same as torch.random(2,3,3)\n",
    "torch_random.shape, torch_random.ndim, torch_random, torch_random[0][0],torch_random[1][1][2]\n"
   ]
  },
  {
   "cell_type": "code",
   "execution_count": 58,
   "metadata": {},
   "outputs": [
    {
     "name": "stdout",
     "output_type": "stream",
     "text": [
      "tensor([[0.3126, 0.3791, 0.3087],\n",
      "        [0.0736, 0.4216, 0.0691]])\n",
      "tensor([[0.2332, 0.4047, 0.2162],\n",
      "        [0.9927, 0.4128, 0.5938]])\n",
      "tensor([[0.3126, 0.3791, 0.3087],\n",
      "        [0.0736, 0.4216, 0.0691]])\n",
      "tensor([[0.2332, 0.4047, 0.2162],\n",
      "        [0.9927, 0.4128, 0.5938]])\n"
     ]
    }
   ],
   "source": [
    "torch.manual_seed(1729)\n",
    "random1 = torch.rand(2, 3)\n",
    "print(random1)\n",
    "\n",
    "random2 = torch.rand(2, 3)\n",
    "print(random2)\n",
    "\n",
    "torch.manual_seed(1729)\n",
    "random3 = torch.rand(2, 3)\n",
    "print(random3)\n",
    "\n",
    "random4 = torch.rand(2, 3)\n",
    "print(random4)"
   ]
  },
  {
   "attachments": {},
   "cell_type": "markdown",
   "metadata": {},
   "source": [
    "What you should see above is that `random1` and `random3` carry identical values, as do `random2` and `random4`. Manually setting the RNG's seed resets it, so that identical computations depending on random number should, in most settings, provide identical results.\n",
    "\n",
    "For more information, see the [PyTorch documentation on reproducibility](https://pytorch.org/docs/stable/notes/randomness.html)."
   ]
  },
  {
   "cell_type": "code",
   "execution_count": 67,
   "metadata": {},
   "outputs": [
    {
     "data": {
      "text/plain": [
       "(tensor([[0.3821, 0.6605, 0.8536, 0.5932],\n",
       "         [0.6367, 0.9826, 0.2745, 0.6584],\n",
       "         [0.2775, 0.8573, 0.8993, 0.0390]]),\n",
       " torch.float32)"
      ]
     },
     "execution_count": 67,
     "metadata": {},
     "output_type": "execute_result"
    }
   ],
   "source": [
    "random_tensor = torch.rand(size=(3, 4))\n",
    "random_tensor, random_tensor.dtype"
   ]
  },
  {
   "cell_type": "code",
   "execution_count": 128,
   "metadata": {},
   "outputs": [
    {
     "data": {
      "text/plain": [
       "(tensor([[0.2942, 0.1615, 0.0204],\n",
       "         [0.1573, 0.1941, 0.5067],\n",
       "         [0.1455, 0.4344, 0.6916],\n",
       "         [0.7362, 0.7947, 0.5568],\n",
       "         [0.0110, 0.9344, 0.4946],\n",
       "         [0.4363, 0.9917, 0.9640],\n",
       "         [0.3618, 0.7202, 0.8088],\n",
       "         [0.5683, 0.9373, 0.8920],\n",
       "         [0.3591, 0.0423, 0.0680],\n",
       "         [0.7028, 0.4522, 0.2738],\n",
       "         [0.1369, 0.3104, 0.7606],\n",
       "         [0.2742, 0.6797, 0.6146],\n",
       "         [0.5736, 0.4678, 0.0470],\n",
       "         [0.4030, 0.0765, 0.0110],\n",
       "         [0.6606, 0.7982, 0.3110],\n",
       "         [0.7639, 0.6508, 0.3597],\n",
       "         [0.1499, 0.5250, 0.9149],\n",
       "         [0.0795, 0.7813, 0.7327],\n",
       "         [0.4185, 0.6430, 0.4050],\n",
       "         [0.6726, 0.1537, 0.6047],\n",
       "         [0.1313, 0.0306, 0.9412],\n",
       "         [0.5121, 0.5181, 0.1007],\n",
       "         [0.5484, 0.1275, 0.7609],\n",
       "         [0.3424, 0.8988, 0.5176],\n",
       "         [0.2145, 0.7368, 0.3842],\n",
       "         [0.6086, 0.2490, 0.0402],\n",
       "         [0.1199, 0.3771, 0.5345],\n",
       "         [0.4195, 0.3601, 0.4512],\n",
       "         [0.9071, 0.9895, 0.5101],\n",
       "         [0.0798, 0.7879, 0.0544],\n",
       "         [0.3385, 0.5184, 0.0287],\n",
       "         [0.8613, 0.0402, 0.2570],\n",
       "         [0.7275, 0.9317, 0.7371],\n",
       "         [0.4874, 0.8832, 0.0239],\n",
       "         [0.5541, 0.4344, 0.1670],\n",
       "         [0.1226, 0.9217, 0.2036],\n",
       "         [0.8834, 0.7563, 0.5798],\n",
       "         [0.2594, 0.9506, 0.0485],\n",
       "         [0.6312, 0.0552, 0.8515],\n",
       "         [0.0224, 0.5312, 0.6079],\n",
       "         [0.2606, 0.1178, 0.0694],\n",
       "         [0.2477, 0.6127, 0.1027],\n",
       "         [0.6992, 0.3094, 0.4561],\n",
       "         [0.0537, 0.8817, 0.6413],\n",
       "         [0.8110, 0.1622, 0.4843],\n",
       "         [0.2338, 0.4935, 0.8604],\n",
       "         [0.6544, 0.1841, 0.5399],\n",
       "         [0.7642, 0.6235, 0.5789],\n",
       "         [0.1514, 0.1017, 0.7866],\n",
       "         [0.8736, 0.9569, 0.3853],\n",
       "         [0.6937, 0.0253, 0.8021],\n",
       "         [0.2138, 0.8718, 0.7150],\n",
       "         [0.6813, 0.8637, 0.9733],\n",
       "         [0.6691, 0.2210, 0.2745],\n",
       "         [0.8421, 0.7687, 0.3786],\n",
       "         [0.5868, 0.5014, 0.7551],\n",
       "         [0.2464, 0.0901, 0.6289],\n",
       "         [0.5972, 0.8309, 0.7618],\n",
       "         [0.8852, 0.3930, 0.9415],\n",
       "         [0.8452, 0.6079, 0.9684],\n",
       "         [0.6313, 0.6712, 0.7799],\n",
       "         [0.3517, 0.9867, 0.4084],\n",
       "         [0.5658, 0.0873, 0.1378],\n",
       "         [0.0427, 0.3151, 0.0909],\n",
       "         [0.1954, 0.7067, 0.5630],\n",
       "         [0.6198, 0.2631, 0.2862],\n",
       "         [0.7476, 0.5567, 0.0280],\n",
       "         [0.4385, 0.4649, 0.7891],\n",
       "         [0.1150, 0.3396, 0.1616],\n",
       "         [0.0706, 0.4357, 0.6293],\n",
       "         [0.5415, 0.2356, 0.0405],\n",
       "         [0.9392, 0.3681, 0.9553],\n",
       "         [0.7541, 0.2514, 0.4083],\n",
       "         [0.6646, 0.5336, 0.3542],\n",
       "         [0.3534, 0.7137, 0.9213],\n",
       "         [0.5577, 0.1428, 0.1873],\n",
       "         [0.0900, 0.7416, 0.3917],\n",
       "         [0.0481, 0.3122, 0.6795],\n",
       "         [0.1423, 0.4778, 0.9623],\n",
       "         [0.6754, 0.1314, 0.3421],\n",
       "         [0.7007, 0.2957, 0.4224],\n",
       "         [0.8009, 0.9641, 0.5452],\n",
       "         [0.0412, 0.7916, 0.3395],\n",
       "         [0.8067, 0.6145, 0.2476],\n",
       "         [0.2972, 0.5562, 0.7118],\n",
       "         [0.4096, 0.9321, 0.3331],\n",
       "         [0.9800, 0.4633, 0.0224],\n",
       "         [0.3464, 0.5036, 0.2344],\n",
       "         [0.1334, 0.4825, 0.7560],\n",
       "         [0.4311, 0.1585, 0.3939],\n",
       "         [0.1412, 0.5230, 0.0578],\n",
       "         [0.1218, 0.9081, 0.5544],\n",
       "         [0.4059, 0.1599, 0.9005],\n",
       "         [0.6860, 0.0105, 0.4033],\n",
       "         [0.1425, 0.3949, 0.4509],\n",
       "         [0.9987, 0.8415, 0.6098],\n",
       "         [0.9281, 0.5467, 0.2411],\n",
       "         [0.3270, 0.9477, 0.7745],\n",
       "         [0.8720, 0.1152, 0.8337],\n",
       "         [0.7444, 0.8795, 0.9207],\n",
       "         [0.4357, 0.1385, 0.0135],\n",
       "         [0.8405, 0.9894, 0.8691],\n",
       "         [0.9123, 0.2414, 0.2573],\n",
       "         [0.3797, 0.0218, 0.5828],\n",
       "         [0.0338, 0.9769, 0.9355],\n",
       "         [0.2211, 0.0366, 0.8888],\n",
       "         [0.4833, 0.4466, 0.2184],\n",
       "         [0.6569, 0.7839, 0.3550],\n",
       "         [0.2230, 0.8865, 0.3131],\n",
       "         [0.3029, 0.2901, 0.9078],\n",
       "         [0.4394, 0.2842, 0.2708],\n",
       "         [0.5957, 0.8668, 0.7962],\n",
       "         [0.6351, 0.8844, 0.3154],\n",
       "         [0.1721, 0.9107, 0.0664],\n",
       "         [0.6345, 0.9204, 0.2833],\n",
       "         [0.8939, 0.5638, 0.0536],\n",
       "         [0.5035, 0.3892, 0.9721],\n",
       "         [0.6736, 0.7615, 0.8432],\n",
       "         [0.8412, 0.8286, 0.3532],\n",
       "         [0.5940, 0.7160, 0.7998],\n",
       "         [0.3421, 0.9989, 0.6104],\n",
       "         [0.9682, 0.0084, 0.5337],\n",
       "         [0.3337, 0.7460, 0.9266],\n",
       "         [0.5605, 0.9548, 0.7694],\n",
       "         [0.3617, 0.0964, 0.9555],\n",
       "         [0.4376, 0.2689, 0.6139],\n",
       "         [0.5499, 0.7886, 0.6180],\n",
       "         [0.8220, 0.4363, 0.5735],\n",
       "         [0.8323, 0.3163, 0.0936],\n",
       "         [0.7876, 0.7389, 0.8353],\n",
       "         [0.5110, 0.6202, 0.3999],\n",
       "         [0.9987, 0.0926, 0.9433],\n",
       "         [0.7731, 0.8908, 0.0685],\n",
       "         [0.4649, 0.8634, 0.0893],\n",
       "         [0.3605, 0.4943, 0.1981],\n",
       "         [0.0572, 0.2735, 0.2871],\n",
       "         [0.9570, 0.0178, 0.0624],\n",
       "         [0.3753, 0.9973, 0.8475],\n",
       "         [0.2848, 0.7651, 0.9741],\n",
       "         [0.3100, 0.5308, 0.3000],\n",
       "         [0.7422, 0.8581, 0.5866],\n",
       "         [0.3163, 0.3930, 0.6508],\n",
       "         [0.7808, 0.1655, 0.9432],\n",
       "         [0.9522, 0.2707, 0.5145],\n",
       "         [0.8606, 0.9722, 0.9573],\n",
       "         [0.6309, 0.9841, 0.8899],\n",
       "         [0.1371, 0.5599, 0.5380],\n",
       "         [0.7174, 0.3544, 0.0295],\n",
       "         [0.4503, 0.7483, 0.3792],\n",
       "         [0.6157, 0.1818, 0.2126],\n",
       "         [0.0455, 0.3318, 0.9822],\n",
       "         [0.5357, 0.9631, 0.0613],\n",
       "         [0.0315, 0.9855, 0.8976],\n",
       "         [0.4417, 0.8782, 0.7231],\n",
       "         [0.7144, 0.7048, 0.4734],\n",
       "         [0.9315, 0.1426, 0.1850],\n",
       "         [0.7457, 0.5379, 0.4412],\n",
       "         [0.6292, 0.2343, 0.4276],\n",
       "         [0.6649, 0.4654, 0.5841],\n",
       "         [0.4435, 0.9025, 0.7015],\n",
       "         [0.7099, 0.9309, 0.7841],\n",
       "         [0.2860, 0.2967, 0.4507],\n",
       "         [0.1842, 0.4214, 0.5774],\n",
       "         [0.1480, 0.3076, 0.2577],\n",
       "         [0.8458, 0.9141, 0.9291],\n",
       "         [0.4533, 0.7619, 0.0033],\n",
       "         [0.1718, 0.5930, 0.7586],\n",
       "         [0.9173, 0.5122, 0.2754],\n",
       "         [0.3258, 0.2362, 0.3120],\n",
       "         [0.7317, 0.6645, 0.0887],\n",
       "         [0.0808, 0.6710, 0.1156],\n",
       "         [0.6301, 0.8571, 0.6003],\n",
       "         [0.4715, 0.0757, 0.6738],\n",
       "         [0.0862, 0.7908, 0.1549],\n",
       "         [0.3873, 0.9336, 0.7066],\n",
       "         [0.5859, 0.9462, 0.8555],\n",
       "         [0.7018, 0.0067, 0.4720],\n",
       "         [0.9923, 0.7958, 0.7666],\n",
       "         [0.9427, 0.3832, 0.2532],\n",
       "         [0.3413, 0.4854, 0.7032],\n",
       "         [0.5691, 0.4588, 0.9883],\n",
       "         [0.3875, 0.8317, 0.0999],\n",
       "         [0.9400, 0.2904, 0.5645],\n",
       "         [0.0273, 0.6021, 0.9050],\n",
       "         [0.8788, 0.9433, 0.6104],\n",
       "         [0.2896, 0.0589, 0.5021],\n",
       "         [0.6987, 0.1291, 0.6248],\n",
       "         [0.7874, 0.3612, 0.0104],\n",
       "         [0.8069, 0.5044, 0.0655],\n",
       "         [0.1749, 0.9529, 0.4420],\n",
       "         [0.0601, 0.1356, 0.5877],\n",
       "         [0.1063, 0.1970, 0.3763],\n",
       "         [0.8140, 0.0300, 0.1142],\n",
       "         [0.5077, 0.1559, 0.1217],\n",
       "         [0.8464, 0.2729, 0.4183],\n",
       "         [0.6178, 0.3133, 0.6232],\n",
       "         [0.5075, 0.9115, 0.4310],\n",
       "         [0.6391, 0.9732, 0.0780],\n",
       "         [0.0752, 0.1050, 0.7294],\n",
       "         [0.9100, 0.6691, 0.9947],\n",
       "         [0.8836, 0.0620, 0.3120],\n",
       "         [0.8858, 0.9163, 0.0041],\n",
       "         [0.4702, 0.3347, 0.6765],\n",
       "         [0.7228, 0.3223, 0.0521],\n",
       "         [0.2372, 0.3612, 0.7585],\n",
       "         [0.3992, 0.9143, 0.4972],\n",
       "         [0.3828, 0.7790, 0.0845],\n",
       "         [0.6249, 0.6476, 0.0708],\n",
       "         [0.0034, 0.7696, 0.4912],\n",
       "         [0.5182, 0.8528, 0.1896],\n",
       "         [0.1977, 0.5948, 0.4418],\n",
       "         [0.8726, 0.0507, 0.2149],\n",
       "         [0.6638, 0.3739, 0.6458],\n",
       "         [0.3702, 0.3461, 0.2079],\n",
       "         [0.7159, 0.2964, 0.0231],\n",
       "         [0.9240, 0.6142, 0.3927],\n",
       "         [0.8189, 0.5916, 0.6917],\n",
       "         [0.3701, 0.7983, 0.2160],\n",
       "         [0.2206, 0.6559, 0.3267],\n",
       "         [0.9565, 0.8101, 0.0411],\n",
       "         [0.8176, 0.9507, 0.8638],\n",
       "         [0.4805, 0.7303, 0.1742],\n",
       "         [0.9599, 0.6164, 0.4896],\n",
       "         [0.0231, 0.2640, 0.4388],\n",
       "         [0.7177, 0.6700, 0.3904],\n",
       "         [0.1346, 0.9270, 0.1247],\n",
       "         [0.2871, 0.6860, 0.8351],\n",
       "         [0.7198, 0.1978, 0.4323],\n",
       "         [0.3691, 0.8216, 0.2274],\n",
       "         [0.1162, 0.7895, 0.7884],\n",
       "         [0.9067, 0.4512, 0.9769],\n",
       "         [0.5743, 0.7683, 0.9864],\n",
       "         [0.1784, 0.2390, 0.4710],\n",
       "         [0.6861, 0.5931, 0.5365],\n",
       "         [0.6307, 0.5278, 0.6570],\n",
       "         [0.0283, 0.9663, 0.4593],\n",
       "         [0.0818, 0.3058, 0.0815],\n",
       "         [0.8197, 0.5634, 0.7455],\n",
       "         [0.3613, 0.9009, 0.9672],\n",
       "         [0.6785, 0.2111, 0.4942],\n",
       "         [0.2371, 0.1537, 0.8584],\n",
       "         [0.2489, 0.3252, 0.9090],\n",
       "         [0.5188, 0.4305, 0.3169],\n",
       "         [0.3229, 0.4724, 0.9202]]),\n",
       " torch.Size([224, 244, 3]),\n",
       " 3,\n",
       " torch.float32)"
      ]
     },
     "execution_count": 128,
     "metadata": {},
     "output_type": "execute_result"
    }
   ],
   "source": [
    "## image shape of [224, 224, 3] ([height, width, color_channels]).\n",
    "image=torch.rand(224,244,3)\n",
    "image[1], image.shape, image.ndim, image.dtype"
   ]
  },
  {
   "attachments": {},
   "cell_type": "markdown",
   "metadata": {},
   "source": [
    "### Creating Tensors\n",
    "The simplest way to create a tensor is with the `torch.empty()` call:"
   ]
  },
  {
   "cell_type": "code",
   "execution_count": 2,
   "metadata": {},
   "outputs": [
    {
     "name": "stdout",
     "output_type": "stream",
     "text": [
      "<class 'torch.Tensor'>\n",
      "tensor([[0., 0., 0., 0.],\n",
      "        [0., 0., 0., 0.],\n",
      "        [0., 0., 0., 0.]])\n"
     ]
    }
   ],
   "source": [
    "x = torch.empty(3, 4)\n",
    "print(type(x))\n",
    "print(x)"
   ]
  },
  {
   "attachments": {},
   "cell_type": "markdown",
   "metadata": {},
   "source": [
    "Let's unpack what we just did:\n",
    "\n",
    "* We created a tensor using one of the numerous factory methods attached to the `torch` module.\n",
    "* The tensor itself is 2-dimensional, having 3 rows and 4 columns.\n",
    "* The type of the object returned is `torch.Tensor`, which is an alias for `torch.FloatTensor`; by default, PyTorch tensors are populated with 32-bit floating point numbers. (More on data types below.)\n",
    "* You will probably see some random-looking values when printing your tensor. The `torch.empty()` call allocates memory for the tensor, but does not initialize it with any values - so what you're seeing is whatever was in memory at the time of allocation.\n",
    "\n",
    "\n",
    "\n",
    "More often than not, you'll want to initialize your tensor with some value. Common cases are all zeros, all ones, or random values, and the `torch` module provides factory methods for all of these:"
   ]
  },
  {
   "cell_type": "code",
   "execution_count": 3,
   "metadata": {},
   "outputs": [
    {
     "name": "stdout",
     "output_type": "stream",
     "text": [
      "tensor([[0., 0., 0.],\n",
      "        [0., 0., 0.]])\n",
      "tensor([[1., 1., 1.],\n",
      "        [1., 1., 1.]])\n",
      "tensor([[0.3126, 0.3791, 0.3087],\n",
      "        [0.0736, 0.4216, 0.0691]])\n"
     ]
    }
   ],
   "source": [
    "zeros = torch.zeros(2, 3)\n",
    "print(zeros)\n",
    "\n",
    "ones = torch.ones(2, 3)\n",
    "print(ones)\n",
    "\n",
    "torch.manual_seed(1729)\n",
    "random = torch.rand(2, 3)\n",
    "print(random)"
   ]
  },
  {
   "attachments": {},
   "cell_type": "markdown",
   "metadata": {},
   "source": [
    "\n",
    "### Tensor Shapes\n",
    "Often, when you're performing operations on two or more tensors, they will need to be of the same *shape* - that is, having the same number of dimensions and the same number of cells in each dimension. For that, we have the `torch.*_like()` methods:"
   ]
  },
  {
   "cell_type": "code",
   "execution_count": 5,
   "metadata": {},
   "outputs": [
    {
     "name": "stdout",
     "output_type": "stream",
     "text": [
      "torch.Size([2, 2, 3])\n",
      "tensor([[[ 0.0000e+00,  1.0842e-19,  4.9628e-26],\n",
      "         [-2.5250e-29,  9.8091e-45,  0.0000e+00]],\n",
      "\n",
      "        [[ 0.0000e+00,  0.0000e+00,  0.0000e+00],\n",
      "         [ 0.0000e+00,  0.0000e+00,  0.0000e+00]]])\n",
      "torch.Size([2, 2, 3])\n",
      "tensor([[[ 2.5776e-33,  1.4013e-45,         nan],\n",
      "         [ 0.0000e+00,  1.4013e-45,  0.0000e+00]],\n",
      "\n",
      "        [[ 4.9477e-26, -3.6902e+19,  2.6082e-33],\n",
      "         [ 1.4013e-45,  4.9633e-26, -8.5920e+09]]])\n",
      "torch.Size([2, 2, 3])\n",
      "tensor([[[0., 0., 0.],\n",
      "         [0., 0., 0.]],\n",
      "\n",
      "        [[0., 0., 0.],\n",
      "         [0., 0., 0.]]])\n",
      "torch.Size([2, 2, 3])\n",
      "tensor([[[1., 1., 1.],\n",
      "         [1., 1., 1.]],\n",
      "\n",
      "        [[1., 1., 1.],\n",
      "         [1., 1., 1.]]])\n",
      "torch.Size([2, 2, 3])\n",
      "tensor([[[0.6128, 0.1519, 0.0453],\n",
      "         [0.5035, 0.9978, 0.3884]],\n",
      "\n",
      "        [[0.6929, 0.1703, 0.1384],\n",
      "         [0.4759, 0.7481, 0.0361]]])\n"
     ]
    }
   ],
   "source": [
    "x = torch.empty(2, 2, 3)\n",
    "print(x.shape)\n",
    "print(x)\n",
    "\n",
    "empty_like_x = torch.empty_like(x)\n",
    "print(empty_like_x.shape)\n",
    "print(empty_like_x)\n",
    "\n",
    "zeros_like_x = torch.zeros_like(x)\n",
    "print(zeros_like_x.shape)\n",
    "print(zeros_like_x)\n",
    "\n",
    "ones_like_x = torch.ones_like(x)\n",
    "print(ones_like_x.shape)\n",
    "print(ones_like_x)\n",
    "\n",
    "rand_like_x = torch.rand_like(x)\n",
    "print(rand_like_x.shape)\n",
    "print(rand_like_x)"
   ]
  },
  {
   "attachments": {},
   "cell_type": "markdown",
   "metadata": {},
   "source": [
    "The first new thing in the code cell above is the use of the `.shape` property on a tensor. This property contains a list of the extent of each dimension of a tensor - in our case, `x` is a three-dimensional tensor with shape 2 x 2 x 3.\n",
    "\n",
    "Below that, we call the `.empty_like()`, `.zeros_like()`, `.ones_like()`, and `.rand_like()` methods. Using the `.shape` property, we can verify that each of these methods returns a tensor of identical dimensionality and extent.\n",
    "\n",
    "The last way to create a tensor that will cover is to specify its data directly from a PyTorch collection:"
   ]
  },
  {
   "cell_type": "code",
   "execution_count": 6,
   "metadata": {},
   "outputs": [
    {
     "name": "stdout",
     "output_type": "stream",
     "text": [
      "tensor([[3.1416, 2.7183],\n",
      "        [1.6180, 0.0073]])\n",
      "tensor([ 2,  3,  5,  7, 11, 13, 17, 19])\n",
      "tensor([[2, 4, 6],\n",
      "        [3, 6, 9]])\n"
     ]
    }
   ],
   "source": [
    "some_constants = torch.tensor([[3.1415926, 2.71828], [1.61803, 0.0072897]])\n",
    "print(some_constants)\n",
    "\n",
    "some_integers = torch.tensor((2, 3, 5, 7, 11, 13, 17, 19))\n",
    "print(some_integers)\n",
    "\n",
    "more_integers = torch.tensor(((2, 4, 6), [3, 6, 9]))\n",
    "print(more_integers)"
   ]
  },
  {
   "attachments": {},
   "cell_type": "markdown",
   "metadata": {},
   "source": [
    "Using `torch.tensor()` is the most straightforward way to create a tensor if you already have data in a Python tuple or list. As shown above, nesting the collections will result in a multi-dimensional tensor.\n",
    "\n",
    "*Note: `torch.tensor()` creates a copy of the data.*\n",
    "\n",
    "### Tensor Data Types\n",
    "Setting the datatype of a tensor is possible a couple of ways:"
   ]
  },
  {
   "cell_type": "code",
   "execution_count": 84,
   "metadata": {},
   "outputs": [
    {
     "data": {
      "text/plain": [
       "(tensor([[1, 1, 1],\n",
       "         [1, 1, 1]], dtype=torch.int16),\n",
       " tensor([[ 6.6354, 16.6727, 17.7791],\n",
       "         [17.6639,  8.5165, 10.6494]], dtype=torch.float64),\n",
       " tensor([[ 6, 16, 17],\n",
       "         [17,  8, 10]], dtype=torch.int32))"
      ]
     },
     "execution_count": 84,
     "metadata": {},
     "output_type": "execute_result"
    }
   ],
   "source": [
    "a = torch.ones((2, 3), dtype=torch.int16)\n",
    "\n",
    "b = torch.rand((2, 3), dtype=torch.float64) * 20.\n",
    "\n",
    "c = b.to(torch.int32)\n",
    "\n",
    "a, b, c"
   ]
  },
  {
   "attachments": {},
   "cell_type": "markdown",
   "metadata": {},
   "source": [
    "The simplest way to set the underlying data type of a tensor is with an optional argument at creation time. In the first line of the cell above, we set `dtype=torch.int16` for the tensor `a`. When we print `a`, we can see that it's full of `1` rather than `1.` - Python's subtle cue that this is an integer type rather than floating point.\n",
    "\n",
    "Another thing to notice about printing `a` is that, unlike when we left `dtype` as the default (32-bit floating point), printing the tensor also specifies its `dtype`.\n",
    "\n",
    "You may have also spotted that we went from specifying the tensor's shape as a series of integer arguments, to grouping those arguments in a tuple. This is not strictly necessary - PyTorch will take a series of initial, unlabeled integer arguments as a tensor shape - but when adding the optional arguments, it can make your intent more readable.\n",
    "\n",
    "The other way to set the datatype is with the `.to()` method. In the cell above, we create a random floating point tensor `b` in the usual way. Following that, we create `c` by converting `b` to a 32-bit integer with the `.to()` method. Note that `c` contains all the same values as `b`, but truncated to integers.\n",
    "\n",
    "Available data types include:\n",
    "\n",
    "* `torch.bool`\n",
    "* `torch.int8`\n",
    "* `torch.uint8`\n",
    "* `torch.int16`\n",
    "* `torch.int32`\n",
    "* `torch.int64`\n",
    "* `torch.half`\n",
    "* `torch.float`\n",
    "* `torch.double`\n",
    "* `torch.bfloat`"
   ]
  },
  {
   "cell_type": "code",
   "execution_count": 85,
   "metadata": {},
   "outputs": [
    {
     "data": {
      "text/plain": [
       "(torch.Size([3]), torch.float32, device(type='cpu'))"
      ]
     },
     "execution_count": 85,
     "metadata": {},
     "output_type": "execute_result"
    }
   ],
   "source": [
    "# Default datatype for tensors is float32\n",
    "float_32_tensor = torch.tensor([3.0, 6.0, 9.0],\n",
    "                               dtype=None, # defaults to None, which is torch.float32 or whatever datatype is passed\n",
    "                               device=None, # defaults to None, which uses the default tensor type\n",
    "                               requires_grad=False) # if True, operations performed on the tensor are recorded \n",
    "\n",
    "float_32_tensor.shape, float_32_tensor.dtype, float_32_tensor.device"
   ]
  },
  {
   "attachments": {},
   "cell_type": "markdown",
   "metadata": {},
   "source": []
  },
  {
   "cell_type": "code",
   "execution_count": null,
   "metadata": {},
   "outputs": [],
   "source": []
  },
  {
   "attachments": {},
   "cell_type": "markdown",
   "metadata": {},
   "source": [
    "## Math & Logic with PyTorch Tensors\n",
    "\n",
    "Now that you know some of the ways to create a tensor... what can you do with them?\n",
    "\n",
    "Let's look at basic arithmetic first, and how tensors interact with simple scalars:"
   ]
  },
  {
   "cell_type": "code",
   "execution_count": 87,
   "metadata": {},
   "outputs": [
    {
     "name": "stdout",
     "output_type": "stream",
     "text": [
      "tensor([[101., 101.],\n",
      "        [101., 101.]])\n",
      "tensor([[2., 2.],\n",
      "        [2., 2.]])\n",
      "tensor([[3., 3.],\n",
      "        [3., 3.]])\n",
      "tensor([[4., 4.],\n",
      "        [4., 4.]])\n",
      "tensor([[1.4142, 1.4142],\n",
      "        [1.4142, 1.4142]])\n"
     ]
    }
   ],
   "source": [
    "ones = torch.zeros(2, 2) + 1 #addition ones.add()\n",
    "ones=ones.add(100)\n",
    "twos = torch.ones(2, 2) * 2 #multiplication\n",
    "threes = (torch.ones(2, 2) * 7 - 1) / 2 # complex operation\n",
    "fours = twos ** 2 # squre\n",
    "sqrt2s = twos ** 0.5 ## squre root\n",
    "\n",
    "print(ones)\n",
    "print(twos)\n",
    "print(threes)\n",
    "print(fours)\n",
    "print(sqrt2s)"
   ]
  },
  {
   "attachments": {},
   "cell_type": "markdown",
   "metadata": {},
   "source": [
    "\n",
    "Similar operations between two tensors also behave like you'd intuitively expect:"
   ]
  },
  {
   "cell_type": "code",
   "execution_count": 88,
   "metadata": {
    "scrolled": true
   },
   "outputs": [
    {
     "name": "stdout",
     "output_type": "stream",
     "text": [
      "tensor([[ 2.,  4.],\n",
      "        [ 8., 16.]])\n",
      "tensor([[105., 105.],\n",
      "        [105., 105.]])\n",
      "tensor([[12., 12.],\n",
      "        [12., 12.]])\n"
     ]
    }
   ],
   "source": [
    "powers2 = twos ** torch.tensor([[1, 2], [3, 4]])\n",
    "print(powers2)\n",
    "\n",
    "fives = ones + fours\n",
    "print(fives)\n",
    "\n",
    "dozens = threes * fours # element wise multiplication\n",
    "print(dozens)"
   ]
  },
  {
   "attachments": {},
   "cell_type": "markdown",
   "metadata": {},
   "source": [
    "### Matrix multiplication\n",
    "PyTorch implements matrix multiplication functionality in the `torch.matmul()` method.\n",
    "\n",
    "1. The inner dimensions must match:\n",
    "\n",
    "        (3, 2) @ (3, 2) won't work\n",
    "        (2, 3) @ (3, 2) will work\n",
    "        (3, 2) @ (2, 3) will work\n",
    "2. The resulting matrix has the shape of the outer dimensions:\n",
    "\n",
    "        (2, 3) @ (3, 2) -> (2, 2)\n",
    "        (3, 2) @ (2, 3) -> (3, 3)\n",
    "\n",
    "### Element wise multiplication:\n",
    "PyTorch implements multiplication functionality in the `torch.mul()` or `*` method.\n",
    "\n",
    "        (3, 2) @ (2, 3) won't work\n",
    "        (2, 3) @ (3, 3) will work"
   ]
  },
  {
   "cell_type": "code",
   "execution_count": 97,
   "metadata": {},
   "outputs": [
    {
     "name": "stdout",
     "output_type": "stream",
     "text": [
      "torch.Size([3]) 1\n",
      "Element-Wise-Multiplication tensor([1, 4, 9])\n",
      "Element-Wise-Multiplication: torch.mul() tensor([1, 4, 9])\n",
      "Matrix-Multiplication: tensor(14)\n"
     ]
    }
   ],
   "source": [
    "tensor = torch.tensor([1, 2, 3])\n",
    "print(tensor.shape, tensor.ndim)\n",
    "element_wise_mul=tensor*tensor # Element wise multiplication: [1*1, 2*2, 3*3]=[1, 4, 9]\n",
    "print(\"Element-Wise-Multiplication\",element_wise_mul)\n",
    "print(\"Element-Wise-Multiplication: torch.mul()\",torch.mul(tensor, tensor))\n",
    "\n",
    "print(\"Matrix-Multiplication:\", torch.matmul(tensor, tensor))"
   ]
  },
  {
   "cell_type": "code",
   "execution_count": 114,
   "metadata": {},
   "outputs": [
    {
     "name": "stdout",
     "output_type": "stream",
     "text": [
      "tensor_A: torch.Size([3, 2]) \t 2\n",
      "tensor_B: torch.Size([3, 2]) \t 2\n",
      "Element wise: tensor([[ 7., 20.],\n",
      "        [24., 44.],\n",
      "        [45., 72.]])\n",
      "Transpose: torch.Size([2, 3])\n"
     ]
    },
    {
     "data": {
      "text/plain": [
       "tensor([[ 76., 103.],\n",
       "        [100., 136.]])"
      ]
     },
     "execution_count": 114,
     "metadata": {},
     "output_type": "execute_result"
    }
   ],
   "source": [
    "# Shapes need to be in the right way  \n",
    "tensor_A = torch.tensor([[1, 2],\n",
    "                         [3, 4],\n",
    "                         [5, 6]], dtype=torch.float32)\n",
    "\n",
    "tensor_B = torch.tensor([[7, 10],\n",
    "                         [8, 11], \n",
    "                         [9, 12]], dtype=torch.float32)\n",
    "print(f\"tensor_A: {tensor_A.shape} \\t {tensor_A.ndim}\")\n",
    "print(f\"tensor_B: {tensor_B.shape} \\t {tensor_B.ndim}\")\n",
    "\n",
    "print(\"Element wise:\",torch.mul(tensor_A, tensor_B))\n",
    "print(\"Transpose:\",tensor_A.T.shape)\n",
    "\n",
    "torch.matmul(tensor_A.T, tensor_B) "
   ]
  },
  {
   "attachments": {},
   "cell_type": "markdown",
   "metadata": {},
   "source": [
    "#### Element wise Multiplication:\n",
    "\n",
    "* Each tensor must have at least one dimension - no empty tensors.\n",
    "* Comparing the dimension sizes of the two tensors, *going from last to first:*\n",
    "* * Each dimension must be equal, *or*\n",
    "* * One of the dimensions must be of size 1, *or*\n",
    "* * The dimension does not exist in one of the tensors"
   ]
  },
  {
   "cell_type": "code",
   "execution_count": 116,
   "metadata": {},
   "outputs": [
    {
     "name": "stdout",
     "output_type": "stream",
     "text": [
      "tensor([[[0.6558, 0.8524],\n",
      "         [0.6558, 0.8524],\n",
      "         [0.6558, 0.8524]],\n",
      "\n",
      "        [[0.6558, 0.8524],\n",
      "         [0.6558, 0.8524],\n",
      "         [0.6558, 0.8524]],\n",
      "\n",
      "        [[0.6558, 0.8524],\n",
      "         [0.6558, 0.8524],\n",
      "         [0.6558, 0.8524]],\n",
      "\n",
      "        [[0.6558, 0.8524],\n",
      "         [0.6558, 0.8524],\n",
      "         [0.6558, 0.8524]]])\n",
      "tensor([[[0.9511, 0.9511],\n",
      "         [0.3185, 0.3185],\n",
      "         [0.4012, 0.4012]],\n",
      "\n",
      "        [[0.9511, 0.9511],\n",
      "         [0.3185, 0.3185],\n",
      "         [0.4012, 0.4012]],\n",
      "\n",
      "        [[0.9511, 0.9511],\n",
      "         [0.3185, 0.3185],\n",
      "         [0.4012, 0.4012]],\n",
      "\n",
      "        [[0.9511, 0.9511],\n",
      "         [0.3185, 0.3185],\n",
      "         [0.4012, 0.4012]]])\n",
      "tensor([[[0.2672, 0.5903],\n",
      "         [0.2672, 0.5903],\n",
      "         [0.2672, 0.5903]],\n",
      "\n",
      "        [[0.2672, 0.5903],\n",
      "         [0.2672, 0.5903],\n",
      "         [0.2672, 0.5903]],\n",
      "\n",
      "        [[0.2672, 0.5903],\n",
      "         [0.2672, 0.5903],\n",
      "         [0.2672, 0.5903]],\n",
      "\n",
      "        [[0.2672, 0.5903],\n",
      "         [0.2672, 0.5903],\n",
      "         [0.2672, 0.5903]]])\n"
     ]
    }
   ],
   "source": [
    "a =     torch.ones(4, 3, 2)\n",
    "\n",
    "b = a * torch.rand(   2) # 3rd & 2nd dims identical to a, dim 1 absent\n",
    "print(b)\n",
    "\n",
    "c = a * torch.rand(   3, 1) # 3rd dim = 1, 2nd dim identical to a\n",
    "print(c)\n",
    "\n",
    "d = a * torch.rand(   1, 2) # 3rd dim identical to a, 2nd dim = 1\n",
    "print(d)"
   ]
  },
  {
   "cell_type": "code",
   "execution_count": 118,
   "metadata": {},
   "outputs": [
    {
     "ename": "RuntimeError",
     "evalue": "The size of tensor a (2) must match the size of tensor b (3) at non-singleton dimension 2",
     "output_type": "error",
     "traceback": [
      "\u001b[0;31m---------------------------------------------------------------------------\u001b[0m",
      "\u001b[0;31mRuntimeError\u001b[0m                              Traceback (most recent call last)",
      "Cell \u001b[0;32mIn[118], line 3\u001b[0m\n\u001b[1;32m      1\u001b[0m a \u001b[39m=\u001b[39m     torch\u001b[39m.\u001b[39mones(\u001b[39m4\u001b[39m, \u001b[39m3\u001b[39m, \u001b[39m2\u001b[39m)\n\u001b[0;32m----> 3\u001b[0m b \u001b[39m=\u001b[39m a \u001b[39m*\u001b[39m torch\u001b[39m.\u001b[39mrand(\u001b[39m4\u001b[39m, \u001b[39m3\u001b[39m)    \u001b[39m# dimensions must match last-to-first\u001b[39;00m\n\u001b[1;32m      5\u001b[0m c \u001b[39m=\u001b[39m a \u001b[39m*\u001b[39m torch\u001b[39m.\u001b[39mrand(   \u001b[39m2\u001b[39m, \u001b[39m3\u001b[39m) \u001b[39m# both 3rd & 2nd dims different\u001b[39;00m\n\u001b[1;32m      7\u001b[0m d \u001b[39m=\u001b[39m a \u001b[39m*\u001b[39m torch\u001b[39m.\u001b[39mrand((\u001b[39m0\u001b[39m, ))\n",
      "\u001b[0;31mRuntimeError\u001b[0m: The size of tensor a (2) must match the size of tensor b (3) at non-singleton dimension 2"
     ]
    }
   ],
   "source": [
    "a =     torch.ones(4, 3, 2)\n",
    "\n",
    "b = a * torch.rand(4, 3)    # dimensions must match last-to-first\n",
    "\n",
    "c = a * torch.rand(   2, 3) # both 3rd & 2nd dims different\n",
    "\n",
    "d = a * torch.rand((0, ))   # can't broadcast with an empty tensor"
   ]
  },
  {
   "attachments": {},
   "cell_type": "markdown",
   "metadata": {},
   "source": [
    "### More Math with Tensors\n",
    "\n",
    "PyTorch tensors have over three hundred operations that can be performed on them.\n",
    "\n",
    "Here is a small sample from some of the major categories of operations:"
   ]
  },
  {
   "cell_type": "code",
   "execution_count": 14,
   "metadata": {},
   "outputs": [
    {
     "name": "stdout",
     "output_type": "stream",
     "text": [
      "Common functions:\n",
      "tensor([[0.8447, 0.1992, 0.9755, 0.9295],\n",
      "        [0.8190, 0.1029, 0.7480, 0.4949]])\n",
      "tensor([[-0., -0., 1., -0.],\n",
      "        [-0., -0., 1., -0.]])\n",
      "tensor([[-1., -1.,  0., -1.],\n",
      "        [-1., -1.,  0., -1.]])\n",
      "tensor([[-0.5000, -0.1992,  0.5000, -0.5000],\n",
      "        [-0.5000, -0.1029,  0.5000, -0.4949]])\n",
      "\n",
      "Sine and arcsine:\n",
      "tensor([0.0000, 0.7854, 1.5708, 2.3562])\n",
      "tensor([0.0000, 0.7071, 1.0000, 0.7071])\n",
      "tensor([0.0000, 0.7854, 1.5708, 0.7854])\n",
      "\n",
      "Bitwise XOR:\n",
      "tensor([3, 2, 1])\n",
      "\n",
      "Broadcasted, element-wise equality comparison:\n",
      "tensor([[ True, False],\n",
      "        [False, False]])\n",
      "\n",
      "Reduction ops:\n",
      "tensor(4.)\n",
      "4.0\n",
      "tensor(2.5000)\n",
      "tensor(1.2910)\n",
      "tensor(24.)\n",
      "tensor([1, 2])\n",
      "\n",
      "Vectors & Matrices:\n",
      "tensor([ 0.,  0., -1.])\n",
      "tensor([[0.6923, 0.7545],\n",
      "        [0.7746, 0.2330]])\n",
      "tensor([[2.0769, 2.2636],\n",
      "        [2.3237, 0.6990]])\n",
      "torch.return_types.svd(\n",
      "U=tensor([[-0.7959, -0.6054],\n",
      "        [-0.6054,  0.7959]]),\n",
      "S=tensor([3.7831, 1.0066]),\n",
      "V=tensor([[-0.8088,  0.5881],\n",
      "        [-0.5881, -0.8088]]))\n"
     ]
    }
   ],
   "source": [
    "# common functions\n",
    "a = torch.rand(2, 4) * 2 - 1\n",
    "print('Common functions:')\n",
    "print(torch.abs(a))\n",
    "print(torch.ceil(a))\n",
    "print(torch.floor(a))\n",
    "print(torch.clamp(a, -0.5, 0.5))\n",
    "\n",
    "# trigonometric functions and their inverses\n",
    "angles = torch.tensor([0, math.pi / 4, math.pi / 2, 3 * math.pi / 4])\n",
    "sines = torch.sin(angles)\n",
    "inverses = torch.asin(sines)\n",
    "print('\\nSine and arcsine:')\n",
    "print(angles)\n",
    "print(sines)\n",
    "print(inverses)\n",
    "\n",
    "# bitwise operations\n",
    "print('\\nBitwise XOR:')\n",
    "b = torch.tensor([1, 5, 11])\n",
    "c = torch.tensor([2, 7, 10])\n",
    "print(torch.bitwise_xor(b, c))\n",
    "\n",
    "# comparisons:\n",
    "print('\\nBroadcasted, element-wise equality comparison:')\n",
    "d = torch.tensor([[1., 2.], [3., 4.]])\n",
    "e = torch.ones(1, 2)  # many comparison ops support broadcasting!\n",
    "print(torch.eq(d, e)) # returns a tensor of type bool\n",
    "\n",
    "# reductions:\n",
    "print('\\nReduction ops:')\n",
    "print(torch.max(d))        # returns a single-element tensor\n",
    "print(torch.max(d).item()) # extracts the value from the returned tensor\n",
    "print(torch.mean(d))       # average\n",
    "print(torch.std(d))        # standard deviation\n",
    "print(torch.prod(d))       # product of all numbers\n",
    "print(torch.unique(torch.tensor([1, 2, 1, 2, 1, 2]))) # filter unique elements\n",
    "\n",
    "# vector and linear algebra operations\n",
    "v1 = torch.tensor([1., 0., 0.])         # x unit vector\n",
    "v2 = torch.tensor([0., 1., 0.])         # y unit vector\n",
    "m1 = torch.rand(2, 2)                   # random matrix\n",
    "m2 = torch.tensor([[3., 0.], [0., 3.]]) # three times identity matrix\n",
    "\n",
    "print('\\nVectors & Matrices:')\n",
    "print(torch.cross(v2, v1)) # negative of z unit vector (v1 x v2 == -v2 x v1)\n",
    "print(m1)\n",
    "m3 = torch.matmul(m1, m2)\n",
    "print(m3)                  # 3 times m1\n",
    "print(torch.svd(m3))       # singular value decomposition"
   ]
  },
  {
   "attachments": {},
   "cell_type": "markdown",
   "metadata": {},
   "source": [
    "This is a small sample of For more details and the full inventory of math functions, have a look at the [documentation](https://pytorch.org/docs/stable/torch.html#math-operations).\n",
    "\n",
    "### Altering Tensors in Place\n",
    "\n",
    "Most binary operations on tensors will return a third, new tensor. When we say `c = a * b` (where `a` and `b` are tensors), the new tensor `c` will occupy a region of memory distinct from the other tensors.\n",
    "\n",
    "There are times, though, that you may wish to alter a tensor in place - for example, if you're doing an element-wise computation where you can discard intermediate values. For this, most of the math functions have a version with an appended underscore (`_`) that will alter a tensor in place.\n",
    "\n",
    "For example:"
   ]
  },
  {
   "cell_type": "code",
   "execution_count": 15,
   "metadata": {},
   "outputs": [
    {
     "name": "stdout",
     "output_type": "stream",
     "text": [
      "a:\n",
      "tensor([0.0000, 0.7854, 1.5708, 2.3562])\n",
      "tensor([0.0000, 0.7071, 1.0000, 0.7071])\n",
      "tensor([0.0000, 0.7854, 1.5708, 2.3562])\n",
      "\n",
      "b:\n",
      "tensor([0.0000, 0.7854, 1.5708, 2.3562])\n",
      "tensor([0.0000, 0.7071, 1.0000, 0.7071])\n",
      "tensor([0.0000, 0.7071, 1.0000, 0.7071])\n"
     ]
    }
   ],
   "source": [
    "a = torch.tensor([0, math.pi / 4, math.pi / 2, 3 * math.pi / 4])\n",
    "print('a:')\n",
    "print(a)\n",
    "print(torch.sin(a))   # this operation creates a new tensor in memory\n",
    "print(a)              # a has not changed\n",
    "\n",
    "b = torch.tensor([0, math.pi / 4, math.pi / 2, 3 * math.pi / 4])\n",
    "print('\\nb:')\n",
    "print(b)\n",
    "print(torch.sin_(b))  # note the underscore\n",
    "print(b)              # b has changed"
   ]
  },
  {
   "attachments": {},
   "cell_type": "markdown",
   "metadata": {},
   "source": [
    "For arithmetic operations, there are functions that behave similarly:"
   ]
  },
  {
   "cell_type": "code",
   "execution_count": 16,
   "metadata": {},
   "outputs": [
    {
     "name": "stdout",
     "output_type": "stream",
     "text": [
      "Before:\n",
      "tensor([[1., 1.],\n",
      "        [1., 1.]])\n",
      "tensor([[0.8441, 0.9004],\n",
      "        [0.3995, 0.6324]])\n",
      "\n",
      "After adding:\n",
      "tensor([[1.8441, 1.9004],\n",
      "        [1.3995, 1.6324]])\n",
      "tensor([[1.8441, 1.9004],\n",
      "        [1.3995, 1.6324]])\n",
      "tensor([[0.8441, 0.9004],\n",
      "        [0.3995, 0.6324]])\n",
      "\n",
      "After multiplying\n",
      "tensor([[0.7125, 0.8107],\n",
      "        [0.1596, 0.3999]])\n",
      "tensor([[0.7125, 0.8107],\n",
      "        [0.1596, 0.3999]])\n"
     ]
    }
   ],
   "source": [
    "a = torch.ones(2, 2)\n",
    "b = torch.rand(2, 2)\n",
    "\n",
    "print('Before:')\n",
    "print(a)\n",
    "print(b)\n",
    "print('\\nAfter adding:')\n",
    "print(a.add_(b))\n",
    "print(a)\n",
    "print(b)\n",
    "print('\\nAfter multiplying')\n",
    "print(b.mul_(b))\n",
    "print(b)"
   ]
  },
  {
   "attachments": {},
   "cell_type": "markdown",
   "metadata": {},
   "source": [
    "Note that these in-place arithmetic functions are methods on the `torch.Tensor` object, not attached to the `torch` module like many other functions (e.g., `torch.sin()`). As you can see from `a.add_(b)`, *the calling tensor is the one that gets changed in place.*\n",
    "\n",
    "There is another option for placing the result of a computation in an existing, allocated tensor. Many of the methods and functions we've seen so far - including creation methods! - have an `out` argument that lets you specify a tensor to receive the output. If the `out` tensor is the correct shape and `dtype`, this can happen without a new memory allocation:"
   ]
  },
  {
   "cell_type": "code",
   "execution_count": 17,
   "metadata": {},
   "outputs": [
    {
     "name": "stdout",
     "output_type": "stream",
     "text": [
      "tensor([[0., 0.],\n",
      "        [0., 0.]])\n",
      "tensor([[0.6202, 0.3974],\n",
      "        [0.4075, 0.6706]])\n",
      "tensor([[0.4491, 0.6265],\n",
      "        [0.9411, 0.4922]])\n"
     ]
    }
   ],
   "source": [
    "a = torch.rand(2, 2)\n",
    "b = torch.rand(2, 2)\n",
    "c = torch.zeros(2, 2)\n",
    "old_id = id(c)\n",
    "\n",
    "print(c)\n",
    "d = torch.matmul(a, b, out=c)\n",
    "print(c)                # contents of c have changed\n",
    "\n",
    "assert c is d           # test c & d are same object, not just containing equal values\n",
    "assert id(c), old_id    # make sure that our new c is the same object as the old one\n",
    "\n",
    "torch.rand(2, 2, out=c) # works for creation too!\n",
    "print(c)                # c has changed again\n",
    "assert id(c), old_id    # still the same object!"
   ]
  },
  {
   "attachments": {},
   "cell_type": "markdown",
   "metadata": {},
   "source": [
    "## Copying Tensors\n",
    "\n",
    "As with any object in Python, assigning a tensor to a variable makes the variable a *label* of the tensor, and does not copy it. For example:"
   ]
  },
  {
   "cell_type": "code",
   "execution_count": 18,
   "metadata": {},
   "outputs": [
    {
     "name": "stdout",
     "output_type": "stream",
     "text": [
      "tensor([[  1., 561.],\n",
      "        [  1.,   1.]])\n"
     ]
    }
   ],
   "source": [
    "a = torch.ones(2, 2)\n",
    "b = a\n",
    "\n",
    "a[0][1] = 561  # we change a...\n",
    "print(b)       # ...and b is also altered"
   ]
  },
  {
   "attachments": {},
   "cell_type": "markdown",
   "metadata": {},
   "source": [
    "But what if you want a separate copy of the data to work on? The `clone()` method is there for you:"
   ]
  },
  {
   "cell_type": "code",
   "execution_count": 19,
   "metadata": {},
   "outputs": [
    {
     "name": "stdout",
     "output_type": "stream",
     "text": [
      "tensor([[True, True],\n",
      "        [True, True]])\n",
      "tensor([[1., 1.],\n",
      "        [1., 1.]])\n"
     ]
    }
   ],
   "source": [
    "a = torch.ones(2, 2)\n",
    "b = a.clone()\n",
    "\n",
    "assert b is not a      # different objects in memory...\n",
    "print(torch.eq(a, b))  # ...but still with the same contents!\n",
    "\n",
    "a[0][1] = 561          # a changes...\n",
    "print(b)               # ...but b is still all ones"
   ]
  },
  {
   "attachments": {},
   "cell_type": "markdown",
   "metadata": {},
   "source": [
    "**There is an important thing to be aware of when using `clone()`.** If your source tensor has autograd, enabled then so will the clone. **This will be covered more deeply in the video on autograd,** but if you want the light version of the details, continue on.\n",
    "\n",
    "*In many cases, this will be what you want.* For example, if your model has multiple computation paths in its `forward()` method, and *both* the original tensor and its clone contribute to the model's output, then to enable model learning you want autograd turned on for both tensors. If your source tensor has autograd enabled (which it generally will if it's a set of learning weights or derived from a computation involving the weights), then you'll get the result you want.\n",
    "\n",
    "On the other hand, if you're doing a computation where *neither* the original tensor nor its clone need to track gradients, then as long as the source tensor has autograd turned off, you're good to go.\n",
    "\n",
    "*There is a third case,* though: Imagine you're performing a computation in your model's `forward()` function, where gradients are turned on for everything by default, but you want to pull out some values mid-stream to generate some metrics. In this case, you *don't* want the cloned copy of your source tensor to track gradients - performance is improved with autograd's history tracking turned off. For this, you can use the `.detach()` method on the source tensor:"
   ]
  },
  {
   "cell_type": "code",
   "execution_count": 20,
   "metadata": {},
   "outputs": [
    {
     "name": "stdout",
     "output_type": "stream",
     "text": [
      "tensor([[0.5461, 0.5396],\n",
      "        [0.3053, 0.1973]], requires_grad=True)\n",
      "tensor([[0.5461, 0.5396],\n",
      "        [0.3053, 0.1973]], grad_fn=<CloneBackward>)\n",
      "tensor([[0.5461, 0.5396],\n",
      "        [0.3053, 0.1973]])\n",
      "tensor([[0.5461, 0.5396],\n",
      "        [0.3053, 0.1973]], requires_grad=True)\n"
     ]
    }
   ],
   "source": [
    "a = torch.rand(2, 2, requires_grad=True) # turn on autograd\n",
    "print(a)\n",
    "\n",
    "b = a.clone()\n",
    "print(b)\n",
    "\n",
    "c = a.detach().clone()\n",
    "print(c)\n",
    "\n",
    "print(a)"
   ]
  },
  {
   "attachments": {},
   "cell_type": "markdown",
   "metadata": {},
   "source": [
    "What's happening here?\n",
    "\n",
    "* We create `a` with `requires_grad=True` turned on. **We haven't covered this optional argument yet, but will during the unit on autograd.**\n",
    "* When we print `a`, it informs us that the property `requires_grad=True` - this means that autograd and computation history tracking are turned on.\n",
    "* We clone `a` and label it `b`. When we print `b`, we can see that it's tracking its computation history - it has inherited `a`'s autograd settings, and added to the computation history.\n",
    "* We clone `a` into `c`, but we call `detach()` first.\n",
    "* Printing `c`, we see no computation history, and no `requires_grad=True`.\n",
    "\n",
    "The `detach()` method *detaches the tensor from its computation history.* It says, \"do whatever comes next as if autograd was off.\" It does this *without* changing `a` - you can see that when we print `a` again at the end, it retains its `requires_grad=True` property.\n",
    "\n",
    "## Moving to GPU\n",
    "\n",
    "One of the major advantages of PyTorch is its robust acceleration on CUDA-compatible Nvidia GPUs. (\"CUDA\" stands for *Compute Unified Device Architecture*, which is Nvidia's platform for parallel computing.) So far, everything we've done has been on CPU. How do we move to the faster hardware?\n",
    "\n",
    "First, we should check whether a GPU is available, with the `is_available()` method.\n",
    "\n",
    "**Note: If you do not have a CUDA-compatible GPU and CUDA drivers installed, the executable cells in this section will not execute any GPU-related code.**"
   ]
  },
  {
   "cell_type": "code",
   "execution_count": 21,
   "metadata": {},
   "outputs": [
    {
     "name": "stdout",
     "output_type": "stream",
     "text": [
      "Sorry, CPU only.\n"
     ]
    }
   ],
   "source": [
    "if torch.cuda.is_available():\n",
    "    print('We have a GPU!')\n",
    "else:\n",
    "    print('Sorry, CPU only.')"
   ]
  },
  {
   "attachments": {},
   "cell_type": "markdown",
   "metadata": {},
   "source": [
    "Once we've determined that one or more GPUs is available, we need to put our data someplace where the GPU can see it. Your CPU does computation on data in your computer's RAM. Your GPU has dedicated memory attached to it. Whenever you want to perform a computation on a device, you must move *all* the data needed for that computation to memory accessible by that device. (Colloquially, \"moving the data to memory accessible by the GPU\" is shorted to, \"moving the data to the GPU\".)\n",
    "\n",
    "There are multiple ways to get your data onto your target device. You may do it at creation time:"
   ]
  },
  {
   "cell_type": "code",
   "execution_count": 22,
   "metadata": {},
   "outputs": [
    {
     "name": "stdout",
     "output_type": "stream",
     "text": [
      "Sorry, CPU only.\n"
     ]
    }
   ],
   "source": [
    "if torch.cuda.is_available():\n",
    "    gpu_rand = torch.rand(2, 2, device='cuda')\n",
    "    print(gpu_rand)\n",
    "else:\n",
    "    print('Sorry, CPU only.')"
   ]
  },
  {
   "attachments": {},
   "cell_type": "markdown",
   "metadata": {},
   "source": [
    "By default, new tensors are created on the CPU, so we have to specify when we want to create our tensor on the GPU with the optional `device` argument. You can see when we print the new tensor, PyTorch informs us which device it's on (if it's not on CPU).\n",
    "\n",
    "You can query the number of GPUs with `torch.cuda.device_count()`. If you have more than one GPU, you can specify them by index: `device='cuda:0'`, `device='cuda:1'`, etc.\n",
    "\n",
    "As a coding practice, specifying our devices everywhere with string constants is pretty fragile. In an ideal world, your code would perform robustly whether you're on CPU or GPU hardware. You can do this by creating a device handle that can be passed to your tensors instead of a string:"
   ]
  },
  {
   "cell_type": "code",
   "execution_count": 23,
   "metadata": {},
   "outputs": [
    {
     "name": "stdout",
     "output_type": "stream",
     "text": [
      "Device: cpu\n",
      "tensor([[0.3285, 0.5655],\n",
      "        [0.0065, 0.7765]])\n"
     ]
    }
   ],
   "source": [
    "if torch.cuda.is_available():\n",
    "    my_device = torch.device('cuda')\n",
    "else:\n",
    "    my_device = torch.device('cpu')\n",
    "print('Device: {}'.format(my_device))\n",
    "\n",
    "x = torch.rand(2, 2, device=my_device)\n",
    "print(x)"
   ]
  },
  {
   "attachments": {},
   "cell_type": "markdown",
   "metadata": {},
   "source": [
    "If you have an existing tensor living on one device, you can move it to another with the `to()` method. The following line of code creates a tensor on CPU, and moves it to whichever device handle you acquired in the previous cell."
   ]
  },
  {
   "cell_type": "code",
   "execution_count": 24,
   "metadata": {},
   "outputs": [],
   "source": [
    "y = torch.rand(2, 2)\n",
    "y = y.to(my_device)"
   ]
  },
  {
   "attachments": {},
   "cell_type": "markdown",
   "metadata": {},
   "source": [
    "It is important to know that in order to do computation involving two or more tensors, *all of the tensors must be on the same device*. The following code will throw a runtime error, regardless of whether you have a GPU device available:\n",
    "\n",
    "```\n",
    "x = torch.rand(2, 2)\n",
    "y = torch.rand(2, 2, device='gpu')\n",
    "z = x + y  # exception will be thrown\n",
    "```"
   ]
  },
  {
   "attachments": {},
   "cell_type": "markdown",
   "metadata": {},
   "source": [
    "## Manipulating Tensor Shapes\n",
    "\n",
    "Sometimes, you'll need to change the shape of your tensor. Below, we'll look at a few common cases, and how to handle them.\n",
    "\n",
    "### Changing the Number of Dimensions\n",
    "\n",
    "One case where you might need to change the number of dimensions is passing a single instance of input to your model. PyTorch models generally expect *batches* of input.\n",
    "\n",
    "For example, imagine having a model that works on 3 x 226 x 226 images - a 226-pixel square with 3 color channels. When you load and transform it, you'll get a tensor of shape `(3, 226, 226)`. Your model, though, is expecting input of shape `(N, 3, 226, 226)`, where `N` is the number of images in the batch. So how do you make a batch of one?"
   ]
  },
  {
   "cell_type": "code",
   "execution_count": 25,
   "metadata": {},
   "outputs": [
    {
     "name": "stdout",
     "output_type": "stream",
     "text": [
      "torch.Size([3, 226, 226])\n",
      "torch.Size([1, 3, 226, 226])\n"
     ]
    }
   ],
   "source": [
    "a = torch.rand(3, 226, 226)\n",
    "b = a.unsqueeze(0)\n",
    "\n",
    "print(a.shape)\n",
    "print(b.shape)"
   ]
  },
  {
   "attachments": {},
   "cell_type": "markdown",
   "metadata": {},
   "source": [
    "The `unsqueeze()` method adds a dimension of extent 1. `unsqueeze(0)` adds it as a new zeroth dimension - now you have a batch of one!\n",
    "\n",
    "So if that's *un*squeezing? What do we mean by squeezing? We're taking advantage of the fact that any dimension of extent 1 *does not* change the number of elements in the tensor."
   ]
  },
  {
   "cell_type": "code",
   "execution_count": 26,
   "metadata": {},
   "outputs": [
    {
     "name": "stdout",
     "output_type": "stream",
     "text": [
      "tensor([[[[[0.8960]]]]])\n"
     ]
    }
   ],
   "source": [
    "c = torch.rand(1, 1, 1, 1, 1)\n",
    "print(c)"
   ]
  },
  {
   "attachments": {},
   "cell_type": "markdown",
   "metadata": {},
   "source": [
    "Continuing the example above, let's say the model's output is a 20-element vector for each input. You would then expect the output to have shape `(N, 20)`, where `N` is the number of instances in the input batch. That means that for our single-input batch, we'll get an output of shape `(1, 20)`.\n",
    "\n",
    "What if you want to do some *non-batched* computation with that output - something that's just expecting a 20-element vector?"
   ]
  },
  {
   "cell_type": "code",
   "execution_count": 27,
   "metadata": {},
   "outputs": [
    {
     "name": "stdout",
     "output_type": "stream",
     "text": [
      "torch.Size([1, 20])\n",
      "tensor([[0.4887, 0.8625, 0.6191, 0.9935, 0.1844, 0.6138, 0.6854, 0.0438, 0.0636,\n",
      "         0.2884, 0.4362, 0.2368, 0.1394, 0.1721, 0.1751, 0.3851, 0.0732, 0.3118,\n",
      "         0.9180, 0.7293]])\n",
      "torch.Size([20])\n",
      "tensor([0.4887, 0.8625, 0.6191, 0.9935, 0.1844, 0.6138, 0.6854, 0.0438, 0.0636,\n",
      "        0.2884, 0.4362, 0.2368, 0.1394, 0.1721, 0.1751, 0.3851, 0.0732, 0.3118,\n",
      "        0.9180, 0.7293])\n",
      "torch.Size([2, 2])\n",
      "torch.Size([2, 2])\n"
     ]
    }
   ],
   "source": [
    "a = torch.rand(1, 20)\n",
    "print(a.shape)\n",
    "print(a)\n",
    "\n",
    "b = a.squeeze(0)\n",
    "print(b.shape)\n",
    "print(b)\n",
    "\n",
    "c = torch.rand(2, 2)\n",
    "print(c.shape)\n",
    "\n",
    "d = c.squeeze(0)\n",
    "print(d.shape)"
   ]
  },
  {
   "attachments": {},
   "cell_type": "markdown",
   "metadata": {},
   "source": [
    "You can see from the shapes that our 2-dimensional tensor is now 1-dimensional, and if you look closely at the output of the cell above you'll see that printing `a` shows an \"extra\" set of square brackets `[]` due to having an extra dimension.\n",
    "\n",
    "You may only `squeeze()` dimensions of extent 1. See above where we try to squeeze a dimension of size 2 in `c`, and get back the same shape we started with. Calls to `squeeze()` and `unsqueeze()` can only act on dimensions of extent 1 because to do otherwise would change the number of elements in the tensor.\n",
    "\n",
    "Another place you might use `unsqueeze()` is to ease broadcasting. Recall the example above where we had the following code:\n",
    "\n",
    "```\n",
    "a =     torch.ones(4, 3, 2)\n",
    "\n",
    "c = a * torch.rand(   3, 1) # 3rd dim = 1, 2nd dim identical to a\n",
    "print(c)\n",
    "```\n",
    "\n",
    "The net effect of that was to broadcast the operation over dimensions 0 and 2, causing the random, 3 x 1 tensor to be multiplied element-wise by every 3-element column in `a`.\n",
    "\n",
    "What if the random vector had just been  3-element vector? We'd lose the ability to do the broadcast, because the final dimensions would not match up according to the broadcasting rules. `unsqueeze()` comes to the rescue:"
   ]
  },
  {
   "cell_type": "code",
   "execution_count": 28,
   "metadata": {},
   "outputs": [
    {
     "name": "stdout",
     "output_type": "stream",
     "text": [
      "torch.Size([3, 1])\n",
      "tensor([[[0.3142, 0.3142],\n",
      "         [0.8068, 0.8068],\n",
      "         [0.6503, 0.6503]],\n",
      "\n",
      "        [[0.3142, 0.3142],\n",
      "         [0.8068, 0.8068],\n",
      "         [0.6503, 0.6503]],\n",
      "\n",
      "        [[0.3142, 0.3142],\n",
      "         [0.8068, 0.8068],\n",
      "         [0.6503, 0.6503]],\n",
      "\n",
      "        [[0.3142, 0.3142],\n",
      "         [0.8068, 0.8068],\n",
      "         [0.6503, 0.6503]]])\n"
     ]
    }
   ],
   "source": [
    "a = torch.ones(4, 3, 2)\n",
    "b = torch.rand(   3)     # trying to multiply a * b will give a runtime error\n",
    "c = b.unsqueeze(1)       # change to a 2-dimensional tensor, adding new dim at the end\n",
    "print(c.shape)\n",
    "print(a * c)             # broadcasting works again!"
   ]
  },
  {
   "attachments": {},
   "cell_type": "markdown",
   "metadata": {},
   "source": [
    "The `squeeze()` and `unsqueeze()` methods also have in-place versions, `squeeze_()` and `unsqueeze_()`:"
   ]
  },
  {
   "cell_type": "code",
   "execution_count": 29,
   "metadata": {},
   "outputs": [
    {
     "name": "stdout",
     "output_type": "stream",
     "text": [
      "torch.Size([3, 226, 226])\n",
      "torch.Size([1, 3, 226, 226])\n"
     ]
    }
   ],
   "source": [
    "batch_me = torch.rand(3, 226, 226)\n",
    "print(batch_me.shape)\n",
    "batch_me.unsqueeze_(0)\n",
    "print(batch_me.shape)"
   ]
  },
  {
   "attachments": {},
   "cell_type": "markdown",
   "metadata": {},
   "source": [
    "Sometimes you'll want to change the shape of a tensor more radically, while still preserving the number of elements and their contents. One case where this happens is at the interface between a convolutional layer of a model and a linear layer of the model - this is common in image classification models. A convolution kernel will yield an output tensor of shape *features x width x height,* but the following linear layer expects a 1-dimensional input. `reshape()` will do this for you, provided that the dimensions you request yield the same number of elements as the input tensor has:"
   ]
  },
  {
   "cell_type": "code",
   "execution_count": 30,
   "metadata": {},
   "outputs": [
    {
     "name": "stdout",
     "output_type": "stream",
     "text": [
      "torch.Size([6, 20, 20])\n",
      "torch.Size([2400])\n",
      "torch.Size([2400])\n"
     ]
    }
   ],
   "source": [
    "output3d = torch.rand(6, 20, 20)\n",
    "print(output3d.shape)\n",
    "\n",
    "input1d = output3d.reshape(6 * 20 * 20)\n",
    "print(input1d.shape)\n",
    "\n",
    "# can also call it as a method on the torch module:\n",
    "print(torch.reshape(output3d, (6 * 20 * 20,)).shape)"
   ]
  },
  {
   "attachments": {},
   "cell_type": "markdown",
   "metadata": {},
   "source": [
    "*(Note: The `(6 * 20 * 20,)` argument in the final line of the cell above is because PyTorch expects a **tuple** when specifying a tensor shape - but when the shape is the first argument of a method, it lets us cheat and just use a series of integers. Here, we had to add the parentheses and comma to convince the method that this is really a one-element tuple.)*\n",
    "\n",
    "When it can, `reshape()` will return a *view* on the tensor to be changed - that is, a separate tensor object looking at the same underlying region of memory. *This is important:* That means any change made to the source tensor will be reflected in the view on that tensor, unless you `clone()` it.\n",
    "\n",
    "There *are* conditions, beyond the scope of this introduction, where `reshape()` has to return a tensor carrying a copy of the data. For more information, see the [docs](https://pytorch.org/docs/stable/torch.html#torch.reshape)."
   ]
  },
  {
   "attachments": {},
   "cell_type": "markdown",
   "metadata": {},
   "source": [
    "## NumPy Bridge\n",
    "\n",
    "In the section above on broadcasting, it was mentioned that PyTorch's broadcast semantics are compatible with NumPy's - but the kinship between PyTorch and NumPy goes even deeper than that.\n",
    "\n",
    "If you have existing ML or scientific code with data stored in NumPy ndarrays, you may wish to express that same data as PyTorch tensors, whether to take advantage of PyTorch's GPU acceleration, or its efficient abstractions for building ML models. It's easy to switch between ndarrays and PyTorch tensors:"
   ]
  },
  {
   "cell_type": "code",
   "execution_count": 31,
   "metadata": {},
   "outputs": [
    {
     "name": "stdout",
     "output_type": "stream",
     "text": [
      "[[1. 1. 1.]\n",
      " [1. 1. 1.]]\n",
      "tensor([[1., 1., 1.],\n",
      "        [1., 1., 1.]], dtype=torch.float64)\n"
     ]
    }
   ],
   "source": [
    "import numpy as np\n",
    "\n",
    "numpy_array = np.ones((2, 3))\n",
    "print(numpy_array)\n",
    "\n",
    "pytorch_tensor = torch.from_numpy(numpy_array)\n",
    "print(pytorch_tensor)"
   ]
  },
  {
   "attachments": {},
   "cell_type": "markdown",
   "metadata": {},
   "source": [
    "PyTorch creates a tensor of the same shape and containing the same data as the NumPy array, going so far as to keep NumPy's default 64-bit float data type.\n",
    "\n",
    "The conversion can just as easily go the other way:"
   ]
  },
  {
   "cell_type": "code",
   "execution_count": 32,
   "metadata": {},
   "outputs": [
    {
     "name": "stdout",
     "output_type": "stream",
     "text": [
      "tensor([[0.5647, 0.9160, 0.7783],\n",
      "        [0.8277, 0.4579, 0.6382]])\n",
      "[[0.5646949  0.91600937 0.77828014]\n",
      " [0.82769746 0.45785618 0.6381657 ]]\n"
     ]
    }
   ],
   "source": [
    "pytorch_rand = torch.rand(2, 3)\n",
    "print(pytorch_rand)\n",
    "\n",
    "numpy_rand = pytorch_rand.numpy()\n",
    "print(numpy_rand)"
   ]
  },
  {
   "attachments": {},
   "cell_type": "markdown",
   "metadata": {},
   "source": [
    "It is important to know that these converted objects are using *the same underlying memory* as their source objects, meaning that changes to one are reflected in the other:"
   ]
  },
  {
   "cell_type": "code",
   "execution_count": 33,
   "metadata": {},
   "outputs": [
    {
     "name": "stdout",
     "output_type": "stream",
     "text": [
      "tensor([[ 1.,  1.,  1.],\n",
      "        [ 1., 23.,  1.]], dtype=torch.float64)\n",
      "[[ 0.5646949   0.91600937  0.77828014]\n",
      " [ 0.82769746 17.          0.6381657 ]]\n"
     ]
    }
   ],
   "source": [
    "numpy_array[1, 1] = 23\n",
    "print(pytorch_tensor)\n",
    "\n",
    "pytorch_rand[1, 1] = 17\n",
    "print(numpy_rand)"
   ]
  }
 ],
 "metadata": {
  "kernelspec": {
   "display_name": "Python 3",
   "language": "python",
   "name": "python3"
  },
  "language_info": {
   "codemirror_mode": {
    "name": "ipython",
    "version": 3
   },
   "file_extension": ".py",
   "mimetype": "text/x-python",
   "name": "python",
   "nbconvert_exporter": "python",
   "pygments_lexer": "ipython3",
   "version": "3.11.2"
  }
 },
 "nbformat": 4,
 "nbformat_minor": 4
}
