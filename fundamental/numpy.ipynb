{
 "cells": [
  {
   "cell_type": "code",
   "execution_count": 36,
   "metadata": {},
   "outputs": [],
   "source": [
    "import numpy as np\n",
    "import math"
   ]
  },
  {
   "attachments": {},
   "cell_type": "markdown",
   "metadata": {},
   "source": [
    "# Numpy:\n",
    "1. Terminology\n",
    "2. Getting information\n",
    "3. Random\n",
    "\n",
    "## 1. Terminology\n",
    "A brief note about Numpy and their number of dimensions, and terminology:\n",
    "1. O-dimensional tensor called a *scaler*.\n",
    "2. 1-dimensional tensor called a *vector*.\n",
    "3. Likewise, a 2-dimensional tensor is often referred to as a *matrix.*\n",
    "4. Anything with more than two dimensions is generally just called a multi dimentional numpy array or tensor."
   ]
  },
  {
   "attachments": {},
   "cell_type": "markdown",
   "metadata": {},
   "source": [
    "1. Scaler:"
   ]
  },
  {
   "cell_type": "code",
   "execution_count": 56,
   "metadata": {},
   "outputs": [
    {
     "data": {
      "text/plain": [
       "(1,\n",
       " (1,),\n",
       " 0.2793621769098912,\n",
       " array([0.27936218]),\n",
       " numpy.ndarray,\n",
       " array([0.27936218]))"
      ]
     },
     "execution_count": 56,
     "metadata": {},
     "output_type": "execute_result"
    }
   ],
   "source": [
    "scaler= np.random.rand(1)\n",
    "scaler.ndim, scaler.shape, scaler.item(), scaler, type(scaler), scaler"
   ]
  },
  {
   "attachments": {},
   "cell_type": "markdown",
   "metadata": {},
   "source": [
    "2. **Vector:** Algebraically, a vector is a collection of coordinates of a point in space. Thus, a vector with two values represents a point in a 2-dimensional space. In Computer Science, a vector is an arrangement of numbers along a single dimension. It is also commonly known as an array or a list or a tuple."
   ]
  },
  {
   "cell_type": "code",
   "execution_count": 58,
   "metadata": {},
   "outputs": [
    {
     "name": "stdout",
     "output_type": "stream",
     "text": [
      "<class 'numpy.ndarray'> [7 8] 1 (2,)\n"
     ]
    }
   ],
   "source": [
    "vector= np.array([7,8])\n",
    "print(type(vector), vector, vector.ndim, vector.shape)"
   ]
  },
  {
   "attachments": {},
   "cell_type": "markdown",
   "metadata": {},
   "source": [
    "3. **Matrix: 2 dimentional**"
   ]
  },
  {
   "cell_type": "code",
   "execution_count": 59,
   "metadata": {},
   "outputs": [
    {
     "name": "stdout",
     "output_type": "stream",
     "text": [
      "<class 'numpy.ndarray'>\n"
     ]
    },
    {
     "data": {
      "text/plain": [
       "(array([[ 7,  8],\n",
       "        [ 9, 10]]),\n",
       " (2, 2),\n",
       " 2,\n",
       " dtype('int64'))"
      ]
     },
     "execution_count": 59,
     "metadata": {},
     "output_type": "execute_result"
    }
   ],
   "source": [
    "## Matrix\n",
    "MATRIX=np.array([[7, 8], \n",
    "                    [9, 10]])\n",
    "print(type(MATRIX))\n",
    "MATRIX,MATRIX.shape, MATRIX.ndim,MATRIX.dtype"
   ]
  },
  {
   "attachments": {},
   "cell_type": "markdown",
   "metadata": {},
   "source": [
    "4. **Tensor or Multi-dimentional:**"
   ]
  },
  {
   "cell_type": "code",
   "execution_count": 61,
   "metadata": {},
   "outputs": [
    {
     "data": {
      "text/plain": [
       "(array([[[1, 2, 3],\n",
       "         [3, 6, 9],\n",
       "         [2, 4, 5]]]),\n",
       " (1, 3, 3),\n",
       " 3,\n",
       " numpy.ndarray)"
      ]
     },
     "execution_count": 61,
     "metadata": {},
     "output_type": "execute_result"
    }
   ],
   "source": [
    "# Tensor\n",
    "TENSOR = np.array([[[1, 2, 3],\n",
    "                        [3, 6, 9],\n",
    "                        [2, 4, 5]]])\n",
    "TENSOR, TENSOR.shape, TENSOR.ndim, type(TENSOR)"
   ]
  },
  {
   "attachments": {},
   "cell_type": "markdown",
   "metadata": {},
   "source": [
    "## 2. Getting Information:\n",
    "        1. type(x): type(tensor) will return the type of the numpy object.\n",
    "        2. x.dtype: tensor.dtype will give you the data type.\n",
    "        3. x.shape: tensor.shape will give you the shape of the numpy object.\n",
    "        4. x.size: tensor.size will give you the total number of elements.\n",
    "        5. x.ndim: The ndim attribute of a PyTorch tensor returns the number of dimensions (rank) of the object."
   ]
  },
  {
   "cell_type": "code",
   "execution_count": 62,
   "metadata": {},
   "outputs": [
    {
     "name": "stdout",
     "output_type": "stream",
     "text": [
      "<class 'numpy.ndarray'>\n",
      "int64\n",
      "(2, 3)\n",
      "6\n",
      "2\n",
      "int64\n"
     ]
    }
   ],
   "source": [
    "# Create a NumPy array\n",
    "array = np.array([[1, 2, 3], [4, 5, 6]])\n",
    "\n",
    "# Get type of the array\n",
    "print(type(array))\n",
    "\n",
    "# Get data type of the array\n",
    "print(array.dtype)\n",
    "\n",
    "# Get shape of the array\n",
    "print(array.shape)\n",
    "\n",
    "# Get total number of elements in the array\n",
    "print(array.size)\n",
    "\n",
    "# Get number of dimensions of the array\n",
    "print(array.ndim)\n",
    "\n",
    "# Get name of the data type\n",
    "print(array.dtype.name)"
   ]
  },
  {
   "cell_type": "code",
   "execution_count": 63,
   "metadata": {},
   "outputs": [
    {
     "name": "stdout",
     "output_type": "stream",
     "text": [
      "<class 'numpy.ndarray'> [7 8] 1 (2,)\n",
      "Matrix Info:  <class 'numpy.ndarray'> [[1 2]\n",
      " [2 3]\n",
      " [4 5]] 2 (3, 2)\n",
      "Matrix-2 Info:  <class 'numpy.ndarray'> \n",
      " [[[0.96103763 0.09813216 0.40699555 0.00837645 0.56805893]\n",
      "  [0.57660977 0.13714426 0.67221857 0.14287373 0.5092315 ]]\n",
      "\n",
      " [[0.36876195 0.24910739 0.13628212 0.11929113 0.05238813]\n",
      "  [0.43489931 0.77070538 0.85091418 0.62128267 0.37988769]]\n",
      "\n",
      " [[0.67991104 0.3137655  0.72663798 0.91448319 0.09489548]\n",
      "  [0.66497695 0.35687279 0.76229092 0.94500569 0.2237422 ]]] 3 (3, 2, 5)\n"
     ]
    }
   ],
   "source": [
    "vector= np.array([7,8])\n",
    "print(type(vector), vector, vector.ndim, vector.shape)\n",
    "matrix_1=np.array([[1,2],[2,3], [4,5]])\n",
    "print(\"Matrix Info: \",type(matrix_1), matrix_1, matrix_1.ndim, matrix_1.shape)\n",
    "matrix_2= np.random.rand(3,2,5)\n",
    "print(\"Matrix-2 Info: \",type(matrix_2),\"\\n\", matrix_2, matrix_2.ndim, matrix_2.shape)"
   ]
  },
  {
   "attachments": {},
   "cell_type": "markdown",
   "metadata": {},
   "source": [
    "**Note:** \n",
    "\n",
    "1. $shape=(2,)$ means that a 1-D arrray and index 0 has 2 elements.\n",
    "1. $shape=(3,2,5)$ means that a 2-D arrray and index[0] has 3 elements and index[1] has 2 elements and index[2] has 5 elements."
   ]
  },
  {
   "attachments": {},
   "cell_type": "markdown",
   "metadata": {},
   "source": [
    "## 3. numpy.random():\n",
    "This module contains the functions which are used for generating random numbers.\n",
    "\n",
    "Methods:\n",
    "\n",
    "1. `np.random.rand(d0, d1, ..., dn)`: This function of random module is used to generate random numbers or values in a given shape.\n",
    "2. `np.random.randn(d0, d1, ..., dn)`: This function of random module return a sample from the ***standard normal*** distribution.\n",
    "3. `np.random.randint(low, high=None, size=None, dtype=int)`: generate random integers from inclusive(low) to exclusive(high).\n",
    "4. `np.random.random_integers(low, high=None, size=None)`: generate random integers number of type np.int between low and high.\n",
    "5. `numpy.random.uniform(low=0.0, high=1.0, size=None)`:  generate random floating-point numbers within a specified range.\n",
    "6. `numpy.random.choice(a, size=None, replace=True, p=None)`: Generates a random sample from a given 1-D array.\n",
    "7. `numpy.random.normal(loc=0.0, scale=1.0, size=None)`: Draw random samples from a normal (Gaussian) distribution.\n",
    "8. `numpy.random.shuffle(x):` reorder the elements."
   ]
  },
  {
   "attachments": {},
   "cell_type": "markdown",
   "metadata": {},
   "source": [
    "### Creating array:\n",
    "1. np.random.rand(d0, d1, ...dn)\n",
    "2. np.random"
   ]
  },
  {
   "attachments": {},
   "cell_type": "markdown",
   "metadata": {},
   "source": []
  },
  {
   "cell_type": "code",
   "execution_count": null,
   "metadata": {},
   "outputs": [],
   "source": [
    "\n"
   ]
  },
  {
   "attachments": {},
   "cell_type": "markdown",
   "metadata": {},
   "source": []
  },
  {
   "cell_type": "code",
   "execution_count": 25,
   "metadata": {},
   "outputs": [
    {
     "data": {
      "text/plain": [
       "(array([[[-1.74976547,  0.3426804 ,  1.1530358 , -0.25243604],\n",
       "         [ 0.98132079,  0.51421884,  0.22117967, -1.07004333],\n",
       "         [-0.18949583,  0.25500144, -0.45802699,  0.43516349]],\n",
       " \n",
       "        [[-0.58359505,  0.81684707,  0.67272081, -0.10441114],\n",
       "         [-0.53128038,  1.02973269, -0.43813562, -1.11831825],\n",
       "         [ 1.61898166,  1.54160517, -0.25187914, -0.84243574]]]),\n",
       " (2, 3, 4),\n",
       " 3,\n",
       " array([[-0.58359505,  0.81684707,  0.67272081, -0.10441114],\n",
       "        [-0.53128038,  1.02973269, -0.43813562, -1.11831825],\n",
       "        [ 1.61898166,  1.54160517, -0.25187914, -0.84243574]]),\n",
       " array([[-1.74976547,  0.3426804 ,  1.1530358 , -0.25243604],\n",
       "        [ 0.98132079,  0.51421884,  0.22117967, -1.07004333],\n",
       "        [-0.18949583,  0.25500144, -0.45802699,  0.43516349]]))"
      ]
     },
     "execution_count": 25,
     "metadata": {},
     "output_type": "execute_result"
    }
   ],
   "source": [
    "np.random.seed(100)\n",
    "a= np.random.randn(2,3,4)\n",
    "a, a.shape, a.ndim, a[1], a[0]"
   ]
  },
  {
   "cell_type": "code",
   "execution_count": null,
   "metadata": {},
   "outputs": [],
   "source": []
  },
  {
   "attachments": {},
   "cell_type": "markdown",
   "metadata": {},
   "source": []
  },
  {
   "cell_type": "code",
   "execution_count": null,
   "metadata": {},
   "outputs": [],
   "source": []
  },
  {
   "attachments": {},
   "cell_type": "markdown",
   "metadata": {},
   "source": [
    "### Multiplication Rule:"
   ]
  },
  {
   "cell_type": "code",
   "execution_count": 26,
   "metadata": {},
   "outputs": [],
   "source": [
    "import numpy as np"
   ]
  },
  {
   "cell_type": "code",
   "execution_count": 35,
   "metadata": {},
   "outputs": [
    {
     "name": "stdout",
     "output_type": "stream",
     "text": [
      "A:  [[[0.29943802 0.85689553 0.47298399]\n",
      "  [0.66327705 0.80572861 0.2529805 ]\n",
      "  [0.07957344 0.73276061 0.96139748]]\n",
      "\n",
      " [[0.95380473 0.49049905 0.63219206]\n",
      "  [0.73299502 0.9024095  0.16224692]\n",
      "  [0.40588132 0.41709074 0.69559103]]] (2, 3, 3) 3\n",
      "B:  [[0.42484724 0.85811423 0.84693248]] (1, 3) 2\n",
      "a*b= [[[0.12721542 0.73531424 0.4005855 ]\n",
      "  [0.28179142 0.69140718 0.21425741]\n",
      "  [0.03380656 0.6287923  0.81423875]]\n",
      "\n",
      " [[0.40522131 0.42090421 0.53542399]\n",
      "  [0.31141091 0.77437043 0.13741219]\n",
      "  [0.17243756 0.35791149 0.58911863]]]\n",
      "np.matmul(a,b)= [[[1.26311516]\n",
      "  [1.18745601]\n",
      "  [1.4768376 ]]\n",
      "\n",
      " [[1.36154951]\n",
      "  [1.22319353]\n",
      "  [1.11946769]]]\n",
      "b-Shape: (1, 3) after transpose: (3, 1)\n"
     ]
    }
   ],
   "source": [
    "a= np.random.rand(2,3,3)\n",
    "b= np.random.rand(1,3)\n",
    "print(\"A: \", a, a.shape, a.ndim)\n",
    "print(\"B: \", b, b.shape, b.ndim)\n",
    "print(\"a*b=\",a*b)\n",
    "print(\"np.matmul(a,b)=\",np.matmul(a,b.T))\n",
    "print(\"b-Shape:\",b.shape,\"after transpose:\", b.T.shape)"
   ]
  },
  {
   "cell_type": "code",
   "execution_count": null,
   "metadata": {},
   "outputs": [],
   "source": []
  }
 ],
 "metadata": {
  "kernelspec": {
   "display_name": "Python 3",
   "language": "python",
   "name": "python3"
  },
  "language_info": {
   "codemirror_mode": {
    "name": "ipython",
    "version": 3
   },
   "file_extension": ".py",
   "mimetype": "text/x-python",
   "name": "python",
   "nbconvert_exporter": "python",
   "pygments_lexer": "ipython3",
   "version": "3.11.2"
  },
  "orig_nbformat": 4
 },
 "nbformat": 4,
 "nbformat_minor": 2
}
