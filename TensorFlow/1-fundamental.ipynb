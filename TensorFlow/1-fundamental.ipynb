{
 "cells": [
  {
   "cell_type": "code",
   "execution_count": 2,
   "metadata": {},
   "outputs": [
    {
     "name": "stdout",
     "output_type": "stream",
     "text": [
      "2.12.0\n"
     ]
    }
   ],
   "source": [
    "import tensorflow as tf\n",
    "\n",
    "print(tf.__version__)"
   ]
  },
  {
   "attachments": {},
   "cell_type": "markdown",
   "metadata": {},
   "source": [
    "# TensorFlow:\n",
    "\n",
    "TensorFlow is an open-source end-to-end machine learning library for preprocessing data, modelling data and serving models\n",
    "\n",
    "1. Terminology\n",
    "2. Getting information\n",
    "3. Tensor Random\n",
    "4. Create Tensor\n",
    "5. Tensor Data type\n",
    "6. Math and Logic with Pytorch\n",
    "7. Manipulating Tensor Shapes\n"
   ]
  },
  {
   "attachments": {},
   "cell_type": "markdown",
   "metadata": {},
   "source": [
    "### 1. Terminology\n",
    "\n",
    "A brief note about tensors and their number of dimensions, and terminology:\n",
    "\n",
    "1. O-dimensional tensor called a \\*scaler.\n",
    "2. 1-dimensional tensor called a \\*vector.\n",
    "3. Likewise, a 2-dimensional tensor is often referred to as a \\*matrix.\n",
    "4. Anything with more than two dimensions is generally just called a tensor.\n"
   ]
  },
  {
   "attachments": {},
   "cell_type": "markdown",
   "metadata": {},
   "source": [
    "**_By default, TensorFlow creates tensors with either an int32 or float32 datatype._**\n",
    "\n",
    "1. **Scalar**: A scalar is known as a rank 0 tensor. Because it has no dimensions (it's just a number).\n",
    "   O-dimensional tensor called a \\*scaler.\n"
   ]
  },
  {
   "cell_type": "code",
   "execution_count": 6,
   "metadata": {},
   "outputs": [
    {
     "name": "stdout",
     "output_type": "stream",
     "text": [
      "tf.Tensor(7, shape=(), dtype=int32) 0\n"
     ]
    }
   ],
   "source": [
    "scalar = tf.constant(7)\n",
    "print(scalar, scalar.ndim)  # ndim=0"
   ]
  },
  {
   "attachments": {},
   "cell_type": "markdown",
   "metadata": {},
   "source": [
    "2. Vector: 1 dimentional\n"
   ]
  },
  {
   "cell_type": "code",
   "execution_count": 8,
   "metadata": {},
   "outputs": [
    {
     "name": "stdout",
     "output_type": "stream",
     "text": [
      "tf.Tensor([12 13], shape=(2,), dtype=int32) 1\n"
     ]
    }
   ],
   "source": [
    "# one dimentinal\n",
    "vector = tf.constant([12, 13])\n",
    "print(vector, vector.ndim)  # ndim=1"
   ]
  },
  {
   "attachments": {},
   "cell_type": "markdown",
   "metadata": {},
   "source": [
    "3. Matrix: more than 1 dimentional(normaly 2 dimention).\n"
   ]
  },
  {
   "cell_type": "code",
   "execution_count": 10,
   "metadata": {},
   "outputs": [
    {
     "name": "stdout",
     "output_type": "stream",
     "text": [
      "tf.Tensor(\n",
      "[[12 13]\n",
      " [13 14]], shape=(2, 2), dtype=int32) 2\n"
     ]
    }
   ],
   "source": [
    "# matrix: more than 1 dimentional(normaly 2 dimention)\n",
    "matrix = tf.constant([[12, 13], [13, 14]])\n",
    "print(matrix, matrix.ndim)"
   ]
  },
  {
   "cell_type": "code",
   "execution_count": 12,
   "metadata": {},
   "outputs": [
    {
     "name": "stdout",
     "output_type": "stream",
     "text": [
      "tf.Tensor(\n",
      "[[10.  7.]\n",
      " [ 3.  2.]\n",
      " [ 8.  9.]], shape=(3, 2), dtype=float16) 2\n"
     ]
    }
   ],
   "source": [
    "# another matrix\n",
    "matrix_two = tf.constant([[10.0, 7.0], [3.0, 2.0], [8.0, 9.0]], dtype=tf.float16)\n",
    "print(matrix_two, matrix_two.ndim)  # ndim=2"
   ]
  },
  {
   "attachments": {},
   "cell_type": "markdown",
   "metadata": {},
   "source": [
    "4. Tensor: A tensor can have an arbitrary (unlimited) amount of dimensions.\n",
    "\n",
    "        For example, you might turn a series of images into tensors with shape (224, 224, 3, 32), where:\n",
    "- 224, 224 (the first 2 dimensions) are the height and width of the images in pixels.\n",
    "- 3 is the number of colour channels of the image (red, green blue).\n",
    "- 32 is the batch size (the number of images a neural network sees at any one time).\n"
   ]
  },
  {
   "cell_type": "code",
   "execution_count": 22,
   "metadata": {},
   "outputs": [
    {
     "name": "stdout",
     "output_type": "stream",
     "text": [
      "tf.Tensor(\n",
      "[[[ 1  2  3]\n",
      "  [ 4  5  6]]\n",
      "\n",
      " [[ 7  8  9]\n",
      "  [10 11 12]]\n",
      "\n",
      " [[13 14 15]\n",
      "  [16 17 18]]], shape=(3, 2, 3), dtype=int32) 3 tf.Tensor(18, shape=(), dtype=int32)\n"
     ]
    }
   ],
   "source": [
    "tensor = tf.constant(\n",
    "    [[[1, 2, 3], [4, 5, 6]], [[7, 8, 9], [10, 11, 12]], [[13, 14, 15], [16, 17, 18]]]\n",
    ")\n",
    "print(tensor, tensor.ndim, tf.size(tensor)) # 3 dimentional or rank=3"
   ]
  },
  {
   "attachments": {},
   "cell_type": "markdown",
   "metadata": {},
   "source": [
    "##### tf.Variable():\n",
    "The difference between `tf.Variable()` and `tf.constant()` is tensors created with `tf.constant()` are immutable (can't be changed, can only be used to create a new tensor), where as, tensors created with `tf.Variable()` are mutable (can be changed)."
   ]
  },
  {
   "cell_type": "code",
   "execution_count": 23,
   "metadata": {},
   "outputs": [
    {
     "data": {
      "text/plain": [
       "(<tf.Variable 'Variable:0' shape=(2,) dtype=int32, numpy=array([10,  7])>,\n",
       " <tf.Tensor: shape=(2,), dtype=int32, numpy=array([10,  7])>)"
      ]
     },
     "execution_count": 23,
     "metadata": {},
     "output_type": "execute_result"
    }
   ],
   "source": [
    "changeable_tensor = tf.Variable([10, 7])\n",
    "unchangeable_tensor = tf.constant([10, 7])\n",
    "changeable_tensor, unchangeable_tensor"
   ]
  },
  {
   "cell_type": "code",
   "execution_count": 24,
   "metadata": {},
   "outputs": [
    {
     "data": {
      "text/plain": [
       "<tf.Variable 'Variable:0' shape=(2,) dtype=int32, numpy=array([7, 7])>"
      ]
     },
     "execution_count": 24,
     "metadata": {},
     "output_type": "execute_result"
    }
   ],
   "source": [
    "## changing value using assign()\n",
    "changeable_tensor[0].assign(7) # 10 will be 7\n",
    "changeable_tensor"
   ]
  },
  {
   "cell_type": "code",
   "execution_count": 27,
   "metadata": {},
   "outputs": [
    {
     "data": {
      "text/plain": [
       "<tf.Tensor: shape=(2,), dtype=int32, numpy=array([10,  7])>"
      ]
     },
     "execution_count": 27,
     "metadata": {},
     "output_type": "execute_result"
    }
   ],
   "source": [
    "# Will error (can't change tf.constant())\n",
    "# unchangeable_tensor[0].assign(7)\n",
    "unchangeable_tensor"
   ]
  },
  {
   "attachments": {},
   "cell_type": "markdown",
   "metadata": {},
   "source": [
    "## 2. Getting Information\n",
    "1. Shape: The length (number of elements) of each of the dimensions of a tensor.\n",
    "2. Rank: The number of tensor dimensions. A scalar has rank 0, a vector has rank 1, a matrix is rank 2, a tensor has rank n.\n",
    "3. Axis or Dimension: A particular dimension of a tensor.\n",
    "4. Size: The total number of items in the tensor."
   ]
  },
  {
   "cell_type": "code",
   "execution_count": 31,
   "metadata": {},
   "outputs": [
    {
     "name": "stdout",
     "output_type": "stream",
     "text": [
      "(2, 3, 4, 5) 4 tf.Tensor(120, shape=(), dtype=int32)\n"
     ]
    }
   ],
   "source": [
    "rank_4_tensor = tf.zeros([2, 3, 4, 5])\n",
    "print(rank_4_tensor.shape, rank_4_tensor.ndim, tf.size(rank_4_tensor))"
   ]
  },
  {
   "cell_type": "code",
   "execution_count": 34,
   "metadata": {},
   "outputs": [
    {
     "name": "stdout",
     "output_type": "stream",
     "text": [
      "Datatype of every element: <dtype: 'float32'>\n",
      "Number of dimensions (rank): 4\n",
      "Shape of tensor: (2, 3, 4, 5)\n",
      "Elements along axis 0 of tensor: 2\n",
      "Elements along last axis of tensor: 5\n",
      "Total number of elements (2*3*4*5): 120\n"
     ]
    }
   ],
   "source": [
    "# Get various attributes of tensor\n",
    "print(\"Datatype of every element:\", rank_4_tensor.dtype)\n",
    "print(\"Number of dimensions (rank):\", rank_4_tensor.ndim)\n",
    "print(\"Shape of tensor:\", rank_4_tensor.shape)\n",
    "print(\"Elements along axis 0 of tensor:\", rank_4_tensor.shape[0])\n",
    "print(\"Elements along last axis of tensor:\", rank_4_tensor.shape[-1])\n",
    "print(\"Total number of elements (2*3*4*5):\", tf.size(rank_4_tensor).numpy()) # .numpy() converts to NumPy array"
   ]
  },
  {
   "attachments": {},
   "cell_type": "markdown",
   "metadata": {},
   "source": []
  },
  {
   "attachments": {},
   "cell_type": "markdown",
   "metadata": {},
   "source": [
    "## 3. TensorFlow Random:\n",
    "\n",
    "1. **tf.random.uniform(shape, minval=0, maxval=None, dtype=tf.float32, seed=None)**: generates a tensor with values drawn from a uniform distribution. You specify the shape of the output tensor, along with optional arguments such as minval (minimum value) and maxval (maximum value).\n",
    "\n",
    "2. **tf.random.normal(shape, mean=0.0, stddev=1.0, dtype=tf.float32, seed=None)**: generates a tensor with values drawn from a normal (Gaussian) distribution.\n",
    "\n",
    "3. **tf.random.truncated_normal(shape, mean=0.0, stddev=1.0, dtype=tf.float32, seed=None)**: generates a tensor with values drawn from a truncated normal distribution. The distribution is similar to the normal distribution, but any values more than two standard deviations from the mean are discarded and redrawn.\n",
    "\n",
    "4. **tf.random.shuffle(value, seed=None)**: This function shuffles the elements of a tensor along its first dimension. It is commonly used for randomizing the order of training data samples.\n",
    "\n",
    "5. **tf.random.set_seed(seed)**: It ensures that the random operations produce deterministic results across runs when using the same seed.\n"
   ]
  },
  {
   "cell_type": "code",
   "execution_count": null,
   "metadata": {},
   "outputs": [],
   "source": []
  }
 ],
 "metadata": {
  "kernelspec": {
   "display_name": "Python 3",
   "language": "python",
   "name": "python3"
  },
  "language_info": {
   "codemirror_mode": {
    "name": "ipython",
    "version": 3
   },
   "file_extension": ".py",
   "mimetype": "text/x-python",
   "name": "python",
   "nbconvert_exporter": "python",
   "pygments_lexer": "ipython3",
   "version": "3.11.3"
  },
  "orig_nbformat": 4
 },
 "nbformat": 4,
 "nbformat_minor": 2
}
