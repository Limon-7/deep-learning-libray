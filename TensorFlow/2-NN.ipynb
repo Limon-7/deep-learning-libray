{
 "cells": [
  {
   "cell_type": "markdown",
   "metadata": {},
   "source": [
    "Hyperparameter|Typical Values|\n",
    ":---|---:|\n",
    "Input Layer Shape| Smae as number of Features|\n",
    "Hidden Layer(s)|Problem specific; min=1; max=unlimited|\n",
    "Neourons per Hidden layer|Problem specific, generally 10 to 100|\n",
    "Output layer shape|Same shape as desired prediction shape (e.g. 1 for house price)|\n",
    "Hidden activation| Usally Relu|\n",
    "Output activation|None, Relu, logistic/tanh|\n",
    "Loss Function| MSE, MAE, Huber|\n",
    "Optimizer| SGD, Adam|\n"
   ]
  },
  {
   "cell_type": "markdown",
   "metadata": {},
   "source": [
    "#### What will do??\n",
    "1. Load a prebuilt dataset.\n",
    "2. Build a neural network machine learning model that classifies images.\n",
    "3. Train this neural network.\n",
    "4. Evaluate the accuracy of the model."
   ]
  },
  {
   "cell_type": "code",
   "execution_count": 2,
   "metadata": {},
   "outputs": [],
   "source": [
    "import tensorflow as tf;\n",
    "from tensorflow import keras\n",
    "import numpy as np\n",
    "import matplotlib.pylab as plt\n",
    "# tf.__version__"
   ]
  },
  {
   "cell_type": "markdown",
   "metadata": {},
   "source": [
    "##### Load Dataset"
   ]
  },
  {
   "cell_type": "code",
   "execution_count": 11,
   "metadata": {},
   "outputs": [
    {
     "name": "stdout",
     "output_type": "stream",
     "text": [
      "(60000, 28, 28) (60000,)\n",
      "0 255\n"
     ]
    }
   ],
   "source": [
    "mnist= keras.datasets.mnist\n",
    "(x_train, y_train),(x_test, y_test)=mnist.load_data()\n",
    "print(x_train.shape, y_train.shape) \n",
    "# 60000 images with w*h=28*28 and 60000 labels\n",
    "print(x_train.min(),x_train.max())"
   ]
  },
  {
   "cell_type": "markdown",
   "metadata": {},
   "source": [
    "Smaples 600000 and labels 600000 and image size=28*28  value=0,255\n",
    "\n",
    "2. Normalize: "
   ]
  },
  {
   "cell_type": "code",
   "execution_count": 13,
   "metadata": {},
   "outputs": [],
   "source": [
    "x_train, x_test=x_train/255.0, x_test/255.0"
   ]
  },
  {
   "cell_type": "code",
   "execution_count": 15,
   "metadata": {},
   "outputs": [],
   "source": [
    "def show_plt(x):\n",
    "    for i in range(6):\n",
    "        plt.subplot(2,3,i+1)\n",
    "        plt.imshow(x[i], cmap='gray')\n",
    "    plt.show()"
   ]
  },
  {
   "cell_type": "code",
   "execution_count": 16,
   "metadata": {},
   "outputs": [
    {
     "data": {
      "image/png": "[encoded data removed]",
      "text/plain": [
       "<Figure size 640x480 with 6 Axes>"
      ]
     },
     "metadata": {},
     "output_type": "display_data"
    }
   ],
   "source": [
    "show_plt(x_train)"
   ]
  },
  {
   "cell_type": "markdown",
   "metadata": {},
   "source": [
    "### Model:\n",
    "1. Sequential: Sequential model is basically a linear composition of Keras Layers. \n",
    "2. Dense: dense refer to a fully connected layer. `Dense(units=128, activation='relu')`\n",
    "    - units: determines the number of neurons.\n",
    "    - activation: add non linarity."
   ]
  },
  {
   "cell_type": "code",
   "execution_count": null,
   "metadata": {},
   "outputs": [],
   "source": []
  }
 ],
 "metadata": {
  "kernelspec": {
   "display_name": "Python 3",
   "language": "python",
   "name": "python3"
  },
  "language_info": {
   "codemirror_mode": {
    "name": "ipython",
    "version": 3
   },
   "file_extension": ".py",
   "mimetype": "text/x-python",
   "name": "python",
   "nbconvert_exporter": "python",
   "pygments_lexer": "ipython3",
   "version": "3.11.2"
  },
  "orig_nbformat": 4
 },
 "nbformat": 4,
 "nbformat_minor": 2
}
