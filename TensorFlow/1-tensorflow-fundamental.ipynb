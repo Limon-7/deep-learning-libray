{
 "cells": [
  {
   "attachments": {},
   "cell_type": "markdown",
   "metadata": {},
   "source": [
    "# TensorFlow:\n",
    "<a id='h_cell'></a>\n",
    "\n",
    "TensorFlow is an open-source end-to-end machine learning library for preprocessing data, modelling data and serving models.\n",
    "\n",
    "|#NO|Topic|Status|\n",
    "|--:|:---          |--:|\n",
    "|01| [Terminology](#ter_cell)||\n",
    "|02| [Getting information](#gi_cell)|\n",
    "|03| [***Tensor Random***](#random_cell)|\n",
    "|04| [***Create Tensor***](#ctensor_cell)|\n",
    "|05| [Tensor Data Type](#dtype_cell)|\n",
    "|06| [***Math and Logic with Tensorflow***](#math_cell)|\n",
    "|07| [***Manipulating Tensor Shape or Braodcasting***](#mts_cell)|\n",
    "|08| [***Array Accessing***](#aa_cell)|\n",
    "|09| [***Frequently used method***](#im_cell)|\n",
    "|09| [***Finding access to GPUs***](#gpu_cell)|\n"
   ]
  },
  {
   "cell_type": "code",
   "execution_count": 1,
   "metadata": {},
   "outputs": [
    {
     "name": "stdout",
     "output_type": "stream",
     "text": [
      "2.12.0\n"
     ]
    }
   ],
   "source": [
    "import tensorflow as tf\n",
    "\n",
    "print(tf.__version__)"
   ]
  },
  {
   "attachments": {},
   "cell_type": "markdown",
   "metadata": {},
   "source": [
    "### [1. Terminology](#h_cell)\n",
    "<a id='ter_cell'></a>\n",
    "\n",
    "A brief note about tensors and their number of dimensions, and terminology:\n",
    "\n",
    "1. O-dimensional tensor called a \\*scaler.\n",
    "2. 1-dimensional tensor called a \\*vector.\n",
    "3. Likewise, a 2-dimensional tensor is often referred to as a \\*matrix.\n",
    "4. Anything with more than two dimensions is generally just called a tensor."
   ]
  },
  {
   "attachments": {},
   "cell_type": "markdown",
   "metadata": {},
   "source": [
    "**_By default, TensorFlow creates tensors with either an int32 or float32 datatype._**\n",
    "\n",
    "1. **Scalar**: A scalar is known as a rank 0 tensor. Because it has no dimensions (it's just a number).\n",
    "   O-dimensional tensor called a **scaler**.\n"
   ]
  },
  {
   "cell_type": "code",
   "execution_count": 2,
   "metadata": {},
   "outputs": [
    {
     "name": "stdout",
     "output_type": "stream",
     "text": [
      "tf.Tensor(7, shape=(), dtype=int32) 0\n"
     ]
    }
   ],
   "source": [
    "scalar = tf.constant(7)\n",
    "print(scalar, scalar.ndim)  # ndim=0"
   ]
  },
  {
   "attachments": {},
   "cell_type": "markdown",
   "metadata": {},
   "source": [
    "2. Vector: 1 dimentional\n"
   ]
  },
  {
   "cell_type": "code",
   "execution_count": 3,
   "metadata": {},
   "outputs": [
    {
     "name": "stdout",
     "output_type": "stream",
     "text": [
      "tf.Tensor([12 13], shape=(2,), dtype=int32) 1\n"
     ]
    }
   ],
   "source": [
    "# one dimentinal\n",
    "vector = tf.constant([12, 13])\n",
    "print(vector, vector.ndim)  # ndim=1"
   ]
  },
  {
   "attachments": {},
   "cell_type": "markdown",
   "metadata": {},
   "source": [
    "3. Matrix: more than 1 dimentional(normaly 2 dimention).\n"
   ]
  },
  {
   "cell_type": "code",
   "execution_count": 4,
   "metadata": {},
   "outputs": [
    {
     "name": "stdout",
     "output_type": "stream",
     "text": [
      "tf.Tensor(\n",
      "[[12 13]\n",
      " [13 14]], shape=(2, 2), dtype=int32) 2\n"
     ]
    }
   ],
   "source": [
    "# matrix: more than 1 dimentional(normaly 2 dimention)\n",
    "matrix = tf.constant([[12, 13], [13, 14]])\n",
    "print(matrix, matrix.ndim)"
   ]
  },
  {
   "cell_type": "code",
   "execution_count": 5,
   "metadata": {},
   "outputs": [
    {
     "name": "stdout",
     "output_type": "stream",
     "text": [
      "tf.Tensor(\n",
      "[[10.  7.]\n",
      " [ 3.  2.]\n",
      " [ 8.  9.]], shape=(3, 2), dtype=float16) 2\n"
     ]
    }
   ],
   "source": [
    "# another matrix\n",
    "matrix_two = tf.constant([[10.0, 7.0], [3.0, 2.0], [8.0, 9.0]], dtype=tf.float16)\n",
    "print(matrix_two, matrix_two.ndim)  # ndim=2"
   ]
  },
  {
   "attachments": {},
   "cell_type": "markdown",
   "metadata": {},
   "source": [
    "4.  Tensor: A tensor can have an arbitrary (unlimited) amount of dimensions.\n",
    "\n",
    "        For example, you might turn a series of images into tensors with shape (224, 224, 3, 32), where:\n",
    "\n",
    "- 224, 224 (the first 2 dimensions) are the height and width of the images in pixels.\n",
    "- 3 is the number of colour channels of the image (red, green blue).\n",
    "- 32 is the batch size (the number of images a neural network sees at any one time).\n"
   ]
  },
  {
   "cell_type": "code",
   "execution_count": 3,
   "metadata": {},
   "outputs": [
    {
     "name": "stdout",
     "output_type": "stream",
     "text": [
      "tf.Tensor(\n",
      "[[[ 1  2  3  4]\n",
      "  [ 4  5  6  4]]\n",
      "\n",
      " [[ 7  8  9  4]\n",
      "  [10 11 12  4]]\n",
      "\n",
      " [[13 14 15  4]\n",
      "  [16 17 18  4]]], shape=(3, 2, 4), dtype=int32) 3 tf.Tensor(24, shape=(), dtype=int32)\n"
     ]
    }
   ],
   "source": [
    "tensor = tf.constant(\n",
    "    [[[1, 2, 3,4], [4, 5, 6,4]], [[7, 8, 9,4], [10, 11, 12,4]], [[13, 14, 15,4], [16, 17, 18,4]]]\n",
    ")\n",
    "print(tensor, tensor.ndim, tf.size(tensor))  # 3 dimentional or rank=3"
   ]
  },
  {
   "attachments": {},
   "cell_type": "markdown",
   "metadata": {},
   "source": [
    "##### tf.Variable():\n",
    "\n",
    "The difference between `tf.Variable()` and `tf.constant()` is tensors created with `tf.constant()` are immutable (can't be changed, can only be used to create a new tensor), where as, tensors created with `tf.Variable()` are mutable (can be changed).\n"
   ]
  },
  {
   "cell_type": "code",
   "execution_count": 7,
   "metadata": {},
   "outputs": [
    {
     "data": {
      "text/plain": [
       "(<tf.Variable 'Variable:0' shape=(2,) dtype=int32, numpy=array([10,  7])>,\n",
       " <tf.Tensor: shape=(2,), dtype=int32, numpy=array([10,  7])>)"
      ]
     },
     "execution_count": 7,
     "metadata": {},
     "output_type": "execute_result"
    }
   ],
   "source": [
    "changeable_tensor = tf.Variable([10, 7])\n",
    "unchangeable_tensor = tf.constant([10, 7])\n",
    "changeable_tensor, unchangeable_tensor"
   ]
  },
  {
   "cell_type": "code",
   "execution_count": 8,
   "metadata": {},
   "outputs": [
    {
     "data": {
      "text/plain": [
       "<tf.Variable 'Variable:0' shape=(2,) dtype=int32, numpy=array([7, 7])>"
      ]
     },
     "execution_count": 8,
     "metadata": {},
     "output_type": "execute_result"
    }
   ],
   "source": [
    "## changing value using assign()\n",
    "changeable_tensor[0].assign(7)  # 10 will be 7\n",
    "changeable_tensor"
   ]
  },
  {
   "cell_type": "code",
   "execution_count": 9,
   "metadata": {},
   "outputs": [
    {
     "data": {
      "text/plain": [
       "<tf.Tensor: shape=(2,), dtype=int32, numpy=array([10,  7])>"
      ]
     },
     "execution_count": 9,
     "metadata": {},
     "output_type": "execute_result"
    }
   ],
   "source": [
    "# Will error (can't change tf.constant())\n",
    "# unchangeable_tensor[0].assign(7)\n",
    "unchangeable_tensor"
   ]
  },
  {
   "attachments": {},
   "cell_type": "markdown",
   "metadata": {},
   "source": [
    "## [2. Getting Information](#h_cell)\n",
    "<a id='gi_cell'></a>\n",
    "\n",
    "1. Shape: The length (number of elements) of each of the dimensions of a tensor.\n",
    "2. Rank: The number of tensor dimensions. A scalar has rank 0, a vector has rank 1, a matrix is rank 2, a tensor has rank n.\n",
    "3. Axis or Dimension: A particular dimension of a tensor.\n",
    "4. Size: The total number of items in the tensor.\n"
   ]
  },
  {
   "cell_type": "code",
   "execution_count": 10,
   "metadata": {},
   "outputs": [
    {
     "name": "stdout",
     "output_type": "stream",
     "text": [
      "(2, 3, 4, 5) 4 tf.Tensor(120, shape=(), dtype=int32)\n"
     ]
    }
   ],
   "source": [
    "rank_4_tensor = tf.zeros([2, 3, 4, 5])\n",
    "print(rank_4_tensor.shape, rank_4_tensor.ndim, tf.size(rank_4_tensor))"
   ]
  },
  {
   "cell_type": "code",
   "execution_count": 11,
   "metadata": {},
   "outputs": [
    {
     "name": "stdout",
     "output_type": "stream",
     "text": [
      "Datatype of every element: <dtype: 'float32'>\n",
      "Number of dimensions (rank): 4\n",
      "Shape of tensor: (2, 3, 4, 5)\n",
      "Elements along axis 0 of tensor: 2\n",
      "Elements along last axis of tensor: 5\n",
      "Total number of elements (2*3*4*5): 120\n"
     ]
    }
   ],
   "source": [
    "# Get various attributes of tensor\n",
    "print(\"Datatype of every element:\", rank_4_tensor.dtype)\n",
    "print(\"Number of dimensions (rank):\", rank_4_tensor.ndim)\n",
    "print(\"Shape of tensor:\", rank_4_tensor.shape)\n",
    "print(\"Elements along axis 0 of tensor:\", rank_4_tensor.shape[0])\n",
    "print(\"Elements along last axis of tensor:\", rank_4_tensor.shape[-1])\n",
    "print(\n",
    "    \"Total number of elements (2*3*4*5):\", tf.size(rank_4_tensor).numpy()\n",
    ")  # .numpy() converts to NumPy array"
   ]
  },
  {
   "cell_type": "code",
   "execution_count": 13,
   "metadata": {},
   "outputs": [
    {
     "data": {
      "text/plain": [
       "<tf.Tensor: shape=(2, 1, 1, 1), dtype=float32, numpy=\n",
       "array([[[[0.]]],\n",
       "\n",
       "\n",
       "       [[[0.]]]], dtype=float32)>"
      ]
     },
     "execution_count": 13,
     "metadata": {},
     "output_type": "execute_result"
    }
   ],
   "source": [
    "# access like python list\n",
    "rank_4_tensor[:2, :1, :1, :1]"
   ]
  },
  {
   "cell_type": "code",
   "execution_count": 14,
   "metadata": {},
   "outputs": [
    {
     "data": {
      "text/plain": [
       "<tf.Tensor: shape=(2,), dtype=int32, numpy=array([7, 4])>"
      ]
     },
     "execution_count": 14,
     "metadata": {},
     "output_type": "execute_result"
    }
   ],
   "source": [
    "rank_2_tensor = tf.constant([[10, 7], [3, 4]])\n",
    "\n",
    "# Get the last item of each row\n",
    "rank_2_tensor[:, -1]"
   ]
  },
  {
   "attachments": {},
   "cell_type": "markdown",
   "metadata": {},
   "source": [
    "**_Add new axis:_**\n",
    "\n",
    "1. `tf.newaxis`\n",
    "2. `tf.expand_dims()`\n"
   ]
  },
  {
   "cell_type": "code",
   "execution_count": 15,
   "metadata": {},
   "outputs": [
    {
     "data": {
      "text/plain": [
       "(<tf.Tensor: shape=(2, 2), dtype=int32, numpy=\n",
       " array([[10,  7],\n",
       "        [ 3,  4]])>,\n",
       " <tf.Tensor: shape=(2, 2, 1), dtype=int32, numpy=\n",
       " array([[[10],\n",
       "         [ 7]],\n",
       " \n",
       "        [[ 3],\n",
       "         [ 4]]])>)"
      ]
     },
     "execution_count": 15,
     "metadata": {},
     "output_type": "execute_result"
    }
   ],
   "source": [
    "rank_3_tensor = rank_2_tensor[\n",
    "    ..., tf.newaxis\n",
    "]  # in Python \"...\" means \"all dimensions prior to\"\n",
    "rank_2_tensor, rank_3_tensor"
   ]
  },
  {
   "cell_type": "code",
   "execution_count": 16,
   "metadata": {},
   "outputs": [
    {
     "data": {
      "text/plain": [
       "<tf.Tensor: shape=(2, 2, 1), dtype=int32, numpy=\n",
       "array([[[10],\n",
       "        [ 7]],\n",
       "\n",
       "       [[ 3],\n",
       "        [ 4]]])>"
      ]
     },
     "execution_count": 16,
     "metadata": {},
     "output_type": "execute_result"
    }
   ],
   "source": [
    "tf.expand_dims(rank_2_tensor, axis=-1)  # \"-1\" means last axis"
   ]
  },
  {
   "attachments": {},
   "cell_type": "markdown",
   "metadata": {},
   "source": [
    "## [3. TensorFlow Random:](#h_cell)\n",
    "<a id='random_cell'></a>\n",
    "\n",
    "1. **`tf.random.uniform(shape, minval=0, maxval=None, dtype=tf.float32, seed=None)`**: generates a tensor with values drawn from a uniform distribution. You specify the shape of the output tensor, along with optional arguments such as minval (minimum value) and maxval (maximum value).\n",
    "\n",
    "2. **`tf.random.normal(shape, mean=0.0, stddev=1.0, dtype=tf.float32, seed=None)`**: generates a tensor with values drawn from a normal (Gaussian) distribution.\n",
    "\n",
    "3. **`tf.random.truncated_normal(shape, mean=0.0, stddev=1.0, dtype=tf.float32, seed=None)`**: generates a tensor with values drawn from a truncated normal distribution. The distribution is similar to the normal distribution, but any values more than two standard deviations from the mean are discarded and redrawn.\n",
    "\n",
    "4. **`tf.random.shuffle(value, seed=None)`**: This function shuffles the elements of a tensor along its first dimension. It is commonly used for randomizing the order of training data samples.\n",
    "\n",
    "5. **`tf.random.set_seed(seed)`**: It ensures that the random operations produce deterministic results across runs when using the same seed.\n"
   ]
  },
  {
   "attachments": {},
   "cell_type": "markdown",
   "metadata": {},
   "source": [
    "1. `tf.random.uniform(shape, minval=0, maxval=None, dtype=tf.float32, seed=None)`\n"
   ]
  },
  {
   "cell_type": "code",
   "execution_count": 4,
   "metadata": {},
   "outputs": [
    {
     "data": {
      "text/plain": [
       "<tf.Tensor: shape=(2, 3), dtype=int32, numpy=\n",
       "array([[3, 0, 4],\n",
       "       [3, 0, 1]])>"
      ]
     },
     "execution_count": 4,
     "metadata": {},
     "output_type": "execute_result"
    }
   ],
   "source": [
    "tf.random.uniform((2, 3), maxval=5, dtype=tf.int32)"
   ]
  },
  {
   "attachments": {},
   "cell_type": "markdown",
   "metadata": {},
   "source": [
    "2. `tf.random.normal(shape, mean=0.0, stddev=1.0, dtype=tf.float32, seed=None)`\n"
   ]
  },
  {
   "cell_type": "code",
   "execution_count": 11,
   "metadata": {},
   "outputs": [
    {
     "data": {
      "text/plain": [
       "<tf.Tensor: shape=(2, 3), dtype=float32, numpy=\n",
       "array([[ 0.33875433,  0.3449861 , -0.6605785 ],\n",
       "       [-0.2854994 ,  0.43852386,  0.8288566 ]], dtype=float32)>"
      ]
     },
     "execution_count": 11,
     "metadata": {},
     "output_type": "execute_result"
    }
   ],
   "source": [
    "tf.random.normal((2, 3), mean=0, dtype=tf.float32)"
   ]
  },
  {
   "attachments": {},
   "cell_type": "markdown",
   "metadata": {},
   "source": [
    "3. `tf.random.truncated_normal(shape, mean=0.0, stddev=1.0, dtype=tf.float32, seed=None)`\n"
   ]
  },
  {
   "cell_type": "code",
   "execution_count": 12,
   "metadata": {},
   "outputs": [
    {
     "data": {
      "text/plain": [
       "<tf.Tensor: shape=(3, 4), dtype=float32, numpy=\n",
       "array([[-0.61346006, -1.0256168 , -1.1752816 , -0.79817134],\n",
       "       [ 1.2787406 ,  0.3146979 ,  0.6080974 ,  0.5469729 ],\n",
       "       [-0.04225652, -0.57318485, -0.09746004,  1.3598968 ]],\n",
       "      dtype=float32)>"
      ]
     },
     "execution_count": 12,
     "metadata": {},
     "output_type": "execute_result"
    }
   ],
   "source": [
    "tf.random.truncated_normal((3, 4), mean=0.0, stddev=1.0, dtype=tf.float32, seed=None)"
   ]
  },
  {
   "attachments": {},
   "cell_type": "markdown",
   "metadata": {},
   "source": [
    "4. `tf.random.shuffle(value, seed=None)`\n"
   ]
  },
  {
   "cell_type": "code",
   "execution_count": 18,
   "metadata": {},
   "outputs": [
    {
     "data": {
      "text/plain": [
       "<tf.Tensor: shape=(3, 2), dtype=int32, numpy=\n",
       "array([[10,  7],\n",
       "       [ 3,  4],\n",
       "       [ 2,  5]])>"
      ]
     },
     "execution_count": 18,
     "metadata": {},
     "output_type": "execute_result"
    }
   ],
   "source": [
    "not_shuffled = tf.constant([[10, 7], [3, 4], [2, 5]])\n",
    "# Gets different results each time\n",
    "tf.random.shuffle(not_shuffled)"
   ]
  },
  {
   "attachments": {},
   "cell_type": "markdown",
   "metadata": {},
   "source": [
    "5. `tf.random.set_seed(seed)`\n"
   ]
  },
  {
   "cell_type": "code",
   "execution_count": 21,
   "metadata": {},
   "outputs": [
    {
     "data": {
      "text/plain": [
       "<tf.Tensor: shape=(3, 2), dtype=int32, numpy=\n",
       "array([[ 3,  4],\n",
       "       [10,  7],\n",
       "       [ 2,  5]])>"
      ]
     },
     "execution_count": 21,
     "metadata": {},
     "output_type": "execute_result"
    }
   ],
   "source": [
    "tf.random.set_seed(123)\n",
    "tf.random.shuffle(not_shuffled)"
   ]
  },
  {
   "cell_type": "code",
   "execution_count": 8,
   "metadata": {},
   "outputs": [
    {
     "data": {
      "text/plain": [
       "(TensorShape([2, 3, 3]),\n",
       " 3,\n",
       " <tf.Tensor: shape=(2, 3, 3), dtype=float16, numpy=\n",
       " array([[[-0.898  , -1.826  , -0.4443 ],\n",
       "         [-1.488  , -0.7856 ,  0.1962 ],\n",
       "         [ 0.176  , -1.525  ,  0.6353 ]],\n",
       " \n",
       "        [[ 0.668  ,  1.423  ,  0.04562],\n",
       "         [-0.2169 , -1.708  ,  0.5176 ],\n",
       "         [-0.11975, -1.062  , -0.541  ]]], dtype=float16)>,\n",
       " <tf.Tensor: shape=(3,), dtype=float16, numpy=array([-0.898 , -1.826 , -0.4443], dtype=float16)>,\n",
       " <tf.Tensor: shape=(), dtype=float16, numpy=0.5176>)"
      ]
     },
     "execution_count": 8,
     "metadata": {},
     "output_type": "execute_result"
    }
   ],
   "source": [
    "tf.random.set_seed(123)\n",
    "tf_random_seed = tf.random.normal((2, 3, 3), dtype=tf.float16)\n",
    "tf_random_seed.shape, tf_random_seed.ndim, tf_random_seed, tf_random_seed[0][\n",
    "    0\n",
    "], tf_random_seed[1][1][2]"
   ]
  },
  {
   "attachments": {},
   "cell_type": "markdown",
   "metadata": {},
   "source": [
    "## [4. Create tensor:](#h_cell)\n",
    "<a id='ctensor_cell'></a>\n",
    "\n",
    "1. `tf.zeros()`\n",
    "2. `tf.ones()`\n"
   ]
  },
  {
   "cell_type": "code",
   "execution_count": 23,
   "metadata": {},
   "outputs": [
    {
     "data": {
      "text/plain": [
       "(<tf.Tensor: shape=(2, 3), dtype=float32, numpy=\n",
       " array([[0., 0., 0.],\n",
       "        [0., 0., 0.]], dtype=float32)>,\n",
       " <tf.Tensor: shape=(3, 2), dtype=float32, numpy=\n",
       " array([[1., 1.],\n",
       "        [1., 1.],\n",
       "        [1., 1.]], dtype=float32)>)"
      ]
     },
     "execution_count": 23,
     "metadata": {},
     "output_type": "execute_result"
    }
   ],
   "source": [
    "zeros_tensor = tf.zeros(shape=(2, 3))\n",
    "ones_tensor = tf.ones(shape=(3, 2))\n",
    "zeros_tensor, ones_tensor"
   ]
  },
  {
   "attachments": {},
   "cell_type": "markdown",
   "metadata": {},
   "source": [
    "3. using numpy:"
   ]
  },
  {
   "cell_type": "code",
   "execution_count": 24,
   "metadata": {},
   "outputs": [
    {
     "data": {
      "text/plain": [
       "(array([ 1,  2,  3,  4,  5,  6,  7,  8,  9, 10, 11, 12, 13, 14, 15, 16, 17,\n",
       "        18, 19, 20, 21, 22, 23, 24]),\n",
       " <tf.Tensor: shape=(2, 4, 3), dtype=int32, numpy=\n",
       " array([[[ 1,  2,  3],\n",
       "         [ 4,  5,  6],\n",
       "         [ 7,  8,  9],\n",
       "         [10, 11, 12]],\n",
       " \n",
       "        [[13, 14, 15],\n",
       "         [16, 17, 18],\n",
       "         [19, 20, 21],\n",
       "         [22, 23, 24]]])>)"
      ]
     },
     "execution_count": 24,
     "metadata": {},
     "output_type": "execute_result"
    }
   ],
   "source": [
    "import numpy as np\n",
    "numpy_A = np.arange(1, 25, dtype=np.int32) # create a NumPy array between 1 and 25\n",
    "A = tf.constant(numpy_A,  \n",
    "                shape=[2, 4, 3]) # note: the shape total (2*4*3) has to match the number of elements in the array\n",
    "numpy_A, A"
   ]
  },
  {
   "attachments": {},
   "cell_type": "markdown",
   "metadata": {},
   "source": [
    "## [5. Tensor Data type:](#h_cell)\n",
    "<a id='dtype_cell'></a>\n",
    "\n",
    "1. Changing Data Type: `tf.cast(tensor, dtype= tf.float16)`\n",
    "   - `tf.ffloat16`: will reduce precision.\n"
   ]
  },
  {
   "cell_type": "code",
   "execution_count": 58,
   "metadata": {},
   "outputs": [
    {
     "name": "stdout",
     "output_type": "stream",
     "text": [
      "tf.Tensor([1.7 7.4], shape=(2,), dtype=float32)\n"
     ]
    },
    {
     "data": {
      "text/plain": [
       "<tf.Tensor: shape=(2,), dtype=float16, numpy=array([1.7, 7.4], dtype=float16)>"
      ]
     },
     "execution_count": 58,
     "metadata": {},
     "output_type": "execute_result"
    }
   ],
   "source": [
    "B = tf.constant([1.7, 7.4])\n",
    "print(B)\n",
    "B = tf.cast(B, dtype=tf.float16)\n",
    "B"
   ]
  },
  {
   "attachments": {},
   "cell_type": "markdown",
   "metadata": {},
   "source": [
    "## [6. Math and Logic with Tensorflow](#h_cell)\n",
    "<a id='math_cell'></a>\n"
   ]
  },
  {
   "attachments": {},
   "cell_type": "markdown",
   "metadata": {},
   "source": [
    "1. Basic Operation\n"
   ]
  },
  {
   "cell_type": "code",
   "execution_count": 21,
   "metadata": {},
   "outputs": [
    {
     "data": {
      "text/plain": [
       "(<tf.Tensor: shape=(2, 2), dtype=int32, numpy=\n",
       " array([[20, 17],\n",
       "        [13, 14]])>,\n",
       " <tf.Tensor: shape=(2, 2), dtype=int32, numpy=\n",
       " array([[10,  7],\n",
       "        [ 3,  4]])>,\n",
       " <tf.Tensor: shape=(2, 2), dtype=int32, numpy=\n",
       " array([[100,  70],\n",
       "        [ 30,  40]])>,\n",
       " <tf.Tensor: shape=(2, 2), dtype=int32, numpy=\n",
       " array([[ 0, -3],\n",
       "        [-7, -6]])>,\n",
       " <tf.Tensor: shape=(2, 2), dtype=int32, numpy=\n",
       " array([[100,  70],\n",
       "        [ 30,  40]])>)"
      ]
     },
     "execution_count": 21,
     "metadata": {},
     "output_type": "execute_result"
    }
   ],
   "source": [
    "tensor = tf.constant([[10, 7], [3, 4]])\n",
    "tensor + 10, tensor, tensor * 10, tensor - 10, tf.multiply(tensor, 10)"
   ]
  },
  {
   "attachments": {},
   "cell_type": "markdown",
   "metadata": {},
   "source": [
    "### 6.1 Matrix Multiplication:\n",
    "\n",
    "Tensorflow implements matrix multiplication functionality in the `tf.matmul()` method.\n",
    "\n",
    "1.  The inner dimensions must match:\n",
    "\n",
    "        (3, 2) @ (3, 2) won't work\n",
    "        (2, 3) @ (3, 2) will work\n",
    "        (3, 2) @ (2, 3) will work\n",
    "\n",
    "2.  The resulting matrix has the shape of the outer dimensions:\n",
    "\n",
    "        (2, 3) @ (3, 2) -> (2, 2)\n",
    "        (3, 2) @ (2, 3) -> (3, 3)\n",
    "\n",
    "### 6.2 Element wise multiplication:\n",
    "\n",
    "PyTorch implements multiplication functionality in the `torch.mul()` or `*` method.\n",
    "\n",
    "        (3, 2) @ (2, 3) won't work\n",
    "        (2, 3) @ (3, 3) will work\n",
    "$$[m\\times n\\times o] * [p\\times q\\times r]=[m\\times n\\times o]\\text{ this will be the new shape}$$\n",
    "* Each tensor must have at least one dimension - no empty tensors.\n",
    "* Comparing the dimension sizes of the two tensors, **going from last to first:**\n",
    "    * Each dimension must be equal $m=p\\;, n=q,\\; o=r $, **or**\n",
    "    * One of the dimensions must be of size 1, $p=1\\;, q=1,\\; o=r=1 $**or**\n",
    "    * The dimension does not exist in one of the tensors $q=1,\\; o=r=1 $\n"
   ]
  },
  {
   "cell_type": "code",
   "execution_count": 13,
   "metadata": {},
   "outputs": [
    {
     "data": {
      "text/plain": [
       "(TensorShape([2, 3]),\n",
       " <tf.Tensor: shape=(2, 3), dtype=int32, numpy=\n",
       " array([[1, 1, 4],\n",
       "        [4, 4, 4]])>,\n",
       " <tf.Tensor: shape=(2, 3), dtype=int32, numpy=\n",
       " array([[1, 1, 2],\n",
       "        [2, 2, 2]])>)"
      ]
     },
     "execution_count": 13,
     "metadata": {},
     "output_type": "execute_result"
    }
   ],
   "source": [
    "a=tf.Variable([[1, 1, 2],\n",
    "        [2, 2, 2]])\n",
    "b=tf.Variable([[1, 1, 1]])\n",
    "a.shape, a*a, a*b"
   ]
  },
  {
   "cell_type": "code",
   "execution_count": 27,
   "metadata": {},
   "outputs": [
    {
     "name": "stdout",
     "output_type": "stream",
     "text": [
      "(2, 2) 2\n",
      "Element-Wise-Multiplication tf.Tensor(\n",
      "[[100  49]\n",
      " [  9  16]], shape=(2, 2), dtype=int32)\n",
      "Element-Wise-Multiplication: tf.multiply tf.Tensor(\n",
      "[[100  49]\n",
      " [  9  16]], shape=(2, 2), dtype=int32)\n",
      "Matrix-Multiplication: tf.Tensor(\n",
      "[[121  98]\n",
      " [ 42  37]], shape=(2, 2), dtype=int32)\n"
     ]
    }
   ],
   "source": [
    "tensor = tf.constant([[10, 7], [3, 4]])\n",
    "print(tensor.shape, tensor.ndim)\n",
    "element_wise_mul = (\n",
    "    tensor * tensor\n",
    ")  # Element wise multiplication: [1*1, 2*2, 3*3]=[1, 4, 9]\n",
    "print(\"Element-Wise-Multiplication\", element_wise_mul)\n",
    "print(\"Element-Wise-Multiplication: tf.multiply\", tf.multiply(tensor, tensor))\n",
    "\n",
    "print(\"Matrix-Multiplication:\", tf.matmul(tensor, tensor))"
   ]
  },
  {
   "cell_type": "code",
   "execution_count": 55,
   "metadata": {},
   "outputs": [
    {
     "name": "stdout",
     "output_type": "stream",
     "text": [
      "(3, 2) (3, 2) tf.Tensor(\n",
      "[[ 7 16]\n",
      " [27 40]\n",
      " [55 72]], shape=(3, 2), dtype=int32)\n",
      "tf.Tensor(\n",
      "[[ 27  30  33]\n",
      " [ 61  68  75]\n",
      " [ 95 106 117]], shape=(3, 3), dtype=int32) tf.Tensor(\n",
      "[[ 23  29  35]\n",
      " [ 53  67  81]\n",
      " [ 83 105 127]], shape=(3, 3), dtype=int32)\n",
      "tf.Tensor(212, shape=(), dtype=int32)\n"
     ]
    }
   ],
   "source": [
    "# Create (3, 2) tensor\n",
    "X = tf.constant([[1, 2], [3, 4], [5, 6]])\n",
    "\n",
    "# Create another (3, 2) tensor\n",
    "Y = tf.constant([[7, 8], [9, 10], [11, 12]])\n",
    "print(X.shape, Y.shape, X * Y)\n",
    "print(tf.matmul(X, tf.reshape(Y, (2, 3))), tf.matmul(X, tf.transpose(Y)))\n",
    "print(tf.tensordot(X, tf.transpose(Y), axes=2))"
   ]
  },
  {
   "attachments": {},
   "cell_type": "markdown",
   "metadata": {},
   "source": [
    "the outputs of tf.reshape() and tf.transpose() when called on Y, even though they have the same shape, are different. because\n",
    "\n",
    "- `tf.reshape():`- change the shape of the given tensor (first) and then insert values in order they appear (in our case, 7, 8, 9, 10, 11, 12).\n",
    "- `tf.transpose():`- swap the axis.\n"
   ]
  },
  {
   "cell_type": "code",
   "execution_count": 45,
   "metadata": {},
   "outputs": [
    {
     "name": "stdout",
     "output_type": "stream",
     "text": [
      "(3, 2) (2, 3) (2, 3)\n"
     ]
    },
    {
     "data": {
      "text/plain": [
       "(<tf.Tensor: shape=(3, 2), dtype=int32, numpy=\n",
       " array([[ 7,  8],\n",
       "        [ 9, 10],\n",
       "        [11, 12]])>,\n",
       " <tf.Tensor: shape=(2, 3), dtype=int32, numpy=\n",
       " array([[ 7,  8,  9],\n",
       "        [10, 11, 12]])>,\n",
       " <tf.Tensor: shape=(2, 3), dtype=int32, numpy=\n",
       " array([[ 7,  9, 11],\n",
       "        [ 8, 10, 12]])>)"
      ]
     },
     "execution_count": 45,
     "metadata": {},
     "output_type": "execute_result"
    }
   ],
   "source": [
    "Y = tf.constant([[7, 8], [9, 10], [11, 12]])\n",
    "print(Y.shape, tf.reshape(Y, (2, 3)).shape, tf.transpose(Y).shape)\n",
    "Y, tf.reshape(Y, (2, 3)), tf.transpose(Y)"
   ]
  },
  {
   "cell_type": "code",
   "execution_count": 39,
   "metadata": {},
   "outputs": [
    {
     "data": {
      "text/plain": [
       "<tf.Tensor: shape=(3, 3), dtype=int32, numpy=\n",
       "array([[ 23,  29,  35],\n",
       "       [ 53,  67,  81],\n",
       "       [ 83, 105, 127]])>"
      ]
     },
     "execution_count": 39,
     "metadata": {},
     "output_type": "execute_result"
    }
   ],
   "source": [
    "tf.matmul(a=X, b=Y, transpose_a=False, transpose_b=True)"
   ]
  },
  {
   "attachments": {},
   "cell_type": "markdown",
   "metadata": {},
   "source": [
    "### More Math:\n",
    "\n",
    "1. `tf.abs(x)`:\n",
    "1. `tf.reduce_min(x)`:\n",
    "1. `tf.reduce_max(x)`:\n",
    "1. `tf.reduce_mean(x)`:\n",
    "1. `tf.sum(x)`:\n",
    "\n",
    "**Note:** typically, each of these is under the math module, e.g. `tf.math.reduce_min()` but you can use the alias `tf.reduce_min()`.\n"
   ]
  },
  {
   "cell_type": "code",
   "execution_count": 59,
   "metadata": {},
   "outputs": [
    {
     "data": {
      "text/plain": [
       "<tf.Tensor: shape=(50,), dtype=int32, numpy=\n",
       "array([23, 17, 90, 68, 43, 14, 90, 54,  5, 88, 95, 35, 66, 18, 75, 42, 94,\n",
       "       12, 28, 98, 87, 96, 52,  0, 49, 66, 77, 16, 15, 24, 84, 91, 35, 11,\n",
       "       86, 84, 74, 79, 68, 79, 78, 96, 18, 17, 96, 45, 82,  5, 96, 17])>"
      ]
     },
     "execution_count": 59,
     "metadata": {},
     "output_type": "execute_result"
    }
   ],
   "source": [
    "import numpy as np\n",
    "\n",
    "E = tf.constant(np.random.randint(low=0, high=100, size=50))\n",
    "E"
   ]
  },
  {
   "cell_type": "code",
   "execution_count": 64,
   "metadata": {},
   "outputs": [
    {
     "name": "stdout",
     "output_type": "stream",
     "text": [
      "tf.reduce_min(E) = 0\n",
      "tf.reduce_max(E) = 98 \n",
      "tf.argmax(E).numpy()=19\n",
      "tf.reduce_mean(E) = 55\n",
      "tf.reduce_sum(E) = 2778\n"
     ]
    }
   ],
   "source": [
    "print(f\"tf.reduce_min(E) = {tf.reduce_min(E)}\")\n",
    "print(f\"tf.reduce_max(E) = {tf.reduce_max(E)} \")\n",
    "print(f\"tf.argmax(E).numpy()={tf.argmax(E).numpy()}\")\n",
    "# tf.argmax(F).numy() return the index\n",
    "print(f\"tf.reduce_mean(E) = {tf.reduce_mean(E)}\")\n",
    "print(f\"tf.reduce_sum(E) = {tf.reduce_sum(E)}\")"
   ]
  },
  {
   "attachments": {},
   "cell_type": "markdown",
   "metadata": {},
   "source": [
    "1. `tf.square()` - get the square of every value in a tensor.\n",
    "2. `tf.sqrt()` - get the squareroot of every value in a tensor (note: the elements need to be floats or this will error).\n",
    "3. `tf.math.log()` - get the natural log of every value in a tensor (elements need to floats).\n"
   ]
  },
  {
   "cell_type": "code",
   "execution_count": 65,
   "metadata": {},
   "outputs": [
    {
     "data": {
      "text/plain": [
       "<tf.Tensor: shape=(9,), dtype=int32, numpy=array([1, 2, 3, 4, 5, 6, 7, 8, 9])>"
      ]
     },
     "execution_count": 65,
     "metadata": {},
     "output_type": "execute_result"
    }
   ],
   "source": [
    "H = tf.constant(np.arange(1, 10))\n",
    "H"
   ]
  },
  {
   "cell_type": "code",
   "execution_count": 69,
   "metadata": {},
   "outputs": [
    {
     "name": "stdout",
     "output_type": "stream",
     "text": [
      "tf.square(H)= [ 1  4  9 16 25 36 49 64 81]\n",
      "tf.sqrt(H)= [1.        1.4142135 1.7320508 2.        2.236068  2.4494898 2.6457512\n",
      " 2.828427  3.       ]\n",
      "tf.math.log(H)= [0.        0.6931472 1.0986123 1.3862944 1.609438  1.7917595 1.9459102\n",
      " 2.0794415 2.1972246]\n"
     ]
    }
   ],
   "source": [
    "print(f\"tf.square(H)= {tf.square(H)}\")\n",
    "print(\n",
    "    f\"tf.sqrt(H)= {tf.sqrt(tf.cast(H, dtype= tf.float32))}\"\n",
    ")  # with out casting it will raise an error\n",
    "print(f\"tf.math.log(H)= {tf.math.log(tf.cast(H, dtype= tf.float32))}\")"
   ]
  },
  {
   "attachments": {},
   "cell_type": "markdown",
   "metadata": {},
   "source": [
    "## [7. Manipulating Tensor Shapes](#h_cell)\n",
    "<a id='mts_cell'></a>\n",
    "\n",
    "1. `x.assign()`:\n",
    "2. `x.assign_add()`:\n",
    "3. `tf.reshape(x, (shape))`:\n",
    "4. `tf.transpose()`:\n",
    "5. `tf.squeeze()`: removing all single dimensions.\n",
    "6. `tf.one_hot(x, depth=4, on_value=?, off_value=?)`: would like to one-hot encode it.\n"
   ]
  },
  {
   "cell_type": "code",
   "execution_count": 75,
   "metadata": {},
   "outputs": [
    {
     "data": {
      "text/plain": [
       "(TensorShape([1, 1, 1, 1, 50]), 5)"
      ]
     },
     "execution_count": 75,
     "metadata": {},
     "output_type": "execute_result"
    }
   ],
   "source": [
    "G = tf.constant(np.random.randint(0, 100, 50), shape=(1, 1, 1, 1, 50))\n",
    "G.shape, G.ndim"
   ]
  },
  {
   "cell_type": "code",
   "execution_count": 76,
   "metadata": {},
   "outputs": [
    {
     "data": {
      "text/plain": [
       "(TensorShape([50]), 1)"
      ]
     },
     "execution_count": 76,
     "metadata": {},
     "output_type": "execute_result"
    }
   ],
   "source": [
    "# Squeeze tensor G (remove all 1 dimensions)\n",
    "G_squeezed = tf.squeeze(G)\n",
    "G_squeezed.shape, G_squeezed.ndim"
   ]
  },
  {
   "cell_type": "code",
   "execution_count": 73,
   "metadata": {},
   "outputs": [
    {
     "data": {
      "text/plain": [
       "<tf.Tensor: shape=(4, 4), dtype=float32, numpy=\n",
       "array([[1., 0., 0., 0.],\n",
       "       [0., 1., 0., 0.],\n",
       "       [0., 0., 1., 0.],\n",
       "       [0., 0., 0., 1.]], dtype=float32)>"
      ]
     },
     "execution_count": 73,
     "metadata": {},
     "output_type": "execute_result"
    }
   ],
   "source": [
    "## one_hot(x, depth, on_value=?, off_value=?)\n",
    "some_list = [0, 1, 2, 3]\n",
    "tf.one_hot(some_list, depth=len(some_list))"
   ]
  },
  {
   "cell_type": "code",
   "execution_count": 74,
   "metadata": {},
   "outputs": [
    {
     "data": {
      "text/plain": [
       "<tf.Tensor: shape=(4, 4), dtype=string, numpy=\n",
       "array([[b'on', b'off', b'off', b'off'],\n",
       "       [b'off', b'on', b'off', b'off'],\n",
       "       [b'off', b'off', b'on', b'off'],\n",
       "       [b'off', b'off', b'off', b'on']], dtype=object)>"
      ]
     },
     "execution_count": 74,
     "metadata": {},
     "output_type": "execute_result"
    }
   ],
   "source": [
    "tf.one_hot(some_list, depth=len(some_list), off_value=\"off\", on_value=\"on\")"
   ]
  },
  {
   "attachments": {},
   "cell_type": "markdown",
   "metadata": {},
   "source": [
    "`@tf.function`: It turns a Python function into a callable TensorFlow graph. ensorFlow will attempt to convert it into a fast(er) version of itself (by making it part of a computation graph).\n"
   ]
  },
  {
   "cell_type": "code",
   "execution_count": 79,
   "metadata": {},
   "outputs": [
    {
     "data": {
      "text/plain": [
       "<tf.Tensor: shape=(10,), dtype=int32, numpy=array([ 10,  12,  16,  22,  30,  40,  52,  66,  82, 100])>"
      ]
     },
     "execution_count": 79,
     "metadata": {},
     "output_type": "execute_result"
    }
   ],
   "source": [
    "def function(x, y):\n",
    "    return x**2 + y\n",
    "\n",
    "\n",
    "x = tf.constant(np.arange(0, 10))\n",
    "y = tf.constant(np.arange(10, 20))\n",
    "function(x, y)"
   ]
  },
  {
   "cell_type": "code",
   "execution_count": 78,
   "metadata": {},
   "outputs": [
    {
     "data": {
      "text/plain": [
       "<tf.Tensor: shape=(10,), dtype=int32, numpy=array([ 10,  12,  16,  22,  30,  40,  52,  66,  82, 100])>"
      ]
     },
     "execution_count": 78,
     "metadata": {},
     "output_type": "execute_result"
    }
   ],
   "source": [
    "@tf.function\n",
    "def tf_function(x, y):\n",
    "    return x**2 + y\n",
    "\n",
    "\n",
    "tf_function(x, y)"
   ]
  },
  {
   "attachments": {},
   "cell_type": "markdown",
   "metadata": {},
   "source": [
    "One of the main ones being potential code speed-ups where possible.\n"
   ]
  },
  {
   "cell_type": "markdown",
   "metadata": {},
   "source": [
    "## [8. Tensor Accessing:](#h_cell)\n",
    "<a id='aa_cell'></a>"
   ]
  },
  {
   "cell_type": "markdown",
   "metadata": {},
   "source": [
    "## [9. Frequently used method:](#h_cell)\n",
    "<a id='im_cell'></a>"
   ]
  },
  {
   "attachments": {},
   "cell_type": "markdown",
   "metadata": {},
   "source": [
    "## [10. Finding access to GPUs](#h_cell)\n",
    "<a id='gpu_cell'></a>"
   ]
  },
  {
   "cell_type": "code",
   "execution_count": 29,
   "metadata": {},
   "outputs": [
    {
     "name": "stdout",
     "output_type": "stream",
     "text": [
      "[PhysicalDevice(name='/physical_device:CPU:0', device_type='CPU')]\n",
      "[]\n"
     ]
    }
   ],
   "source": [
    "print(tf.config.list_physical_devices('CPU'))\n",
    "print(tf.config.list_physical_devices('GPU'))"
   ]
  },
  {
   "attachments": {},
   "cell_type": "markdown",
   "metadata": {},
   "source": []
  }
 ],
 "metadata": {
  "kernelspec": {
   "display_name": "Python 3",
   "language": "python",
   "name": "python3"
  },
  "language_info": {
   "codemirror_mode": {
    "name": "ipython",
    "version": 3
   },
   "file_extension": ".py",
   "mimetype": "text/x-python",
   "name": "python",
   "nbconvert_exporter": "python",
   "pygments_lexer": "ipython3",
   "version": "3.11.3"
  },
  "orig_nbformat": 4
 },
 "nbformat": 4,
 "nbformat_minor": 2
}
