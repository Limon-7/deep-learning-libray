{
 "cells": [
  {
   "cell_type": "code",
   "execution_count": 11,
   "metadata": {},
   "outputs": [],
   "source": [
    "import tensorflow as tf\n",
    "from tensorflow import keras\n",
    "import pandas as pd\n",
    "\n",
    "layers = keras.layers\n",
    "regularizers = keras.regularizers\n",
    "mnist = keras.datasets.mnist\n",
    "\n",
    "#HYPERPARAMETERS\n",
    "BATCH_SIZE = 32\n",
    "WEIGHT_DECAY = 0.001\n",
    "LEARNING_RATE = 0.001\n",
    "\n",
    "(x_train, y_train), (x_test, y_test) = mnist.load_data()\n",
    "x_train = x_train.reshape(-1, 28* 28).astype(\"float32\") / 255.0\n",
    "x_test = x_test.reshape(-1, 28* 28).astype(\"float32\") / 255.0"
   ]
  },
  {
   "cell_type": "code",
   "execution_count": 42,
   "metadata": {},
   "outputs": [],
   "source": [
    "class Dense(layers.Layer):\n",
    "    def __init__(self, units, input_dim):\n",
    "        super(Dense, self).__init__()\n",
    "        self.w = self.add_weight(\n",
    "            name='w',# without declare a name we can not build the model.\n",
    "            shape=(input_dim,  units),\n",
    "            initializer='random_normal',\n",
    "            trainable=True\n",
    "        )\n",
    "        self.b = self.add_weight(\n",
    "            name= 'b',\n",
    "            shape=(units,), initializer='zeros',\n",
    "            trainable=True\n",
    "        )\n",
    "\n",
    "    def call(self,inputs):\n",
    "        return tf.matmul(inputs, self.w)+self.b"
   ]
  },
  {
   "cell_type": "code",
   "execution_count": 43,
   "metadata": {},
   "outputs": [
    {
     "name": "stdout",
     "output_type": "stream",
     "text": [
      "1875/1875 - 12s - loss: 0.3463 - accuracy: 0.9047 - 12s/epoch - 6ms/step\n",
      "313/313 - 1s - loss: 0.1911 - accuracy: 0.9471 - 1s/epoch - 4ms/step\n"
     ]
    },
    {
     "data": {
      "text/plain": [
       "[0.1910843700170517, 0.9470999836921692]"
      ]
     },
     "execution_count": 43,
     "metadata": {},
     "output_type": "execute_result"
    }
   ],
   "source": [
    "class MyModel(keras.Model):\n",
    "    def __init__(self, num_classes =10):\n",
    "        super(MyModel, self).__init__()\n",
    "        self.dense1 = Dense(64,784)\n",
    "        self.dense2 = Dense(num_classes, 64)\n",
    "        # self.dense1 = layers.Dense(64)\n",
    "        # self.dense2 = layers.Dense(num_classes)\n",
    "        \n",
    "    def call(self, input_tensor):\n",
    "        x = tf.nn.relu(self.dense1(input_tensor))\n",
    "        return self.dense2(x)\n",
    "    \n",
    "model = MyModel(num_classes=10)\n",
    "model.compile(\n",
    "    optimizer=keras.optimizers.Adam(),\n",
    "    loss=keras.losses.SparseCategoricalCrossentropy(from_logits=True),\n",
    "    metrics=[\"accuracy\"],\n",
    ")\n",
    "\n",
    "model.fit(x_train, y_train, batch_size=BATCH_SIZE, epochs=1, verbose=2)\n",
    "\n",
    "model.evaluate(x_test, y_test, batch_size= BATCH_SIZE, verbose = 2)"
   ]
  },
  {
   "cell_type": "code",
   "execution_count": 55,
   "metadata": {},
   "outputs": [],
   "source": [
    "class Dense(layers.Layer):\n",
    "    def __init__(self, units):\n",
    "        super(Dense, self).__init__()\n",
    "        self.units = units\n",
    "\n",
    "    def build(self, input_shape):\n",
    "        self.w = self.add_weight(\n",
    "            name=\"w\",\n",
    "            shape=(input_shape[-1], self.units),\n",
    "            initializer=\"random_normal\",\n",
    "            trainable=True,\n",
    "        )\n",
    "        self.b = self.add_weight(\n",
    "            name=\"b\", shape=(self.units,), initializer=\"random_normal\", trainable=True,\n",
    "        )\n",
    "\n",
    "    def call(self, inputs):\n",
    "        return tf.matmul(inputs, self.w) + self.b"
   ]
  },
  {
   "cell_type": "code",
   "execution_count": 56,
   "metadata": {},
   "outputs": [],
   "source": [
    "class MyReLU(layers.Layer):\n",
    "    def __init__(self):\n",
    "        super(MyReLU, self).__init__()\n",
    "\n",
    "    def call(self, x):\n",
    "        return tf.math.maximum(x, 0)"
   ]
  },
  {
   "cell_type": "code",
   "execution_count": 57,
   "metadata": {},
   "outputs": [
    {
     "name": "stdout",
     "output_type": "stream",
     "text": [
      "1875/1875 - 13s - loss: 0.3495 - accuracy: 0.9038 - 13s/epoch - 7ms/step\n",
      "313/313 - 2s - loss: 0.2062 - accuracy: 0.9406 - 2s/epoch - 6ms/step\n"
     ]
    },
    {
     "data": {
      "text/plain": [
       "[0.2061719298362732, 0.9405999779701233]"
      ]
     },
     "execution_count": 57,
     "metadata": {},
     "output_type": "execute_result"
    }
   ],
   "source": [
    "class MyModel(keras.Model):\n",
    "    def __init__(self, num_classes =10):\n",
    "        super(MyModel, self).__init__()\n",
    "        self.dense1 = Dense(64)\n",
    "        self.dense2 = Dense(num_classes)\n",
    "        self.relu = MyReLU()\n",
    "        \n",
    "    def call(self, input_tensor):\n",
    "        x = self.relu(self.dense1(input_tensor))\n",
    "        return self.dense2(x)\n",
    "    \n",
    "model = MyModel(num_classes=10)\n",
    "model.compile(\n",
    "    optimizer=keras.optimizers.Adam(),\n",
    "    loss=keras.losses.SparseCategoricalCrossentropy(from_logits=True),\n",
    "    metrics=[\"accuracy\"],\n",
    ")\n",
    "\n",
    "model.fit(x_train, y_train, batch_size=BATCH_SIZE, epochs=1, verbose=2)\n",
    "\n",
    "model.evaluate(x_test, y_test, batch_size= BATCH_SIZE, verbose = 2)"
   ]
  },
  {
   "cell_type": "code",
   "execution_count": null,
   "metadata": {},
   "outputs": [],
   "source": []
  }
 ],
 "metadata": {
  "kernelspec": {
   "display_name": "Python 3",
   "language": "python",
   "name": "python3"
  },
  "language_info": {
   "codemirror_mode": {
    "name": "ipython",
    "version": 3
   },
   "file_extension": ".py",
   "mimetype": "text/x-python",
   "name": "python",
   "nbconvert_exporter": "python",
   "pygments_lexer": "ipython3",
   "version": "3.11.3"
  },
  "orig_nbformat": 4
 },
 "nbformat": 4,
 "nbformat_minor": 2
}
