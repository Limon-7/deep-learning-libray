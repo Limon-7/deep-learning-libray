{
 "cells": [
  {
   "cell_type": "code",
   "execution_count": 1,
   "metadata": {},
   "outputs": [],
   "source": [
    "import tensorflow as tf\n",
    "from tensorflow import keras\n",
    "import pandas as pd\n",
    "\n",
    "layers = keras.layers\n",
    "regularizers = keras.regularizers\n",
    "mnist = keras.datasets.mnist\n",
    "\n",
    "#HYPERPARAMETERS\n",
    "BATCH_SIZE = 64\n",
    "WEIGHT_DECAY = 0.001\n",
    "LEARNING_RATE = 0.001"
   ]
  },
  {
   "cell_type": "code",
   "execution_count": 2,
   "metadata": {},
   "outputs": [],
   "source": [
    "(x_train, y_train), (x_test, y_test) = mnist.load_data()\n",
    "x_train = x_train.reshape(-1, 28, 28, 1).astype(\"float32\") / 255.0\n",
    "x_test = x_test.reshape(-1, 28, 28, 1).astype(\"float32\") / 255.0"
   ]
  },
  {
   "cell_type": "code",
   "execution_count": 3,
   "metadata": {},
   "outputs": [],
   "source": [
    "class CNNBlock(layers.Layer):\n",
    "    def __init__(self, out_channels, kernel_size = 3):\n",
    "        super(CNNBlock, self).__init__()\n",
    "        self.conv = layers.Conv2D(out_channels, kernel_size, padding='same')\n",
    "        self.bn = layers.BatchNormalization()\n",
    "    \n",
    "    def call(self, input_tensor, training = False):\n",
    "        x = self.conv(input_tensor)\n",
    "        x = self.bn(x, training = training)\n",
    "        x = tf.nn.relu(x)\n",
    "        return x"
   ]
  },
  {
   "cell_type": "code",
   "execution_count": 5,
   "metadata": {},
   "outputs": [
    {
     "name": "stdout",
     "output_type": "stream",
     "text": [
      "938/938 - 403s - loss: 0.5765 - accuracy: 0.9458 - 403s/epoch - 430ms/step\n",
      "157/157 - 13s - loss: 0.1250 - accuracy: 0.9787 - 13s/epoch - 86ms/step\n"
     ]
    },
    {
     "data": {
      "text/plain": [
       "[0.1250407099723816, 0.9786999821662903]"
      ]
     },
     "execution_count": 5,
     "metadata": {},
     "output_type": "execute_result"
    }
   ],
   "source": [
    "sequential_model = keras.models.Sequential([\n",
    "    CNNBlock(32),\n",
    "    CNNBlock(64),\n",
    "    CNNBlock(128),\n",
    "    layers.Flatten(),\n",
    "    layers.Dense(10)\n",
    "])\n",
    "\n",
    "history = sequential_model.compile(\n",
    "    optimizer = keras.optimizers.Adam(learning_rate= LEARNING_RATE),\n",
    "    loss = keras.losses.SparseCategoricalCrossentropy(from_logits= True),\n",
    "    metrics = [\"accuracy\"]\n",
    ")\n",
    "\n",
    "sequential_model.fit(x_train, y_train, epochs = 1, batch_size= BATCH_SIZE, verbose=2)\n",
    "sequential_model.evaluate(x_test, y_test, batch_size= BATCH_SIZE, verbose = 2)"
   ]
  },
  {
   "cell_type": "markdown",
   "metadata": {},
   "source": [
    "1. Identity Mapping: the term \"identity mapping\" refers to a function or transformation that preserves the original value or structure of its input. "
   ]
  },
  {
   "cell_type": "code",
   "execution_count": 22,
   "metadata": {},
   "outputs": [],
   "source": [
    "class ResBlock(layers.Layer):\n",
    "    def __init__(self, channels):\n",
    "        super(ResBlock, self).__init__()\n",
    "        self.cnn1 = CNNBlock(channels[0])\n",
    "        self.cnn2 = CNNBlock(channels[1])\n",
    "        self.cnn3 = CNNBlock(channels[2])\n",
    "        self.pooling = layers.MaxPooling2D()\n",
    "        self.identity_mapping = layers.Conv2D(channels[1], kernel_size= 3, padding='same')\n",
    "    \n",
    "    def call(self, input_tensor, training = False):\n",
    "        x = self.cnn1(input_tensor, training= training)\n",
    "        x =self.cnn2(x, training= training)\n",
    "        x = self.cnn3(x+self.identity_mapping(input_tensor), training = training)\n",
    "        return self.pooling(x)"
   ]
  },
  {
   "cell_type": "code",
   "execution_count": 33,
   "metadata": {},
   "outputs": [],
   "source": [
    "class ResNetLikeModel(keras.Model):\n",
    "    def __init__(self, num_classes = 10):\n",
    "        super(ResNetLikeModel, self).__init__()\n",
    "        self.block1 = ResBlock([32, 32, 64])\n",
    "        self.block2 = ResBlock([128, 128, 256])\n",
    "        self.block3 = ResBlock([128, 256, 512])\n",
    "        self.pool = layers.GlobalAveragePooling2D()\n",
    "        self.classifier = layers.Dense(num_classes)\n",
    "\n",
    "    def call(self, input_tensor, training = False):\n",
    "        x =  self.block1(input_tensor, training=training)\n",
    "        x =  self.block2(x, training=training)\n",
    "        x =  self.block3(x, training=training)\n",
    "        x = self.pool(x,  training=training)\n",
    "        return self.classifier(x)\n",
    "    \n",
    "    def model(self):\n",
    "        x = keras.Input(shape=(28, 28, 1))\n",
    "        print(x)\n",
    "        return keras.Model(inputs=[x], outputs=self.call(x))"
   ]
  },
  {
   "cell_type": "code",
   "execution_count": null,
   "metadata": {},
   "outputs": [],
   "source": [
    "model = ResNetLikeModel(num_classes= 10)\n",
    "model.compile(\n",
    "    optimizer=keras.optimizers.Adam(),\n",
    "    loss=keras.losses.SparseCategoricalCrossentropy(from_logits=True),\n",
    "    metrics=[\"accuracy\"],\n",
    ")\n",
    "\n",
    "model.fit(x_train, y_train, batch_size=64, epochs=1, verbose=2)\n",
    "# model.evaluate(x_test, y_test, batch_size= BATCH_SIZE, verbose = 2)"
   ]
  },
  {
   "cell_type": "code",
   "execution_count": 34,
   "metadata": {},
   "outputs": [
    {
     "name": "stdout",
     "output_type": "stream",
     "text": [
      "KerasTensor(type_spec=TensorSpec(shape=(None, 28, 28, 1), dtype=tf.float32, name='input_1'), name='input_1', description=\"created by layer 'input_1'\")\n",
      "Model: \"model\"\n",
      "_________________________________________________________________\n",
      " Layer (type)                Output Shape              Param #   \n",
      "=================================================================\n",
      " input_1 (InputLayer)        [(None, 28, 28, 1)]       0         \n",
      "                                                                 \n",
      " res_block_39 (ResBlock)     (None, 14, 14, 64)        28896     \n",
      "                                                                 \n",
      " res_block_40 (ResBlock)     (None, 7, 7, 256)         592512    \n",
      "                                                                 \n",
      " res_block_41 (ResBlock)     (None, 3, 3, 512)         2364032   \n",
      "                                                                 \n",
      " global_average_pooling2d_13  (None, 512)              0         \n",
      "  (GlobalAveragePooling2D)                                       \n",
      "                                                                 \n",
      " dense_15 (Dense)            (None, 10)                5130      \n",
      "                                                                 \n",
      "=================================================================\n",
      "Total params: 2,990,570\n",
      "Trainable params: 2,987,498\n",
      "Non-trainable params: 3,072\n",
      "_________________________________________________________________\n",
      "None\n"
     ]
    }
   ],
   "source": [
    "print(model.model().summary())"
   ]
  },
  {
   "cell_type": "code",
   "execution_count": null,
   "metadata": {},
   "outputs": [],
   "source": []
  }
 ],
 "metadata": {
  "kernelspec": {
   "display_name": "Python 3",
   "language": "python",
   "name": "python3"
  },
  "language_info": {
   "codemirror_mode": {
    "name": "ipython",
    "version": 3
   },
   "file_extension": ".py",
   "mimetype": "text/x-python",
   "name": "python",
   "nbconvert_exporter": "python",
   "pygments_lexer": "ipython3",
   "version": "3.11.3"
  },
  "orig_nbformat": 4
 },
 "nbformat": 4,
 "nbformat_minor": 2
}
