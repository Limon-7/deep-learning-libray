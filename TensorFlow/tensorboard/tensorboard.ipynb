{
 "cells": [
  {
   "cell_type": "markdown",
   "metadata": {},
   "source": [
    "### ***TensorBoard:***\n",
    "TensorBoard is a tool for providing the measurements and visualizations needed during the machine learning workflow. It enables tracking experiment metrics like loss and accuracy, visualizing the model graph, projecting embeddings to a lower dimensional space, and much more.\n",
    "\n",
    "- ***Scalars*** show how the loss and metrics change with every epoch. You can use them to also track training speed, learning rate, and other scalar values. Scalars can be found in the Time Series or Scalars dashboards.\n",
    "- ***Graphs*** help you visualize your model. In this case, the Keras graph of layers is shown which can help you ensure it is built correctly. Graphs can be found in the Graphs dashboard.\n",
    "- ***Histograms and Distributions*** show the distribution of a Tensor over time. This can be useful to visualize weights and biases and verify that they are changing in an expected way. Histograms can be found in the Time Series or Histograms dashboards. Distributions can be found in the Distributions dashboard."
   ]
  },
  {
   "cell_type": "markdown",
   "metadata": {},
   "source": [
    "##### 1. Using callback:\n",
    "`tf.keras.callbacks.TensorBoard(log_dir=log_dir, histogram_freq=1):` callback ensures that logs are created and stored."
   ]
  },
  {
   "cell_type": "markdown",
   "metadata": {},
   "source": [
    "##### 2. Summary file writer:\n",
    "1. Create a file writer. `tf.summary.create_file_writer(path)`\n",
    "2. use the summary_writer to write summary data during training or evaluation.\n",
    "```\n",
    "    with summary_writer.as_default():\n",
    "        tf.summary.scalar('loss', loss_value, step=epoch)\n",
    "```"
   ]
  },
  {
   "cell_type": "markdown",
   "metadata": {},
   "source": [
    "##### 3. TensorFlow Image Summary API:\n",
    "Using the TensorFlow Image Summary API, you can easily log tensors and arbitrary images and view them in TensorBoard.\n",
    "- `tf.summary.image(\"25 training data examples\", images, max_outputs=25, step=0):`"
   ]
  },
  {
   "cell_type": "markdown",
   "metadata": {},
   "source": []
  }
 ],
 "metadata": {
  "language_info": {
   "name": "python"
  },
  "orig_nbformat": 4
 },
 "nbformat": 4,
 "nbformat_minor": 2
}
