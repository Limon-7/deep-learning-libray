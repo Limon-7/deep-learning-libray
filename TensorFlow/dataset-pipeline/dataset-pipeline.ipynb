{
 "cells": [
  {
   "cell_type": "markdown",
   "metadata": {},
   "source": [
    "#### ***`How to create custom dataset pipeline:`***"
   ]
  },
  {
   "cell_type": "markdown",
   "metadata": {},
   "source": [
    "***`1. Image:`***\n",
    "- DataSet from directory:\n",
    "    - `image_dataset_from_directory:` is a function provided by the TensorFlow library, specifically in the tf.keras.preprocessing.image module. It is used to create a dataset from a directory containing image files, which is commonly used in machine learning tasks involving image classification.\n",
    "- ImageDataGenerator and flow_from_directory: ImageDataGenerator is useful when we don't want to augemt the data."
   ]
  },
  {
   "cell_type": "code",
   "execution_count": 1,
   "metadata": {},
   "outputs": [],
   "source": []
  },
  {
   "cell_type": "code",
   "execution_count": null,
   "metadata": {},
   "outputs": [],
   "source": []
  }
 ],
 "metadata": {
  "kernelspec": {
   "display_name": "Python 3",
   "language": "python",
   "name": "python3"
  },
  "language_info": {
   "codemirror_mode": {
    "name": "ipython",
    "version": 3
   },
   "file_extension": ".py",
   "mimetype": "text/x-python",
   "name": "python",
   "nbconvert_exporter": "python",
   "pygments_lexer": "ipython3",
   "version": "3.11.3"
  },
  "orig_nbformat": 4
 },
 "nbformat": 4,
 "nbformat_minor": 2
}
