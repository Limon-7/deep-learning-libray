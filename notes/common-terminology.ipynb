{
 "cells": [
  {
   "cell_type": "markdown",
   "metadata": {},
   "source": [
    "#### Python slicing:\n",
    "\n",
    "In python index start with 0 like other programming language. However, For negative index, it will start from `-1 to -n`. For example, arr[0:3] will print 0 to 2 index elements.\n",
    "`Lst[ Initial : End : IndexJump ]`\n",
    "\n",
    "- **_Initial:_** Starting index.\n",
    "- **_End:_** Ending Index.\n",
    "- **_IndexJump:_** How many elemnts it will skip.\n",
    "\n",
    "| Index     |   0 |   1 |   2 |   3 |   4 |\n",
    "| :-------- | --: | --: | --: | --: | --: |\n",
    "| Elememnts |   1 |   2 |   3 |   4 |   5 |\n",
    "| Neg-Index |  -5 |  -4 |  -3 |  -2 |  -1 |\n"
   ]
  },
  {
   "cell_type": "code",
   "execution_count": 17,
   "metadata": {},
   "outputs": [
    {
     "name": "stdout",
     "output_type": "stream",
     "text": [
      "[13, 14]\n",
      "[13, 14]\n",
      "[12, 13, 14, 15]\n"
     ]
    }
   ],
   "source": [
    "arr = [12, 13, 14, 15, 16]\n",
    "print(arr[1:-2])\n",
    "print(arr[-4:-2])\n",
    "print(arr[:-1])"
   ]
  },
  {
   "cell_type": "markdown",
   "metadata": {},
   "source": [
    "slicing on multi-dimensional arrays (e.g., 2D arrays) by specifying slices for each dimension separated by commas:\n"
   ]
  },
  {
   "cell_type": "code",
   "execution_count": 13,
   "metadata": {},
   "outputs": [
    {
     "name": "stdout",
     "output_type": "stream",
     "text": [
      "[[4]]\n"
     ]
    }
   ],
   "source": [
    "import numpy as np\n",
    "\n",
    "arr_2d = np.array([[0, 1, 2], [3, 4, 5], [6, 7, 8]])\n",
    "print(arr_2d[1:2, 1:-1])"
   ]
  },
  {
   "cell_type": "code",
   "execution_count": 73,
   "metadata": {},
   "outputs": [
    {
     "name": "stdout",
     "output_type": "stream",
     "text": [
      "Axis=0-> [15 18 21 24]\n",
      "Axis=-1-> [10 26 42]\n",
      "Axis(0): [15, 18, 21, 24]\n",
      "Axis(1 or -1): [10, 26, 42]\n"
     ]
    }
   ],
   "source": [
    "# Create a 2D array (3 rows, 4 columns)\n",
    "arr = np.array(\n",
    "    [\n",
    "        [1, 2, 3, 4],\n",
    "        [5, 6, 7, 8],\n",
    "        [9, 10, 11, 12]\n",
    "    ])\n",
    "\n",
    "print(\"Axis=0->\", np.sum(arr, axis=0)) # # Calculate the sum along the rows (axis=0) for each column.\n",
    "print(\"Axis=-1->\", np.sum(arr, axis=-1)) # #Calculate the sum along the columns (axis=1) for each row. Sum along axis=1 (columns)\n",
    "\n",
    "m,n = arr.shape\n",
    "# print(m,n)\n",
    "l=[]\n",
    "k=[]\n",
    "\n",
    "for i in range(n):\n",
    "    sum = 0\n",
    "    for j in range(m):\n",
    "        sum+=arr[j][i]\n",
    "    k.append(sum)\n",
    "print(\"Axis(0):\",k)\n",
    "\n",
    "for i in range(m):\n",
    "    sum = 0\n",
    "    for j in range(n):\n",
    "        sum+=arr[i][j]\n",
    "    l.append(sum)\n",
    "print(\"Axis(1 or -1):\",l)"
   ]
  },
  {
   "cell_type": "code",
   "execution_count": 26,
   "metadata": {},
   "outputs": [
    {
     "name": "stdout",
     "output_type": "stream",
     "text": [
      "Axis = 0-> [15 18 21 24]\n",
      "Axis = 1-> [10 26 42]\n",
      "Axis = -1-> [10 26 42]\n"
     ]
    }
   ],
   "source": [
    "## 2d array:\n",
    "# Sample 2D tensor (3 rows, 4 columns) representing a batch of data\n",
    "input_data = np.array([[1, 2, 3, 4], [5, 6, 7, 8], [9, 10, 11, 12]])\n",
    "\n",
    "# Calculate the sum along the rows (axis=0) for each column\n",
    "print(\"Axis = 0->\", np.sum(input_data, axis=0))  # output: [15, 18, 21, 24]\n",
    "# Calculate the sum along the columns (axis=1) for each row\n",
    "print(\"Axis = 1->\", np.sum(input_data, axis=1))  # output:[10,26,42]\n",
    "# Axis=-1 ->calculate the sum along the last axis,\n",
    "print(\"Axis = -1->\", np.sum(input_data, axis=-1))  # output:[10,26,42]"
   ]
  },
  {
   "cell_type": "code",
   "execution_count": 36,
   "metadata": {},
   "outputs": [
    {
     "name": "stdout",
     "output_type": "stream",
     "text": [
      "[[[18 19 20]\n",
      "  [22 23 24]]]\n",
      "1\n"
     ]
    }
   ],
   "source": [
    "arr = np.array(\n",
    "    [\n",
    "        [[1, 2, 3, 4], [5, 6, 7, 8], [9, 10, 11, 12]],\n",
    "        [[13, 14, 15, 16], [17, 18, 19, 20], [21, 22, 23, 24]],\n",
    "    ]\n",
    ")\n",
    "print(arr[1:,1:,1:])\n",
    "print(arr[0][0][0])"
   ]
  },
  {
   "cell_type": "code",
   "execution_count": 119,
   "metadata": {},
   "outputs": [
    {
     "name": "stdout",
     "output_type": "stream",
     "text": [
      "Axis = 0->\n",
      " [[14 16 18 20]\n",
      " [22 24 26 28]\n",
      " [30 32 34 36]]\n",
      "Axis = 1->\n",
      " [[15 18 21 24]\n",
      " [51 54 57 60]]\n",
      "Axis = -1->\n",
      " [[10 26 42]\n",
      " [58 74 90]]\n",
      "(2, 3, 4)\n",
      "axis=-1 or 2->\n",
      " [[10. 26. 42.]\n",
      " [58. 74. 90.]]\n",
      "axis=1->\n",
      " [[15. 18. 21. 24.]\n",
      " [51. 54. 57. 60.]]\n",
      "axis=0 ->\n",
      " [[14. 16. 18. 20.]\n",
      " [22. 24. 26. 28.]\n",
      " [30. 32. 34. 36.]]\n"
     ]
    }
   ],
   "source": [
    "arr = np.array(\n",
    "    [\n",
    "        [[1, 2, 3, 4], [5, 6, 7, 8], [9, 10, 11, 12]],\n",
    "        [[13, 14, 15, 16], [17, 18, 19, 20], [21, 22, 23, 24]],\n",
    "    ]\n",
    ")\n",
    "# Calculate the sum along the rows (axis=0) for each column\n",
    "print(\"Axis = 0->\\n\", np.sum(arr, axis=0))  # output: [15, 18, 21, 24]\n",
    "# Calculate the sum along the columns (axis=1) for each row\n",
    "print(\"Axis = 1->\\n\", np.sum(arr, axis=1))  # output:[10,26,42]\n",
    "# Axis=-1 ->calculate the sum along the last axis,\n",
    "print(\"Axis = -1->\\n\", np.sum(arr, axis=-1))  # output:[10,26,42]\n",
    "print(arr.shape)\n",
    "m,n,l=arr.shape\n",
    "axis_2=np.zeros([m,n])\n",
    "for i in range(m):\n",
    "    for j in range(n):\n",
    "        sum = 0\n",
    "        for k in range(l):\n",
    "            sum+=arr[i][j][k]\n",
    "        axis_2[i][j]=sum\n",
    "print(\"axis=-1 or 2->\\n\",axis_2)\n",
    "\n",
    "axis_1= np.zeros([m,l])\n",
    "for i in range(m):\n",
    "    for j in range(l):\n",
    "        sum = 0\n",
    "        for k in range(n):\n",
    "            sum+=arr[i][k][j]\n",
    "        axis_1[i][j]=sum\n",
    "print(\"axis=1->\\n\", axis_1)\n",
    "\n",
    "axis_0=np.zeros([n,l])\n",
    "for i in range(n):\n",
    "    for j in range(l):\n",
    "        sum = 0\n",
    "        for k in range(m):\n",
    "            sum+=arr[k][i][j]\n",
    "        axis_0[i][j]=sum\n",
    "print(\"axis=0 ->\\n\",axis_0)\n"
   ]
  },
  {
   "cell_type": "code",
   "execution_count": 3,
   "metadata": {},
   "outputs": [
    {
     "name": "stdout",
     "output_type": "stream",
     "text": [
      "Get Current Working Directory g:\\Code\\deep-learning-libray\\notes\n",
      "g:\\Code\\deep-learning-libray\\notes\\path\n"
     ]
    }
   ],
   "source": [
    "import os\n",
    "\n",
    "\n",
    "current_dir= os.getcwd()\n",
    "print(\"Get Current Working Directory\", os.getcwd())\n",
    "# print(\"Absolute Path:\",os.path.abspath(__file__))\n",
    "# print(\"Absolute Path Directory:\",os.path.dirname(os.path.abspath(__file__)))\n",
    "print(os.path.join(os.getcwd(),\"path\"))"
   ]
  },
  {
   "cell_type": "code",
   "execution_count": null,
   "metadata": {},
   "outputs": [],
   "source": []
  }
 ],
 "metadata": {
  "kernelspec": {
   "display_name": "Python 3",
   "language": "python",
   "name": "python3"
  },
  "language_info": {
   "codemirror_mode": {
    "name": "ipython",
    "version": 3
   },
   "file_extension": ".py",
   "mimetype": "text/x-python",
   "name": "python",
   "nbconvert_exporter": "python",
   "pygments_lexer": "ipython3",
   "version": "3.11.3"
  },
  "orig_nbformat": 4
 },
 "nbformat": 4,
 "nbformat_minor": 2
}
