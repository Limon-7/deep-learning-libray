{
 "cells": [
  {
   "attachments": {},
   "cell_type": "markdown",
   "metadata": {},
   "source": [
    "#### 1. Normal Distribution vs Uniform Distribution:\n",
    "1. ***Uniform Distribution:*** A uniform distribution is a type of probability distribution where all values within a certain range are equally likely to occur. In other words, every value in the range has the same probability of being selected.\n",
    "    - all values within a range have equal probability.\n",
    "    * used when all outcomes are equally likely.\n",
    "    * has finite support (range).\n",
    "\n",
    "\n",
    "2. ***Normal Distribution:*** Gaussian distribution, is a probability distribution that is symmetric about the mean, showing that data near the mean are more frequent in occurrence than data far from the mean.\n",
    "    - values closer to the mean have higher probability.\n",
    "    * often used to model continuous data.\n",
    "    * has negative infinity to positive infinity.\n"
   ]
  },
  {
   "cell_type": "code",
   "execution_count": null,
   "metadata": {},
   "outputs": [],
   "source": []
  }
 ],
 "metadata": {
  "language_info": {
   "name": "python"
  },
  "orig_nbformat": 4
 },
 "nbformat": 4,
 "nbformat_minor": 2
}
