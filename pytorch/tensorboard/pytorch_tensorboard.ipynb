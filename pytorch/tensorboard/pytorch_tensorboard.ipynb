{
 "cells": [
  {
   "cell_type": "markdown",
   "metadata": {},
   "source": [
    "### Tensorboad:\n",
    "TensorBoard is a web-based visualization tool developed by Google for monitoring and visualizing various aspects of machine learning experiments, primarily in the context of TensorFlow. It provides a user-friendly interface for tracking and understanding the training process, model performance, and other relevant metrics.\n",
    "\n",
    "1. ***Create a SummaryWriter:*** Initialize a SummaryWriter object to log your training data and events. Specify the log directory where the TensorBoard logs will be saved. `SummaryWriter(log_dir)`\n",
    "\n",
    "2. ***Logging Scalars:*** We can log `scalar values such as loss, accuracy,` etc. during your `training loop` using the ***`add_scalar`*** method of the ***`SummaryWriter`***. Syntax: `writer.add_scalar('Loss', loss, epoch, global_step=step)`. The `global_step` parameter is optional and allows you to specify the step or iteration at which this scalar value is being logged.\n",
    "\n",
    "3. ***Logging Images:*** We can log images using the `add_image` method. Convert your image data to a suitable format `(e.g., NumPy arrays or Tensors)` before logging.\n",
    "\n",
    "```\n",
    "    img_grid = torchvision.utils.make_grid(data)\n",
    "    writer.add_image('Sample Image', image, epoch)\n",
    "```\n",
    "\n",
    "4. ***Visualizing Model Graph:*** To visualize your model's computation graph, use the `add_graph` method. `writer.add_graph(model, dummy_input)`\n",
    "\n",
    "5. ***Log Hyperparameters:*** Use the `add_hparams` method to log hyperparameters and their associated values. We should provide a `dictionary of hyperparameters` where the keys are the hyperparameter names and the values are the corresponding values you want to log. ***`writer.add_hparams(hparam_dict, metric_dict)`***\n",
    "\n",
    "6. ***Log Embedding:*** Use the add_embedding function to log the embedding. You need to provide the data, metadata (labels), and a tag for the embedding.\n",
    "`writer.add_embedding(data, metadata=labels, tag=\"My_Embedding, global_step=batch_idx\")`.\n",
    "\n",
    "7. ***Log Confusion Matrix:*** Log the confusion matrix as an image using `writer.add_image` after converting the matrix to a format suitable for visualization. We can use `matplotlib` to generate the confusion matrix plot and save it as an image.\n"
   ]
  }
 ],
 "metadata": {
  "language_info": {
   "name": "python"
  },
  "orig_nbformat": 4
 },
 "nbformat": 4,
 "nbformat_minor": 2
}
