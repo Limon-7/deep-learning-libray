{
 "cells": [
  {
   "attachments": {},
   "cell_type": "markdown",
   "metadata": {},
   "source": [
    "### Calculte the gradient\n",
    "    1. Using Numpy\n",
    "    2. Using Pytorch autograd\n",
    "\n",
    "1. Using Numpy\n",
    "$$f=w*x$$\n",
    "$$f=w*x$$\n",
    "\n"
   ]
  },
  {
   "cell_type": "code",
   "execution_count": 38,
   "metadata": {},
   "outputs": [
    {
     "name": "stdout",
     "output_type": "stream",
     "text": [
      "Prediction before training: f(5)= 0.000\n",
      "epoch 1: w=1.200  loss=30.000\n",
      "epoch 3: w=1.872  loss=0.768\n",
      "epoch 5: w=1.980  loss=0.020\n",
      "epoch 7: w=1.997  loss=0.001\n",
      "epoch 9: w=1.999  loss=0.000\n",
      "epoch 11: w=2.000  loss=0.000\n",
      "epoch 13: w=2.000  loss=0.000\n",
      "epoch 15: w=2.000  loss=0.000\n",
      "epoch 17: w=2.000  loss=0.000\n",
      "epoch 19: w=2.000  loss=0.000\n",
      "Prediction after training: f(5)= 10.000\n"
     ]
    }
   ],
   "source": [
    "import numpy as np\n",
    "\n",
    "X= np.array([1,2,3,4], dtype=np.float32)\n",
    "Y= np.array([2,4,6,8], dtype=np.float32)\n",
    "\n",
    "w=0.0\n",
    "\n",
    "# model prediction\n",
    "def forward(x):\n",
    "    return w * x\n",
    "\n",
    "# loss\n",
    "def loss(y, y_predicted):\n",
    "   return ((y_predicted - y)**2).mean()\n",
    "\n",
    "\n",
    "# gradient\n",
    "# MSE= 1/N(w*x-y)**2\n",
    "# J = MSE = 1/N * (w*x - y)**2\n",
    "# dJ/dw = 1/N * 2x(w*x - y)\n",
    "def grad(x,y, y_pred):\n",
    "    return np.dot(2*x,y_pred-y).mean()\n",
    "\n",
    "print(f\"Prediction before training: f(5)= {forward(5):.3f}\")\n",
    "learing_rate=.01\n",
    "no_iteration=20\n",
    "for epoch in range(no_iteration):\n",
    "    y_pred=forward(X)\n",
    "    # print(y_pred)\n",
    "\n",
    "    l= loss(Y, y_pred)\n",
    "    dw = grad(X,Y,y_pred)\n",
    "\n",
    "    w-= learing_rate * dw\n",
    "\n",
    "    if(epoch % 2 ==0):\n",
    "        print(f\"epoch {epoch+1}: w={w:.3f}  loss={l:.3f}\")\n",
    "print(f\"Prediction after training: f(5)= {forward(5):.3f}\")\n"
   ]
  },
  {
   "attachments": {},
   "cell_type": "markdown",
   "metadata": {},
   "source": [
    "2. Using Pytorch Autograd"
   ]
  },
  {
   "cell_type": "code",
   "execution_count": 37,
   "metadata": {},
   "outputs": [
    {
     "name": "stdout",
     "output_type": "stream",
     "text": [
      "Prediction before training: f(5)= 0.000\n",
      "epoch 1: w=0.300  loss=30.000\n",
      "epoch 11: w=1.665  loss=1.163\n",
      "epoch 21: w=1.934  loss=0.045\n",
      "epoch 31: w=1.987  loss=0.002\n",
      "epoch 41: w=1.997  loss=0.000\n",
      "epoch 51: w=1.999  loss=0.000\n",
      "epoch 61: w=2.000  loss=0.000\n",
      "epoch 71: w=2.000  loss=0.000\n",
      "epoch 81: w=2.000  loss=0.000\n",
      "epoch 91: w=2.000  loss=0.000\n",
      "Prediction after training: f(5)= 10.000\n"
     ]
    }
   ],
   "source": [
    "import torch\n",
    "\n",
    "X= torch.tensor([1,2,3,4], dtype=torch.float32)\n",
    "Y= torch.tensor([2,4,6,8], dtype=torch.float32)\n",
    "\n",
    "w=torch.tensor(0.0, dtype=torch.float32, requires_grad=True)\n",
    "\n",
    "# model prediction\n",
    "def forward(x):\n",
    "    return w * x\n",
    "\n",
    "# loss\n",
    "def loss(y, y_predicted):\n",
    "   return ((y_predicted - y)**2).mean()\n",
    "\n",
    "print(f\"Prediction before training: f(5)= {forward(5):.3f}\")\n",
    "learing_rate=.01\n",
    "no_iteration=100\n",
    "for epoch in range(no_iteration):\n",
    "    y_pred=forward(X)\n",
    "\n",
    "    l= loss(Y, y_pred)\n",
    "    l.backward()\n",
    "    with torch.no_grad():\n",
    "        w-= learing_rate * w.grad\n",
    "    w.grad.zero_()\n",
    "    if(epoch % 10 ==0):\n",
    "        print(f\"epoch {epoch+1}: w={w:.3f}  loss={l:.3f}\")\n",
    "print(f\"Prediction after training: f(5)= {forward(5):.3f}\")\n"
   ]
  },
  {
   "cell_type": "code",
   "execution_count": null,
   "metadata": {},
   "outputs": [],
   "source": []
  }
 ],
 "metadata": {
  "kernelspec": {
   "display_name": "Python 3",
   "language": "python",
   "name": "python3"
  },
  "language_info": {
   "codemirror_mode": {
    "name": "ipython",
    "version": 3
   },
   "file_extension": ".py",
   "mimetype": "text/x-python",
   "name": "python",
   "nbconvert_exporter": "python",
   "pygments_lexer": "ipython3",
   "version": "3.11.3"
  },
  "orig_nbformat": 4
 },
 "nbformat": 4,
 "nbformat_minor": 2
}
