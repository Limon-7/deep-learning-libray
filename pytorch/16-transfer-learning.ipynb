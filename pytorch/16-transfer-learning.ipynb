{
 "cells": [
  {
   "cell_type": "code",
   "execution_count": 41,
   "metadata": {},
   "outputs": [],
   "source": [
    "# import necessay modules\n",
    "import torch\n",
    "import torchinfo\n",
    "import torch.nn.functional as F  # Parameterless functions, like (some) activation functions\n",
    "import torchvision.datasets as datasets  # Standard datasets\n",
    "from torch.utils.data import Dataset, DataLoader # Gives easier dataset managment by creating mini batches etc.\n",
    "import torchvision.transforms as transforms  # Transformations we can perform on our dataset for augmentation\n",
    "from torch import optim  # For optimizers like SGD, Adam, etc.\n",
    "from torch import nn  # All neural network modules\n",
    "from tqdm import tqdm # for nice "
   ]
  },
  {
   "cell_type": "code",
   "execution_count": 26,
   "metadata": {},
   "outputs": [],
   "source": [
    "# device config\n",
    "device=torch.device('cuda' if torch.cuda.is_available() else 'cpu') # "
   ]
  },
  {
   "cell_type": "code",
   "execution_count": 43,
   "metadata": {},
   "outputs": [],
   "source": [
    "# Hyperparameter\n",
    "in_channel = 3 # for minist 28*28\n",
    "num_classes = 10 # 0-9\n",
    "learning_rate = 0.001\n",
    "batch_size = 64\n",
    "num_epochs = 3"
   ]
  },
  {
   "cell_type": "code",
   "execution_count": 44,
   "metadata": {},
   "outputs": [
    {
     "name": "stdout",
     "output_type": "stream",
     "text": [
      "Files already downloaded and verified\n",
      "Files already downloaded and verified\n"
     ]
    }
   ],
   "source": [
    "# Load Data\n",
    "# shape=3, 32, 32\n",
    "train_dataset = datasets.CIFAR10(\n",
    "    root=\"./data\", train=True, transform=transforms.ToTensor(), download=True\n",
    ")\n",
    "test_dataset = datasets.CIFAR10(\n",
    "    root=\"./data\", train=False, transform=transforms.ToTensor(), download=True\n",
    ")\n",
    "train_loader = DataLoader(dataset=train_dataset, batch_size=batch_size, shuffle=True)\n",
    "test_loader = DataLoader(dataset=test_dataset, batch_size=batch_size, shuffle=True)"
   ]
  },
  {
   "cell_type": "code",
   "execution_count": 45,
   "metadata": {},
   "outputs": [
    {
     "name": "stdout",
     "output_type": "stream",
     "text": [
      "torch.Size([64, 3, 32, 32])\n",
      "torch.Size([64, 3, 32, 32])\n",
      "torch.Size([64, 3, 32, 32])\n"
     ]
    }
   ],
   "source": [
    "for batch_idx, (data, targets) in enumerate((train_loader)):\n",
    "    print(data.shape)\n",
    "    if(batch_idx==2): break"
   ]
  },
  {
   "cell_type": "code",
   "execution_count": 74,
   "metadata": {},
   "outputs": [
    {
     "name": "stdout",
     "output_type": "stream",
     "text": [
      "============================================================================================================================================\n",
      "Layer (type:depth-idx)                   Input Shape               Output Shape              Param #                   Mult-Adds\n",
      "============================================================================================================================================\n",
      "CNNNet                                   [1, 3, 32, 32]            [1, 10]                   --                        --\n",
      "├─Conv2d: 1-1                            [1, 3, 32, 32]            [1, 6, 28, 28]            456                       357,504\n",
      "│    └─weight                                                                                ├─450\n",
      "│    └─bias                                                                                  └─6\n",
      "├─MaxPool2d: 1-2                         [1, 6, 28, 28]            [1, 6, 14, 14]            --                        --\n",
      "├─Conv2d: 1-3                            [1, 6, 14, 14]            [1, 16, 10, 10]           2,416                     241,600\n",
      "│    └─weight                                                                                ├─2,400\n",
      "│    └─bias                                                                                  └─16\n",
      "├─MaxPool2d: 1-4                         [1, 16, 10, 10]           [1, 16, 5, 5]             --                        --\n",
      "├─Conv2d: 1-5                            [1, 16, 5, 5]             [1, 120, 1, 1]            48,120                    48,120\n",
      "│    └─weight                                                                                ├─48,000\n",
      "│    └─bias                                                                                  └─120\n",
      "├─Flatten: 1-6                           [1, 120, 1, 1]            [1, 120]                  --                        --\n",
      "├─Linear: 1-7                            [1, 120]                  [1, 64]                   7,744                     7,744\n",
      "│    └─weight                                                                                ├─7,680\n",
      "│    └─bias                                                                                  └─64\n",
      "├─Linear: 1-8                            [1, 64]                   [1, 10]                   650                       650\n",
      "│    └─weight                                                                                ├─640\n",
      "│    └─bias                                                                                  └─10\n",
      "============================================================================================================================================\n",
      "Total params: 59,386\n",
      "Trainable params: 59,386\n",
      "Non-trainable params: 0\n",
      "Total mult-adds (Units.MEGABYTES): 0.66\n",
      "============================================================================================================================================\n",
      "Input size (MB): 0.01\n",
      "Forward/backward pass size (MB): 0.05\n",
      "Params size (MB): 0.24\n",
      "Estimated Total Size (MB): 0.30\n",
      "============================================================================================================================================\n"
     ]
    },
    {
     "data": {
      "text/plain": [
       "============================================================================================================================================\n",
       "Layer (type:depth-idx)                   Input Shape               Output Shape              Param #                   Mult-Adds\n",
       "============================================================================================================================================\n",
       "CNNNet                                   [1, 3, 32, 32]            [1, 10]                   --                        --\n",
       "├─Conv2d: 1-1                            [1, 3, 32, 32]            [1, 6, 28, 28]            456                       357,504\n",
       "│    └─weight                                                                                ├─450\n",
       "│    └─bias                                                                                  └─6\n",
       "├─MaxPool2d: 1-2                         [1, 6, 28, 28]            [1, 6, 14, 14]            --                        --\n",
       "├─Conv2d: 1-3                            [1, 6, 14, 14]            [1, 16, 10, 10]           2,416                     241,600\n",
       "│    └─weight                                                                                ├─2,400\n",
       "│    └─bias                                                                                  └─16\n",
       "├─MaxPool2d: 1-4                         [1, 16, 10, 10]           [1, 16, 5, 5]             --                        --\n",
       "├─Conv2d: 1-5                            [1, 16, 5, 5]             [1, 120, 1, 1]            48,120                    48,120\n",
       "│    └─weight                                                                                ├─48,000\n",
       "│    └─bias                                                                                  └─120\n",
       "├─Flatten: 1-6                           [1, 120, 1, 1]            [1, 120]                  --                        --\n",
       "├─Linear: 1-7                            [1, 120]                  [1, 64]                   7,744                     7,744\n",
       "│    └─weight                                                                                ├─7,680\n",
       "│    └─bias                                                                                  └─64\n",
       "├─Linear: 1-8                            [1, 64]                   [1, 10]                   650                       650\n",
       "│    └─weight                                                                                ├─640\n",
       "│    └─bias                                                                                  └─10\n",
       "============================================================================================================================================\n",
       "Total params: 59,386\n",
       "Trainable params: 59,386\n",
       "Non-trainable params: 0\n",
       "Total mult-adds (Units.MEGABYTES): 0.66\n",
       "============================================================================================================================================\n",
       "Input size (MB): 0.01\n",
       "Forward/backward pass size (MB): 0.05\n",
       "Params size (MB): 0.24\n",
       "Estimated Total Size (MB): 0.30\n",
       "============================================================================================================================================"
      ]
     },
     "execution_count": 74,
     "metadata": {},
     "output_type": "execute_result"
    }
   ],
   "source": [
    "# create CNN layer:\n",
    "class CNNNet(nn.Module):\n",
    "    def __init__(self, in_channels = 3, num_classes=10):\n",
    "        super(CNNNet, self).__init__()\n",
    "        self.conv1 = nn.Conv2d(in_channels, out_channels= 6, kernel_size=(5,5)) # output = (32-5+2*0)/1+1=28 -> [1, 6,28,28]\n",
    "        self.pool = nn.MaxPool2d(kernel_size=(2,2), stride=(2,2)) # \n",
    "        self.conv2 = nn.Conv2d(in_channels = 6, out_channels= 16, kernel_size=(5,5))\n",
    "        self.conv3 = nn.Conv2d(16,120,5)\n",
    "        self.flat = nn.Flatten()\n",
    "        self.fc1 = nn.Linear(120,64)\n",
    "        self.fc2 = nn.Linear(64,num_classes)\n",
    "    \n",
    "    def forward(self,x):\n",
    "        x = F.relu(self.conv1(x))\n",
    "        x = self.pool(x)\n",
    "        x = F.relu(self.conv2(x))\n",
    "        x = self.pool(x)\n",
    "        x = F.relu(self.conv3(x))\n",
    "        # x = x.reshape(x.shape[0], -1)\n",
    "        x = self.flat(x)\n",
    "        x = F.relu(self.fc1(x))\n",
    "        x = self.fc2(x)\n",
    "        return x\n",
    "model = CNNNet().to(device)\n",
    "torchinfo.summary(model, input_size=(1, 3, 32, 32), col_names= (\"input_size\", \"output_size\", \"num_params\", \"mult_adds\"), verbose=2,)"
   ]
  },
  {
   "cell_type": "code",
   "execution_count": 68,
   "metadata": {},
   "outputs": [
    {
     "data": {
      "text/plain": [
       "==========================================================================================\n",
       "Layer (type:depth-idx)                   Output Shape              Param #\n",
       "==========================================================================================\n",
       "CNNNet                                   [1, 10]                   --\n",
       "├─Conv2d: 1-1                            [1, 6, 30, 30]            456\n",
       "├─MaxPool2d: 1-2                         [1, 6, 15, 15]            --\n",
       "├─Conv2d: 1-3                            [1, 16, 11, 11]           2,416\n",
       "├─MaxPool2d: 1-4                         [1, 16, 5, 5]             --\n",
       "├─Conv2d: 1-5                            [1, 120, 1, 1]            48,120\n",
       "├─Linear: 1-6                            [1, 64]                   7,744\n",
       "├─Linear: 1-7                            [1, 10]                   650\n",
       "==========================================================================================\n",
       "Total params: 59,386\n",
       "Trainable params: 59,386\n",
       "Non-trainable params: 0\n",
       "Total mult-adds (Units.MEGABYTES): 0.76\n",
       "==========================================================================================\n",
       "Input size (MB): 0.01\n",
       "Forward/backward pass size (MB): 0.06\n",
       "Params size (MB): 0.24\n",
       "Estimated Total Size (MB): 0.31\n",
       "=========================================================================================="
      ]
     },
     "execution_count": 68,
     "metadata": {},
     "output_type": "execute_result"
    }
   ],
   "source": [
    "# Initialize network\n",
    "model = CNNNet().to(device)\n",
    "torchinfo.summary(model, input_size=(1, 3, 32, 32))"
   ]
  },
  {
   "cell_type": "code",
   "execution_count": 9,
   "metadata": {},
   "outputs": [],
   "source": [
    "# Loss and optimizer\n",
    "loss_fn = nn.CrossEntropyLoss()\n",
    "optimizer = optim.Adam(model.parameters(), lr=learning_rate)"
   ]
  },
  {
   "cell_type": "code",
   "execution_count": 10,
   "metadata": {},
   "outputs": [],
   "source": [
    "# Train Network\n",
    "def train(num_epochs, train_loader, model, device, loss_fn, optimizer):\n",
    "    for epoch in range(num_epochs):\n",
    "        losses=[] \n",
    "        for batch_idx, (data, targets) in enumerate(tqdm(train_loader)):\n",
    "            # Get data to cuda if possible\n",
    "            data = data.to(device=device)\n",
    "            targets = targets.to(device=device)\n",
    "\n",
    "            # Forward\n",
    "            scores = model(data)\n",
    "            loss = loss_fn(scores, targets)\n",
    "            losses.append(loss.item())\n",
    "\n",
    "            # Backward\n",
    "            optimizer.zero_grad()\n",
    "            loss.backward()\n",
    "\n",
    "            # Gradient descent or adam step\n",
    "            optimizer.step()\n",
    "        mean_loss=sum(losses)/len(losses)\n",
    "        print(f\"at {epoch} epoch loss: {mean_loss:.5f}\")"
   ]
  },
  {
   "cell_type": "code",
   "execution_count": 13,
   "metadata": {},
   "outputs": [
    {
     "name": "stderr",
     "output_type": "stream",
     "text": [
      "100%|██████████| 938/938 [00:27<00:00, 34.73it/s]\n"
     ]
    },
    {
     "name": "stdout",
     "output_type": "stream",
     "text": [
      "at 0 epoch loss: 0.32642\n"
     ]
    },
    {
     "name": "stderr",
     "output_type": "stream",
     "text": [
      "100%|██████████| 938/938 [00:21<00:00, 43.03it/s]\n"
     ]
    },
    {
     "name": "stdout",
     "output_type": "stream",
     "text": [
      "at 1 epoch loss: 0.09283\n"
     ]
    },
    {
     "name": "stderr",
     "output_type": "stream",
     "text": [
      "100%|██████████| 938/938 [00:25<00:00, 37.17it/s]"
     ]
    },
    {
     "name": "stdout",
     "output_type": "stream",
     "text": [
      "at 2 epoch loss: 0.06818\n"
     ]
    },
    {
     "name": "stderr",
     "output_type": "stream",
     "text": [
      "\n"
     ]
    }
   ],
   "source": [
    "train(num_epochs, train_loader, model, device, loss_fn, optimizer)"
   ]
  },
  {
   "cell_type": "code",
   "execution_count": 11,
   "metadata": {},
   "outputs": [],
   "source": [
    "# Check accuracy on training & test to see how good our model\n",
    "def check_accuracy(loader, model):\n",
    "    num_correct = 0\n",
    "    num_samples = 0\n",
    "    model.eval()\n",
    "\n",
    "    # We don't need to keep track of gradients here so we wrap it in torch.no_grad()\n",
    "    with torch.no_grad():\n",
    "        # Loop through the data\n",
    "        for x, y in loader:\n",
    "\n",
    "            # Move data to device\n",
    "            x = x.to(device=device)\n",
    "            y = y.to(device=device)\n",
    "\n",
    "            # Forward pass\n",
    "            scores = model(x)\n",
    "            _, predictions = scores.max(1)\n",
    "\n",
    "            # Check how many we got correct\n",
    "            num_correct += (predictions == y).sum()\n",
    "\n",
    "            # Keep track of number of samples\n",
    "            num_samples += predictions.size(0)\n",
    "\n",
    "    model.train()\n",
    "    return num_correct / num_samples"
   ]
  },
  {
   "cell_type": "code",
   "execution_count": 12,
   "metadata": {},
   "outputs": [
    {
     "name": "stdout",
     "output_type": "stream",
     "text": [
      "Accuracy on training set: 9.93\n",
      "Accuracy on test set: 10.31\n"
     ]
    }
   ],
   "source": [
    "# Check accuracy on training & test to see how good our model\n",
    "print(f\"Accuracy on training set: {check_accuracy(train_loader, model)*100:.2f}\")\n",
    "print(f\"Accuracy on test set: {check_accuracy(test_loader, model)*100:.2f}\")"
   ]
  },
  {
   "cell_type": "code",
   "execution_count": null,
   "metadata": {},
   "outputs": [],
   "source": []
  }
 ],
 "metadata": {
  "kernelspec": {
   "display_name": "Python 3",
   "language": "python",
   "name": "python3"
  },
  "language_info": {
   "codemirror_mode": {
    "name": "ipython",
    "version": 3
   },
   "file_extension": ".py",
   "mimetype": "text/x-python",
   "name": "python",
   "nbconvert_exporter": "python",
   "pygments_lexer": "ipython3",
   "version": "3.11.3"
  },
  "orig_nbformat": 4
 },
 "nbformat": 4,
 "nbformat_minor": 2
}
