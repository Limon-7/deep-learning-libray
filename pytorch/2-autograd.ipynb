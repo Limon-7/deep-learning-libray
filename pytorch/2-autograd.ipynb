{
 "cells": [
  {
   "attachments": {},
   "cell_type": "markdown",
   "metadata": {},
   "source": [
    "\n",
    "#### [1. Hessian matrix:](https://www.khanacademy.org/math/multivariable-calculus/applications-of-multivariable-derivatives/quadratic-approximations/v/the-hessian-matrix)\n",
    "The Hessian matrix is a way of organizing all the second partial derivative information of a multivariable function.\n",
    "\n",
    "***KeyPoints:***\n",
    "1. Most of the cases the diagonal wil be same.\n",
    "2. Its matrix valed function.\n",
    "\n",
    "#### [2. Jacobian Matrix:](https://www.khanacademy.org/math/multivariable-calculus/multivariable-derivatives/jacobian/v/the-jacobian-matrix)\n",
    "The Jacobian matrix is a matrix of first-order partial derivatives. It provides information about the rate of change of a vector-valued function with respect to its individual variables.\n",
    "[Austin Blog](https://web.ma.utexas.edu/users/m408s/m408d/CurrentWeb/LM15-10-4.php#:~:text=our%20Jacobian%20is%20%7C%E2%88%82x,rdrd%CE%B8.)"
   ]
  },
  {
   "cell_type": "code",
   "execution_count": 6,
   "metadata": {},
   "outputs": [],
   "source": [
    "import torch"
   ]
  },
  {
   "attachments": {},
   "cell_type": "markdown",
   "metadata": {},
   "source": [
    "1. Gradient Calculation"
   ]
  },
  {
   "cell_type": "code",
   "execution_count": 10,
   "metadata": {},
   "outputs": [
    {
     "name": "stdout",
     "output_type": "stream",
     "text": [
      "tensor([0.1117, 0.8158, 0.2626], requires_grad=True)\n",
      "tensor([2.1117, 2.8158, 2.2626], grad_fn=<AddBackward0>)\n",
      "tensor([ 9.4591, 12.9290, 10.1192], grad_fn=<AddBackward0>)\n",
      "tensor([2.0436, 3.8099, 3.4115])\n"
     ]
    }
   ],
   "source": [
    "torch.manual_seed(100)\n",
    "dim=3\n",
    "x= torch.rand(dim, requires_grad=True) # create a computational graph\n",
    "print(x)\n",
    "y=x+2\n",
    "z= y*y+5\n",
    "print(y)\n",
    "v=torch.rand(dim)\n",
    "# z=z.mean() # output\n",
    "# here don't need to pass any value beacuse z has a scaler value\n",
    "z.backward(v) # dz/dx; we have to pass a vector if the the element is not scaler\n",
    "print(z)\n",
    "print(x.grad)\n"
   ]
  },
  {
   "attachments": {},
   "cell_type": "markdown",
   "metadata": {},
   "source": [
    "2. Gradient History:\n",
    "    1. `requires_grad=False:`\n",
    "    2. `detach():`\n",
    "    3. `with torch.no_grad()`"
   ]
  },
  {
   "cell_type": "code",
   "execution_count": 23,
   "metadata": {},
   "outputs": [
    {
     "name": "stdout",
     "output_type": "stream",
     "text": [
      "tensor([0.6476, 0.3430, 0.3182], requires_grad=True)\n",
      "tensor([0.6476, 0.3430, 0.3182])\n",
      "tensor([2.6476, 2.3430, 2.3182])\n",
      "tensor([0.6476, 0.3430, 0.3182])\n",
      "tensor([0.6476, 0.3430, 0.3182])\n"
     ]
    }
   ],
   "source": [
    "dim=3\n",
    "x= torch.rand(dim, requires_grad=True) # create a computational graph\n",
    "print(x)\n",
    "y= x.detach()\n",
    "print(y)\n",
    "with torch.no_grad():\n",
    "    z=x+2\n",
    "    print(z)\n",
    "print(x.requires_grad_(False))\n",
    "print(x)\n",
    "\n",
    "\n"
   ]
  },
  {
   "attachments": {},
   "cell_type": "markdown",
   "metadata": {},
   "source": [
    "3. Training Example:"
   ]
  },
  {
   "cell_type": "code",
   "execution_count": 28,
   "metadata": {},
   "outputs": [
    {
     "name": "stdout",
     "output_type": "stream",
     "text": [
      "tensor([3., 3., 3., 3.])\n",
      "tensor([3., 3., 3., 3.])\n",
      "tensor([3., 3., 3., 3.])\n"
     ]
    }
   ],
   "source": [
    "dim=4\n",
    "w= torch.rand(dim, requires_grad=True) # create a computational graph\n",
    "\n",
    "for epoch in range(3):\n",
    "    model_output=(w*3).sum()\n",
    "\n",
    "    model_output.backward()\n",
    "\n",
    "    print(w.grad)\n",
    "    w.grad.zero_() # this is an important step to calculate the grad correctly"
   ]
  }
 ],
 "metadata": {
  "kernelspec": {
   "display_name": "Python 3",
   "language": "python",
   "name": "python3"
  },
  "language_info": {
   "codemirror_mode": {
    "name": "ipython",
    "version": 3
   },
   "file_extension": ".py",
   "mimetype": "text/x-python",
   "name": "python",
   "nbconvert_exporter": "python",
   "pygments_lexer": "ipython3",
   "version": "3.11.3"
  },
  "orig_nbformat": 4
 },
 "nbformat": 4,
 "nbformat_minor": 2
}
