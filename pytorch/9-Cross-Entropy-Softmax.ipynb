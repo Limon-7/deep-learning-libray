{
 "cells": [
  {
   "attachments": {},
   "cell_type": "markdown",
   "metadata": {},
   "source": [
    "## Classification Loss:\n",
    "### 1. Hinge loss or Multi class SVM Loss:\n",
    "The multi-class SVM loss, also known as the multiclass hinge loss, is a commonly used loss function in machine learning for training support vector machine (SVM) models to perform multi-class classification tasks.\n",
    "\n",
    "The goal of the multi-class SVM loss is to encourage the correct class score to be higher than the scores of all other classes by a margin. It computes the difference between the scores of the correct class and the scores of all other classes and applies a hinge loss function to penalize any violation of the margin.\n",
    "\n",
    "$L_i = \\sum_{j\\neq y_i} \\max(0, s_j - s_{y_i} + \\Delta)$\n",
    "\n",
    "$L_i = \\sum_{j\\neq y_i} \\max(0, w_j^T x_i - w_{y_i}^T x_i + \\Delta)$\n",
    "\n",
    "Where\n",
    "- $x_i$ is the input\n",
    "- $y_i$ specifies the index of the correct class.\n",
    "- $s_j = f(x_i, W)_j$\n",
    "\n",
    "### 2. Cross Entropy Loss / Log Loss / Sofmax Loss :\n",
    "\n",
    "\n",
    "\n"
   ]
  },
  {
   "cell_type": "code",
   "execution_count": null,
   "metadata": {},
   "outputs": [],
   "source": []
  }
 ],
 "metadata": {
  "kernelspec": {
   "display_name": "Python 3",
   "language": "python",
   "name": "python3"
  },
  "language_info": {
   "name": "python",
   "version": "3.11.3"
  },
  "orig_nbformat": 4
 },
 "nbformat": 4,
 "nbformat_minor": 2
}
