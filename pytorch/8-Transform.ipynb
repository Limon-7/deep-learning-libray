{
 "cells": [
  {
   "attachments": {},
   "cell_type": "markdown",
   "metadata": {},
   "source": [
    "### Transform:\n",
    "Data does not always come in its final processed form that is required for training machine learning algorithms. We use transforms to perform some manipulation of the data and make it suitable for training.\n",
    "\n",
    "Transforms can be applied to PIL images, tensors, ndarrays, or custom data during creation of the DataSet.\n",
    "\n",
    "All TorchVision datasets have two parameters -***`transform`*** to modify the ***`features`*** and ***`target_transform`*** to modify the ***`labels`*** - that accept callables containing the transformation logic.\n",
    "\n",
    "[complete list of built-in transforms:](https://pytorch.org/vision/stable/transforms.html)"
   ]
  },
  {
   "cell_type": "code",
   "execution_count": 2,
   "metadata": {},
   "outputs": [],
   "source": [
    "import torch\n",
    "import torchvision\n",
    "from torch.utils.data import Dataset, DataLoader\n",
    "import numpy as np\n",
    "import math"
   ]
  },
  {
   "cell_type": "code",
   "execution_count": 9,
   "metadata": {},
   "outputs": [],
   "source": [
    "class WineDataSet(Dataset):\n",
    "    def __init__(self, transform=None):\n",
    "        # Initialize data, download, etc.\n",
    "        # read with numpy or pandas\n",
    "        xy= np.loadtxt(\"../data/wine/wine.csv\", delimiter=',', dtype=np.float32, skiprows=1)\n",
    "        self.n_samples=xy.shape[0]\n",
    "        self.x = xy[:,1:] # \n",
    "        self.y = xy[:,[0]] # \n",
    "\n",
    "        self.transform = transform\n",
    "\n",
    "    def __getitem__(self, index):\n",
    "        sample = self.x[index], self.y[index]\n",
    "\n",
    "        if self.transform:\n",
    "            sample = self.transform(sample)\n",
    "        \n",
    "        return sample\n",
    "    \n",
    "    def __len__(self):\n",
    "        return self.n_samples"
   ]
  },
  {
   "attachments": {},
   "cell_type": "markdown",
   "metadata": {},
   "source": [
    "1. Custom Transform"
   ]
  },
  {
   "cell_type": "code",
   "execution_count": 10,
   "metadata": {},
   "outputs": [],
   "source": [
    "class ToTensor:\n",
    "    def __call__(self, sample) :\n",
    "        inputs, targets = sample\n",
    "        return torch.from_numpy(inputs), torch.from_numpy(targets)\n",
    "    \n",
    "class MulTransform:\n",
    "    def __init__(self, factor):\n",
    "        self.factor = factor\n",
    "    \n",
    "    def __call__(self, sample):\n",
    "        inputs, targets = sample\n",
    "        inputs *= self.factor\n",
    "        return inputs, targets"
   ]
  },
  {
   "cell_type": "code",
   "execution_count": 13,
   "metadata": {},
   "outputs": [
    {
     "name": "stdout",
     "output_type": "stream",
     "text": [
      "Without Transform:\n",
      "feature_type:<class 'numpy.ndarray'>  label_type:<class 'numpy.ndarray'>\n",
      "Features:  [1.247e+01 1.520e+00 2.200e+00 1.900e+01 1.620e+02 2.500e+00 2.270e+00\n",
      " 3.200e-01 3.280e+00 2.600e+00 1.160e+00 2.630e+00 9.370e+02] \n",
      " Lebels:  [2.]\n"
     ]
    }
   ],
   "source": [
    "print(\"Without Transform:\")\n",
    "dataset = WineDataSet()\n",
    "first_data = dataset[95]\n",
    "feature, label = first_data\n",
    "print(f\"feature_type:{type(feature)}  label_type:{type(label)}\")\n",
    "print(\"Features: \",feature, \"\\n Lebels: \", label)"
   ]
  },
  {
   "cell_type": "code",
   "execution_count": 14,
   "metadata": {},
   "outputs": [
    {
     "name": "stdout",
     "output_type": "stream",
     "text": [
      "\n",
      "With Tensor Transform\n",
      "feature_type:<class 'torch.Tensor'>  label_type:<class 'torch.Tensor'>\n",
      "Features:  tensor([1.2470e+01, 1.5200e+00, 2.2000e+00, 1.9000e+01, 1.6200e+02, 2.5000e+00,\n",
      "        2.2700e+00, 3.2000e-01, 3.2800e+00, 2.6000e+00, 1.1600e+00, 2.6300e+00,\n",
      "        9.3700e+02]) \n",
      " Lebels:  tensor([2.])\n"
     ]
    }
   ],
   "source": [
    "print('\\nWith Tensor Transform')\n",
    "dataset = WineDataSet(transform=ToTensor())\n",
    "first_data = dataset[95]\n",
    "feature, label = first_data\n",
    "print(f\"feature_type:{type(feature)}  label_type:{type(label)}\")\n",
    "print(\"Features: \",feature, \"\\n Lebels: \", label)"
   ]
  },
  {
   "cell_type": "code",
   "execution_count": 15,
   "metadata": {},
   "outputs": [
    {
     "name": "stdout",
     "output_type": "stream",
     "text": [
      "\n",
      "With Tensor and Multiplication Transform\n",
      "feature_type:<class 'torch.Tensor'>  label_type:<class 'torch.Tensor'>\n",
      "Features:  tensor([4.9880e+01, 6.0800e+00, 8.8000e+00, 7.6000e+01, 6.4800e+02, 1.0000e+01,\n",
      "        9.0800e+00, 1.2800e+00, 1.3120e+01, 1.0400e+01, 4.6400e+00, 1.0520e+01,\n",
      "        3.7480e+03]) \n",
      " Lebels:  tensor([2.])\n"
     ]
    }
   ],
   "source": [
    "print('\\nWith Tensor and Multiplication Transform')\n",
    "composed = torchvision.transforms.Compose([ToTensor(), MulTransform(4)])\n",
    "dataset = WineDataSet(transform=composed)\n",
    "first_data = dataset[95]\n",
    "feature, label = first_data\n",
    "print(f\"feature_type:{type(feature)}  label_type:{type(label)}\")\n",
    "print(\"Features: \",feature, \"\\n Lebels: \", label)"
   ]
  }
 ],
 "metadata": {
  "kernelspec": {
   "display_name": "Python 3",
   "language": "python",
   "name": "python3"
  },
  "language_info": {
   "codemirror_mode": {
    "name": "ipython",
    "version": 3
   },
   "file_extension": ".py",
   "mimetype": "text/x-python",
   "name": "python",
   "nbconvert_exporter": "python",
   "pygments_lexer": "ipython3",
   "version": "3.11.3"
  },
  "orig_nbformat": 4
 },
 "nbformat": 4,
 "nbformat_minor": 2
}
