{
 "cells": [
  {
   "cell_type": "markdown",
   "metadata": {},
   "source": [
    "#### Imbalanced datasets\n",
    "\n",
    "Imbalanced datasets are those where the number of samples in one or more classes is significantly lower than the number of samples in the other classes. This can be a problem because it can lead to a model that is biased towards the more common classes, which can result in poor performance on the less common classes.\n",
    "\n",
    "To deal with imbalanced datasets, this code implements two methods:\n",
    "1. oversampling: Oversampling involves generating additional samples for the underrepresented classes, while class weighting involves assigning higher weights to the loss of samples in the underrepresented classes, so that the model pays more attention to them.\n",
    "2. class weighting: For class weighting we will set more weight to the loss function.\n",
    "    `loss_fn= torch.nn.CrossEntropyLoss(weight=torch.tensor([1, 50]))` for 2 classes.\n",
    "\n",
    "3. ImageFolder: A generic data loader where the images are arranged in this way by default `root/dog/xxx.png\n",
    "        root/dog/xxy.png`.\n",
    "\n",
    "4. WeightedRandomSampler( sample_weights, num_samples=len(sample_weights), replacement=True): Samples elements from ``[0,..,len(weights)-1]`` with given probabilities (weights)\n"
   ]
  }
 ],
 "metadata": {
  "language_info": {
   "name": "python"
  },
  "orig_nbformat": 4
 },
 "nbformat": 4,
 "nbformat_minor": 2
}
