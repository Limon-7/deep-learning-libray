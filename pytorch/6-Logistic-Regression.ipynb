{
 "cells": [
  {
   "attachments": {},
   "cell_type": "markdown",
   "metadata": {},
   "source": [
    "#### Pipeline\n",
    "\n",
    "0) prepare data\n",
    "1) Design model (input, output, forward pass with different layers)\n",
    "2) Construct loss and optimizer\n",
    "3) Training loop\n",
    "      - Forward = compute prediction and loss\n",
    "      - Backward = compute gradients\n",
    "      - Update weights"
   ]
  },
  {
   "cell_type": "code",
   "execution_count": 13,
   "metadata": {},
   "outputs": [],
   "source": [
    "import torch\n",
    "import torch.nn as nn\n",
    "import numpy as np\n",
    "from sklearn import datasets\n",
    "from sklearn.preprocessing import StandardScaler\n",
    "from sklearn.model_selection import train_test_split"
   ]
  },
  {
   "cell_type": "code",
   "execution_count": 16,
   "metadata": {},
   "outputs": [
    {
     "name": "stdout",
     "output_type": "stream",
     "text": [
      "(569, 30)\n",
      "torch.Size([114, 1])\n"
     ]
    }
   ],
   "source": [
    "# prepare data\n",
    "bc = datasets.load_breast_cancer()\n",
    "X, y= bc.data, bc.target\n",
    "print(X.shape)\n",
    "n_samples, n_features=X.shape\n",
    "X_train,X_test, y_train, y_test=train_test_split(X,y, test_size=0.2, random_state=1234)\n",
    "\n",
    "#scale\n",
    "sc = StandardScaler()   # Standardize features by removing the mean and scaling to unit variance.\n",
    "X_train = sc.fit_transform(X_train) # scaling the data\n",
    "X_test = sc.fit_transform(X_test)\n",
    "\n",
    "# convert to tensor\n",
    "X_train = torch.from_numpy(X_train.astype(np.float32))\n",
    "X_test= torch.from_numpy(X_test.astype(np.float32))\n",
    "y_train = torch.from_numpy(y_train.astype(np.float32))\n",
    "y_test= torch.from_numpy(y_test.astype(np.float32))\n",
    "\n",
    "# Reshape the target column\n",
    "y_train= y_train.view(y_train.shape[0],1)\n",
    "y_test= y_test.view(y_test.shape[0],1)\n",
    "print(y_test.shape)"
   ]
  },
  {
   "cell_type": "code",
   "execution_count": 20,
   "metadata": {},
   "outputs": [],
   "source": [
    "## 1. Model\n",
    "class Model(nn.Module):\n",
    "    def __init__(self, n_input_features):\n",
    "        super(Model, self).__init__()\n",
    "        '''\n",
    "        Applies a linear transformation to the incoming data: :math:`y = xA^T + b`, arg\n",
    "        Args:\n",
    "        in_features: size of each input sample\n",
    "        out_features: size of each output sample\n",
    "        bias: If set to ``False``, the layer will not learn an additive bias.\n",
    "            Default: ``True`` \n",
    "        '''\n",
    "        self.linear = nn.Linear(n_input_features,1)\n",
    "    \n",
    "    '''\n",
    "    prediction\n",
    "    forward(self, input)\n",
    "    '''\n",
    "    def forward(self, x):\n",
    "        y_pred= torch.sigmoid(self.linear(x))\n",
    "        return y_pred"
   ]
  },
  {
   "cell_type": "code",
   "execution_count": 25,
   "metadata": {},
   "outputs": [],
   "source": [
    "model = Model(n_features)\n",
    "#2 Loss and Optimizer\n",
    "num_epochs = 200\n",
    "learning_rate = .01\n",
    "criterian = nn.BCELoss()  # measures the Binary Cross Entropy\n",
    "optimizer = torch.optim.SGD(model.parameters(), lr=learning_rate)"
   ]
  },
  {
   "cell_type": "code",
   "execution_count": 26,
   "metadata": {},
   "outputs": [
    {
     "name": "stdout",
     "output_type": "stream",
     "text": [
      "epoch: 10, loss = 0.7518\n",
      "epoch: 20, loss = 0.5720\n",
      "epoch: 30, loss = 0.4706\n",
      "epoch: 40, loss = 0.4068\n",
      "epoch: 50, loss = 0.3628\n",
      "epoch: 60, loss = 0.3304\n",
      "epoch: 70, loss = 0.3054\n",
      "epoch: 80, loss = 0.2853\n",
      "epoch: 90, loss = 0.2689\n",
      "epoch: 100, loss = 0.2550\n",
      "epoch: 110, loss = 0.2431\n",
      "epoch: 120, loss = 0.2328\n",
      "epoch: 130, loss = 0.2237\n",
      "epoch: 140, loss = 0.2156\n",
      "epoch: 150, loss = 0.2084\n",
      "epoch: 160, loss = 0.2019\n",
      "epoch: 170, loss = 0.1960\n",
      "epoch: 180, loss = 0.1906\n",
      "epoch: 190, loss = 0.1856\n",
      "epoch: 200, loss = 0.1810\n",
      "accuracy: 0.9123\n"
     ]
    }
   ],
   "source": [
    "# Traing loop\n",
    "for epoch in range(num_epochs):\n",
    "    # forward pass and loss\n",
    "    y_pred=model(X_train)\n",
    "    loss= criterian(y_pred,y_train)\n",
    "\n",
    "    # backward pass\n",
    "    loss.backward()\n",
    "    optimizer.step()\n",
    "\n",
    "    optimizer.zero_grad()\n",
    "    if(epoch+1)%10==0:\n",
    "         print(f'epoch: {epoch+1}, loss = {loss.item():.4f}')\n",
    "\n",
    "with torch.no_grad():\n",
    "     y_predicted = model(X_test)\n",
    "     y_predicted_cls = y_predicted.round()\n",
    "     acc = y_predicted_cls.eq(y_test).sum()/float(y_test.shape[0])\n",
    "     print(f'accuracy: {acc.item():.4f}')"
   ]
  }
 ],
 "metadata": {
  "kernelspec": {
   "display_name": "Python 3",
   "language": "python",
   "name": "python3"
  },
  "language_info": {
   "codemirror_mode": {
    "name": "ipython",
    "version": 3
   },
   "file_extension": ".py",
   "mimetype": "text/x-python",
   "name": "python",
   "nbconvert_exporter": "python",
   "pygments_lexer": "ipython3",
   "version": "3.11.3"
  },
  "orig_nbformat": 4
 },
 "nbformat": 4,
 "nbformat_minor": 2
}
