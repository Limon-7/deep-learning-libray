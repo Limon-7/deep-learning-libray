{
 "cells": [
  {
   "attachments": {},
   "cell_type": "markdown",
   "metadata": {},
   "source": [
    "1. MNIST\n",
    "2. DataLoader, Transformation\n",
    "3. Multilayer Neural Net, activation function\n",
    "4. Loss and Optimizer\n",
    "5. Traning Loop(batch training)\n",
    "6. Model Evaluation\n",
    "7. GPU support"
   ]
  },
  {
   "cell_type": "code",
   "execution_count": 2,
   "metadata": {},
   "outputs": [],
   "source": [
    "# import necessay modules\n",
    "import torch\n",
    "import torchvision\n",
    "from torch.utils.data import Dataset, DataLoader\n",
    "import torchvision.transforms as transforms"
   ]
  },
  {
   "cell_type": "code",
   "execution_count": 3,
   "metadata": {},
   "outputs": [],
   "source": [
    "# device config\n",
    "device=torch.device('cuda' if torch.cuda.is_available() else 'cpu') # "
   ]
  },
  {
   "cell_type": "code",
   "execution_count": 27,
   "metadata": {},
   "outputs": [],
   "source": [
    "# hyper parameters\n",
    "input_size = 784 # this will flatten our image = N*R = 28*28\n",
    "hidden_size = 500 \n",
    "num_classes = 10 # digits= [1-9]\n",
    "num_epochs = 2\n",
    "batch_size = 100\n",
    "learnig_rate = .001"
   ]
  },
  {
   "cell_type": "code",
   "execution_count": 28,
   "metadata": {},
   "outputs": [],
   "source": [
    "class MINISTDataset(Dataset):\n",
    "    def __init__(self, transform=None):\n",
    "        # Initialize data, download, etc.\n",
    "        self.train_dataset = torchvision.datasets.MNIST(root='./data', \n",
    "                                           train=True, \n",
    "                                           transform=torchvision.transforms.ToTensor(),  \n",
    "                                           download=True)\n",
    "        self.test_dataset = torchvision.datasets.MNIST(root='./data', \n",
    "                                           train=False, \n",
    "                                           transform=torchvision.transforms.ToTensor())"
   ]
  },
  {
   "cell_type": "code",
   "execution_count": 29,
   "metadata": {},
   "outputs": [
    {
     "name": "stdout",
     "output_type": "stream",
     "text": [
      "torch.Size([100, 1, 28, 28]) torch.Size([100])\n"
     ]
    }
   ],
   "source": [
    "dataset = MINISTDataset()\n",
    "train_loader = DataLoader(dataset=dataset.train_dataset, batch_size=batch_size, shuffle=True)\n",
    "test_loader = DataLoader(dataset=dataset.test_dataset, batch_size=batch_size, shuffle=False)\n",
    "examples = iter(train_loader)\n",
    "example_data, example_targets = next(examples)\n",
    "print(example_data.shape, example_targets.shape) # torch.Size([100, 1, 28, 28]) torch.Size([100])"
   ]
  },
  {
   "attachments": {},
   "cell_type": "markdown",
   "metadata": {},
   "source": [
    "-  [100, 1, 28, 28]:\n",
    "    - batch size= 100, color channel=1( no color chanel), width, height\n",
    "- [100]: so each size has a label"
   ]
  },
  {
   "cell_type": "code",
   "execution_count": 43,
   "metadata": {},
   "outputs": [],
   "source": [
    "# plot image\n",
    "import matplotlib.pyplot as plt\n",
    "\n",
    "def plot_image(data):\n",
    "    for i in range(6):\n",
    "        plt.subplot(2,3,i+1) # row, column\n",
    "        plt.imshow(data[i][0], cmap='gray')\n",
    "    plt.show()"
   ]
  },
  {
   "cell_type": "code",
   "execution_count": 31,
   "metadata": {},
   "outputs": [
    {
     "data": {
      "image/png": "[encoded data removed]",
      "text/plain": [
       "<Figure size 640x480 with 6 Axes>"
      ]
     },
     "metadata": {},
     "output_type": "display_data"
    }
   ],
   "source": [
    "# ploat the data\n",
    "plot_image(example_data)"
   ]
  },
  {
   "cell_type": "code",
   "execution_count": 44,
   "metadata": {},
   "outputs": [],
   "source": [
    "## Neural Net\n",
    "import torch.nn as nn\n",
    "class NeuralNet(nn.Module):\n",
    "    def __init__(self, input_size, hidden_size, num_classes):\n",
    "        super(NeuralNet, self).__init__()\n",
    "        self.input_size = input_size\n",
    "        self.l1 = nn.Linear(input_size, hidden_size)\n",
    "        self.relu = nn.ReLU()\n",
    "        self.l2 = nn.Linear(hidden_size, num_classes)\n",
    "        \n",
    "    def forward(self,x):\n",
    "        out = self.l1(x)\n",
    "        out = self.relu(out)\n",
    "        out = self.l2(out)\n",
    "        # no sofmax function as we will use CrossEntropy that will add sofmax internally\n",
    "        return out"
   ]
  },
  {
   "cell_type": "code",
   "execution_count": 40,
   "metadata": {},
   "outputs": [],
   "source": [
    "model = NeuralNet(input_size, hidden_size, num_classes).to(device)\n",
    "\n",
    "# loss and optimizer\n",
    "criterion = nn.CrossEntropyLoss()\n",
    "optimizer = torch.optim.Adam(model.parameters(), lr = learnig_rate)"
   ]
  },
  {
   "cell_type": "code",
   "execution_count": 41,
   "metadata": {},
   "outputs": [
    {
     "name": "stdout",
     "output_type": "stream",
     "text": [
      "Epoch [1/2], Step [100/600], Loss: 0.3691\n",
      "Epoch [1/2], Step [200/600], Loss: 0.1773\n",
      "Epoch [1/2], Step [300/600], Loss: 0.2615\n",
      "Epoch [1/2], Step [400/600], Loss: 0.2307\n",
      "Epoch [1/2], Step [500/600], Loss: 0.1630\n",
      "Epoch [1/2], Step [600/600], Loss: 0.1624\n",
      "Epoch [2/2], Step [100/600], Loss: 0.1256\n",
      "Epoch [2/2], Step [200/600], Loss: 0.0736\n",
      "Epoch [2/2], Step [300/600], Loss: 0.0798\n",
      "Epoch [2/2], Step [400/600], Loss: 0.0787\n",
      "Epoch [2/2], Step [500/600], Loss: 0.1071\n",
      "Epoch [2/2], Step [600/600], Loss: 0.0513\n"
     ]
    }
   ],
   "source": [
    "## traning loop\n",
    "n_total_steps = len(train_loader)\n",
    "for epoch in range(num_epochs):\n",
    "    for i, (images, labels) in enumerate(train_loader):\n",
    "        # 100 1 28 28\n",
    "        images = images.reshape(-1, 28*28).to(device)\n",
    "        labels = labels.to(device)\n",
    "\n",
    "        # forward\n",
    "        outputs = model(images)\n",
    "        loss = criterion(outputs, labels)\n",
    "\n",
    "        # backward\n",
    "        optimizer.zero_grad()\n",
    "        loss.backward()\n",
    "        optimizer.step() # update the grad\n",
    "\n",
    "        if((i+1) % 100 == 0):\n",
    "            print (f'Epoch [{epoch+1}/{num_epochs}], Step [{i+1}/{n_total_steps}], Loss: {loss.item():.4f}')\n",
    "\n"
   ]
  },
  {
   "cell_type": "code",
   "execution_count": 42,
   "metadata": {},
   "outputs": [
    {
     "name": "stdout",
     "output_type": "stream",
     "text": [
      "Accuracy of the network on the 10000 test images: 97.35 %\n"
     ]
    }
   ],
   "source": [
    "with torch.no_grad():\n",
    "    num_corrects = 0\n",
    "    num_samples = 0\n",
    "\n",
    "    for images, labels in test_loader:\n",
    "        images = images.reshape(-1, 28*28).to(device)\n",
    "        labels = labels.to(device)\n",
    "        outputs = model(images)\n",
    "         # max returns (value ,index)\n",
    "        _, predicted = torch.max(outputs.data, 1)\n",
    "        num_samples += labels.size(0)\n",
    "        num_corrects += (predicted == labels).sum().item()\n",
    "\n",
    "    acc = 100.0 * num_corrects / num_samples\n",
    "    print(f'Accuracy of the network on the 10000 test images: {acc} %')"
   ]
  }
 ],
 "metadata": {
  "kernelspec": {
   "display_name": "Python 3",
   "language": "python",
   "name": "python3"
  },
  "language_info": {
   "codemirror_mode": {
    "name": "ipython",
    "version": 3
   },
   "file_extension": ".py",
   "mimetype": "text/x-python",
   "name": "python",
   "nbconvert_exporter": "python",
   "pygments_lexer": "ipython3",
   "version": "3.11.3"
  },
  "orig_nbformat": 4
 },
 "nbformat": 4,
 "nbformat_minor": 2
}
