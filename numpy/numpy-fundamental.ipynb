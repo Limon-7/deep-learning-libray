{
 "cells": [
  {
   "attachments": {},
   "cell_type": "markdown",
   "metadata": {},
   "source": [
    "# Numpy:\n",
    "<a id='h_cell'></a>\n",
    "\n",
    "\n",
    "|#NO|Topic|Status|\n",
    "|--:|:---          |--:|\n",
    "|01| [Terminology](#ter_cell)||\n",
    "|02| [Getting information](#gi_cell)|\n",
    "|03| [***Random***](#random_cell)|\n",
    "|04| [***Create Numpy***](#carray_cell)|\n",
    "|05| [Numpy Data Type](#dtype_cell)|\n",
    "|06| [***Math and Logic Numpy***](#math_cell)|\n",
    "|07| [***Manipulating Shape or Braodcasting***](#mts_cell)|\n",
    "|08| [***Array Accessing***](#aa_cell)|\n",
    "|09| [***Frequently used method***](#im_cell)|"
   ]
  },
  {
   "cell_type": "code",
   "execution_count": 38,
   "metadata": {},
   "outputs": [],
   "source": [
    "import numpy as np\n",
    "import math"
   ]
  },
  {
   "cell_type": "markdown",
   "metadata": {},
   "source": [
    "## [1. Terminology](#h_cell)\n",
    "<a id='ter_cell'></a>\n",
    "A brief note about Numpy and their number of dimensions, and terminology:\n",
    "1. O-dimensional tensor called a *scaler*.\n",
    "2. 1-dimensional tensor called a *vector*.\n",
    "3. Likewise, a 2-dimensional tensor is often referred to as a *matrix.*\n",
    "4. Anything with more than two dimensions is generally just called a multi dimentional numpy array or tensor."
   ]
  },
  {
   "attachments": {},
   "cell_type": "markdown",
   "metadata": {},
   "source": [
    "1. Scaler:"
   ]
  },
  {
   "cell_type": "code",
   "execution_count": 39,
   "metadata": {},
   "outputs": [
    {
     "data": {
      "text/plain": [
       "(1,\n",
       " (1,),\n",
       " 0.21969749262499216,\n",
       " array([0.21969749]),\n",
       " numpy.ndarray,\n",
       " array([0.21969749]))"
      ]
     },
     "execution_count": 39,
     "metadata": {},
     "output_type": "execute_result"
    }
   ],
   "source": [
    "scaler= np.random.rand(1)\n",
    "scaler.ndim, scaler.shape, scaler.item(), scaler, type(scaler), scaler"
   ]
  },
  {
   "attachments": {},
   "cell_type": "markdown",
   "metadata": {},
   "source": [
    "2. **Vector:** Algebraically, a vector is a collection of coordinates of a point in space. Thus, a vector with two values represents a point in a 2-dimensional space. In Computer Science, a vector is an arrangement of numbers along a single dimension. It is also commonly known as an array or a list or a tuple."
   ]
  },
  {
   "cell_type": "code",
   "execution_count": 40,
   "metadata": {},
   "outputs": [
    {
     "name": "stdout",
     "output_type": "stream",
     "text": [
      "<class 'numpy.ndarray'> [7 8] 1 (2,)\n"
     ]
    }
   ],
   "source": [
    "vector= np.array([7,8])\n",
    "print(type(vector), vector, vector.ndim, vector.shape)"
   ]
  },
  {
   "attachments": {},
   "cell_type": "markdown",
   "metadata": {},
   "source": [
    "3. **Matrix: 2 dimentional**"
   ]
  },
  {
   "cell_type": "code",
   "execution_count": 41,
   "metadata": {},
   "outputs": [
    {
     "name": "stdout",
     "output_type": "stream",
     "text": [
      "<class 'numpy.ndarray'>\n"
     ]
    },
    {
     "data": {
      "text/plain": [
       "(array([[ 7,  8],\n",
       "        [ 9, 10]]),\n",
       " (2, 2),\n",
       " 2,\n",
       " dtype('int32'))"
      ]
     },
     "execution_count": 41,
     "metadata": {},
     "output_type": "execute_result"
    }
   ],
   "source": [
    "## Matrix\n",
    "MATRIX=np.array([[7, 8], \n",
    "                    [9, 10]])\n",
    "print(type(MATRIX))\n",
    "MATRIX,MATRIX.shape, MATRIX.ndim,MATRIX.dtype"
   ]
  },
  {
   "attachments": {},
   "cell_type": "markdown",
   "metadata": {},
   "source": [
    "4. **Tensor or Multi-dimentional:**"
   ]
  },
  {
   "cell_type": "code",
   "execution_count": 42,
   "metadata": {},
   "outputs": [
    {
     "data": {
      "text/plain": [
       "(array([[[1, 2, 3],\n",
       "         [3, 6, 9],\n",
       "         [2, 4, 5]]]),\n",
       " (1, 3, 3),\n",
       " 3,\n",
       " numpy.ndarray)"
      ]
     },
     "execution_count": 42,
     "metadata": {},
     "output_type": "execute_result"
    }
   ],
   "source": [
    "# Tensor\n",
    "TENSOR = np.array([[[1, 2, 3],\n",
    "                        [3, 6, 9],\n",
    "                        [2, 4, 5]]])\n",
    "TENSOR, TENSOR.shape, TENSOR.ndim, type(TENSOR)"
   ]
  },
  {
   "cell_type": "code",
   "execution_count": 43,
   "metadata": {},
   "outputs": [
    {
     "data": {
      "text/plain": [
       "((3, 2, 4), 3)"
      ]
     },
     "execution_count": 43,
     "metadata": {},
     "output_type": "execute_result"
    }
   ],
   "source": [
    "tensor=np.array([[[1, 2, 3,4], [4, 5, 6,4]], [[7, 8, 9,4], [10, 11, 12,4]], [[13, 14, 15,4], [16, 17, 18,4]]])\n",
    "tensor.shape, tensor.ndim, "
   ]
  },
  {
   "attachments": {},
   "cell_type": "markdown",
   "metadata": {},
   "source": [
    "## [2. Getting Information:](#h_cell)\n",
    "<a id='gi_cell'></a>\n",
    "1. type(x): type(tensor) will return the type of the numpy object.\n",
    "2. x.dtype: tensor.dtype will give you the data type.\n",
    "3. x.shape: tensor.shape will give you the shape of the numpy object.\n",
    "4. x.size: tensor.size will give you the total number of elements.\n",
    "5. x.ndim: The ndim attribute of a PyTorch tensor returns the number of dimensions (rank) of the object."
   ]
  },
  {
   "cell_type": "code",
   "execution_count": 44,
   "metadata": {},
   "outputs": [
    {
     "name": "stdout",
     "output_type": "stream",
     "text": [
      "<class 'numpy.ndarray'>\n",
      "int32\n",
      "(2, 3)\n",
      "6\n",
      "2\n",
      "int32\n"
     ]
    }
   ],
   "source": [
    "# Create a NumPy array\n",
    "array = np.array([[1, 2, 3], [4, 5, 6]])\n",
    "\n",
    "# Get type of the array\n",
    "print(type(array))\n",
    "\n",
    "# Get data type of the array\n",
    "print(array.dtype)\n",
    "\n",
    "# Get shape of the array\n",
    "print(array.shape)\n",
    "\n",
    "# Get total number of elements in the array\n",
    "print(array.size)\n",
    "\n",
    "# Get number of dimensions of the array\n",
    "print(array.ndim)\n",
    "\n",
    "# Get name of the data type\n",
    "print(array.dtype.name)"
   ]
  },
  {
   "cell_type": "code",
   "execution_count": 45,
   "metadata": {},
   "outputs": [
    {
     "name": "stdout",
     "output_type": "stream",
     "text": [
      "<class 'numpy.ndarray'> [7 8] 1 (2,)\n",
      "Matrix Info:  <class 'numpy.ndarray'> [[1 2]\n",
      " [2 3]\n",
      " [4 5]] 2 (3, 2)\n",
      "Matrix-2 Info:  <class 'numpy.ndarray'> \n",
      " [[[0.97862378 0.81168315 0.17194101 0.81622475 0.27407375]\n",
      "  [0.43170418 0.94002982 0.81764938 0.33611195 0.17541045]]\n",
      "\n",
      " [[0.37283205 0.00568851 0.25242635 0.79566251 0.01525497]\n",
      "  [0.59884338 0.60380454 0.10514769 0.38194344 0.03647606]]\n",
      "\n",
      " [[0.89041156 0.98092086 0.05994199 0.89054594 0.5769015 ]\n",
      "  [0.74247969 0.63018394 0.58184219 0.02043913 0.21002658]]] 3 (3, 2, 5)\n"
     ]
    }
   ],
   "source": [
    "vector= np.array([7,8])\n",
    "print(type(vector), vector, vector.ndim, vector.shape)\n",
    "matrix_1=np.array([[1,2],[2,3], [4,5]])\n",
    "print(\"Matrix Info: \",type(matrix_1), matrix_1, matrix_1.ndim, matrix_1.shape)\n",
    "matrix_2= np.random.rand(3,2,5)\n",
    "print(\"Matrix-2 Info: \",type(matrix_2),\"\\n\", matrix_2, matrix_2.ndim, matrix_2.shape)"
   ]
  },
  {
   "attachments": {},
   "cell_type": "markdown",
   "metadata": {},
   "source": [
    "**Note:** \n",
    "\n",
    "1. $shape=(2,)$ means that a 1-D arrray and index 0 has 2 elements.\n",
    "1. $shape=(3,2,5)$ means that a 2-D arrray and index[0] has 3 elements and index[1] has 2 elements and index[2] has 5 elements."
   ]
  },
  {
   "attachments": {},
   "cell_type": "markdown",
   "metadata": {},
   "source": [
    "## [3. numpy.random():](#h_cell)\n",
    "<a id='random_cell'></a>\n",
    "This module contains the functions which are used for generating random numbers.\n",
    "\n",
    "Methods:\n",
    "\n",
    "1. `np.random.rand(d0, d1, ..., dn)`: This function of random module is used to generate random numbers or values in a given shape.\n",
    "2. `np.random.randn(d0, d1, ..., dn)`: This function of random module return a sample from the ***standard normal*** distribution.\n",
    "3. `np.random.randint(low, high=None, size=None, dtype=int)`: generate random integers from inclusive(low) to exclusive(high).\n",
    "4. `np.random.random_integers(low, high=None, size=None)`: generate random integers number of type np.int between low and high.\n",
    "5. `numpy.random.uniform(low=0.0, high=1.0, size=None)`:  generate random floating-point numbers within a specified range.\n",
    "6. `numpy.random.choice(a, size=None, replace=True, p=None)`: Generates a random sample from a given 1-D array.\n",
    "7. `numpy.random.normal(loc=0.0, scale=1.0, size=None)`: Draw random samples from a normal (Gaussian) distribution.\n",
    "8. `numpy.random.shuffle(x):` reorder the elements."
   ]
  },
  {
   "attachments": {},
   "cell_type": "markdown",
   "metadata": {},
   "source": [
    "### Creating array:\n",
    "1. np.random.rand(d0, d1, ...dn)\n",
    "2. np.random"
   ]
  },
  {
   "cell_type": "code",
   "execution_count": 46,
   "metadata": {},
   "outputs": [
    {
     "name": "stdout",
     "output_type": "stream",
     "text": [
      "(3, 3) \n",
      " [[21 16  2]\n",
      " [15 14 44]\n",
      " [ 5  8  5]]\n",
      "x_ran_choice:[0 1 0 1 0 1 0 1 1 0 0 1 0 1 1 0 0 0 0 0 0 1 0 1 1 0 1 0 0 0 0 0 0 1 0 1 1\n",
      " 0 0 0 0 1 1 1 1 0 0 1 1 0 0 1 0 0 0 0 1 1 0 1 0 1 0 1 0 1 1 1 1 1 1 1 1 0\n",
      " 0 0 0 1 0 1 0 1 0 0 0 1 0 0 0 1 0 1 1 0 0 1 1 1 0 1]\n"
     ]
    }
   ],
   "source": [
    "## np.random.rand\n",
    "x= np.random.randint(2,50,(3,3))\n",
    "x_ran_choice= np.random.choice(2,100,50)\n",
    "print(x.shape,\"\\n\",x)\n",
    "print(f\"x_ran_choice:{x_ran_choice}\")"
   ]
  },
  {
   "cell_type": "code",
   "execution_count": 47,
   "metadata": {},
   "outputs": [
    {
     "data": {
      "text/plain": [
       "(array([[[-1.74976547,  0.3426804 ,  1.1530358 , -0.25243604],\n",
       "         [ 0.98132079,  0.51421884,  0.22117967, -1.07004333],\n",
       "         [-0.18949583,  0.25500144, -0.45802699,  0.43516349]],\n",
       " \n",
       "        [[-0.58359505,  0.81684707,  0.67272081, -0.10441114],\n",
       "         [-0.53128038,  1.02973269, -0.43813562, -1.11831825],\n",
       "         [ 1.61898166,  1.54160517, -0.25187914, -0.84243574]]]),\n",
       " (2, 3, 4),\n",
       " 3,\n",
       " array([[-0.58359505,  0.81684707,  0.67272081, -0.10441114],\n",
       "        [-0.53128038,  1.02973269, -0.43813562, -1.11831825],\n",
       "        [ 1.61898166,  1.54160517, -0.25187914, -0.84243574]]),\n",
       " array([[-1.74976547,  0.3426804 ,  1.1530358 , -0.25243604],\n",
       "        [ 0.98132079,  0.51421884,  0.22117967, -1.07004333],\n",
       "        [-0.18949583,  0.25500144, -0.45802699,  0.43516349]]))"
      ]
     },
     "execution_count": 47,
     "metadata": {},
     "output_type": "execute_result"
    }
   ],
   "source": [
    "np.random.seed(100)\n",
    "a= np.random.randn(2,3,4)\n",
    "a, a.shape, a.ndim, a[1], a[0]"
   ]
  },
  {
   "attachments": {},
   "cell_type": "markdown",
   "metadata": {},
   "source": [
    "### Multiplication Rule:"
   ]
  },
  {
   "cell_type": "code",
   "execution_count": 48,
   "metadata": {},
   "outputs": [],
   "source": [
    "import numpy as np"
   ]
  },
  {
   "cell_type": "code",
   "execution_count": 49,
   "metadata": {},
   "outputs": [
    {
     "name": "stdout",
     "output_type": "stream",
     "text": [
      "A:  [[[0.03647606 0.89041156 0.98092086]\n",
      "  [0.05994199 0.89054594 0.5769015 ]\n",
      "  [0.74247969 0.63018394 0.58184219]]\n",
      "\n",
      " [[0.02043913 0.21002658 0.54468488]\n",
      "  [0.76911517 0.25069523 0.28589569]\n",
      "  [0.85239509 0.97500649 0.88485329]]] (2, 3, 3) 3\n",
      "B:  [[0.35950784 0.59885895 0.35479561]] (1, 3) 2\n",
      "a*b= [[[0.01311343 0.53323093 0.34802642]\n",
      "  [0.02154962 0.53331141 0.20468212]\n",
      "  [0.26692727 0.37739129 0.20643506]]\n",
      "\n",
      " [[0.00734803 0.12577629 0.1932518 ]\n",
      "  [0.27650294 0.15013108 0.10143454]\n",
      "  [0.30644272 0.58389136 0.31394207]]]\n",
      "np.matmul(a,b)= [[[0.89437077]\n",
      "  [0.75954314]\n",
      "  [0.85075362]]\n",
      "\n",
      " [[0.32637613]\n",
      "  [0.52806855]\n",
      "  [1.20427615]]]\n",
      "b-Shape: (1, 3) after transpose: (3, 1)\n"
     ]
    }
   ],
   "source": [
    "a= np.random.rand(2,3,3)\n",
    "b= np.random.rand(1,3)\n",
    "print(\"A: \", a, a.shape, a.ndim)\n",
    "print(\"B: \", b, b.shape, b.ndim)\n",
    "print(\"a*b=\",a*b)\n",
    "print(\"np.matmul(a,b)=\",np.matmul(a,b.T))\n",
    "print(\"b-Shape:\",b.shape,\"after transpose:\", b.T.shape)"
   ]
  },
  {
   "attachments": {},
   "cell_type": "markdown",
   "metadata": {},
   "source": [
    "## [4. Create Numpy Array](#h_cell)\n",
    "<a id='carray_cell'></a>\n",
    "\n",
    "1. `np.array()`: create a numpy array.\n",
    "2. `np.random.rand()`: create a random numpy array with given shape.\n",
    "3. `np.ones((2,3))`: create a tensor with one.\n",
    "4. `np.zeors()`: create a tensor with $0$\n",
    "5. `np.arange(start, end, step)`:\n",
    "6. `np.empty()`: The `np.empty()` call allocates memory for the tensor, but does not initialize it with any values - so what you're seeing is whatever was in memory at the time of allocation.\n",
    "6. ``np.*_like(x)`: Often, when you're performing operations on two or more tensors, they will need to be of the same *shape* - that is, having the same number of dimensions and the same number of cells in each dimension. For that, we have the `np.*_like()` methods.\n",
    "    1. `np.empty_like(x):`\n",
    "    2. `np.zeros_like(x):`\n",
    "    3. `np.empty_like(x):`"
   ]
  },
  {
   "cell_type": "code",
   "execution_count": 50,
   "metadata": {},
   "outputs": [
    {
     "name": "stdout",
     "output_type": "stream",
     "text": [
      "[[0. 0. 0.]\n",
      " [0. 0. 0.]]\n",
      "[[1. 1. 1.]\n",
      " [1. 1. 1.]]\n",
      "[[0.2121586  0.25901824 0.42352188]\n",
      " [0.71966101 0.69225093 0.72817482]]\n",
      "<class 'numpy.ndarray'>\n",
      "[[1.74976547 0.3426804  1.1530358  0.25243604]\n",
      " [0.98132079 0.51421884 0.22117967 1.07004333]\n",
      " [0.18949583 0.25500144 0.45802699 0.43516349]]\n"
     ]
    }
   ],
   "source": [
    "zeros = np.zeros((2, 3))\n",
    "print(zeros)\n",
    "\n",
    "ones = np.ones((2, 3))\n",
    "print(ones)\n",
    "\n",
    "np.random.seed(1729)\n",
    "random = np.random.rand(2, 3)\n",
    "print(random)\n",
    "\n",
    "x = np.empty((3, 4))\n",
    "print(type(x))\n",
    "print(x)"
   ]
  },
  {
   "cell_type": "code",
   "execution_count": 51,
   "metadata": {},
   "outputs": [
    {
     "data": {
      "text/plain": [
       "array([0, 1, 2, 3, 4, 5, 6, 7, 8, 9])"
      ]
     },
     "execution_count": 51,
     "metadata": {},
     "output_type": "execute_result"
    }
   ],
   "source": [
    "# np.arrange():\n",
    "zero_to_ten = np.arange(start=0, stop=10, step=1, dtype=float)\n",
    "zero_to_ten.astype(int)"
   ]
  },
  {
   "cell_type": "code",
   "execution_count": 52,
   "metadata": {},
   "outputs": [
    {
     "name": "stdout",
     "output_type": "stream",
     "text": [
      "(2, 2, 3)\n",
      "[[[1.74976547 0.3426804  1.1530358 ]\n",
      "  [0.25243604 0.98132079 0.51421884]]\n",
      "\n",
      " [[0.22117967 1.07004333 0.18949583]\n",
      "  [0.25500144 0.45802699 0.43516349]]]\n",
      "(2, 2, 3)\n",
      "[[[1.74976547 0.3426804  1.1530358 ]\n",
      "  [0.25243604 0.98132079 0.51421884]]\n",
      "\n",
      " [[0.22117967 1.07004333 0.18949583]\n",
      "  [0.25500144 0.45802699 0.43516349]]]\n",
      "(2, 2, 3)\n",
      "[[[0. 0. 0.]\n",
      "  [0. 0. 0.]]\n",
      "\n",
      " [[0. 0. 0.]\n",
      "  [0. 0. 0.]]]\n",
      "(2, 2, 3)\n",
      "[[[1. 1. 1.]\n",
      "  [1. 1. 1.]]\n",
      "\n",
      " [[1. 1. 1.]\n",
      "  [1. 1. 1.]]]\n"
     ]
    }
   ],
   "source": [
    "## np.*_like()\n",
    "x = np.empty((2, 2, 3))\n",
    "print(x.shape)\n",
    "print(x)\n",
    "\n",
    "empty_like_x = np.empty_like(x)\n",
    "print(empty_like_x.shape)\n",
    "print(empty_like_x)\n",
    "\n",
    "zeros_like_x = np.zeros_like(x)\n",
    "print(zeros_like_x.shape)\n",
    "print(zeros_like_x)\n",
    "\n",
    "ones_like_x = np.ones_like(x)\n",
    "print(ones_like_x.shape)\n",
    "print(ones_like_x)"
   ]
  },
  {
   "attachments": {},
   "cell_type": "markdown",
   "metadata": {},
   "source": [
    "## [5. Data Type:](#h_cell)\n",
    "<a id='dtype_cell'></a>"
   ]
  },
  {
   "cell_type": "code",
   "execution_count": 53,
   "metadata": {},
   "outputs": [
    {
     "data": {
      "text/plain": [
       "array([0, 1, 2, 3, 4, 5, 6, 7, 8, 9])"
      ]
     },
     "execution_count": 53,
     "metadata": {},
     "output_type": "execute_result"
    }
   ],
   "source": [
    "zero_to_ten = np.arange(start=0, stop=10, step=1, dtype=float) # declare a float data type\n",
    "zero_to_ten.astype(int) # change the data type"
   ]
  },
  {
   "attachments": {},
   "cell_type": "markdown",
   "metadata": {},
   "source": [
    "## [6. Math and Logical Operations:](#h_cell)\n",
    "<a id='math_cell'></a>"
   ]
  },
  {
   "cell_type": "code",
   "execution_count": 54,
   "metadata": {},
   "outputs": [
    {
     "name": "stdout",
     "output_type": "stream",
     "text": [
      "[[101. 101.]\n",
      " [101. 101.]]\n",
      "[[2. 2.]\n",
      " [2. 2.]]\n",
      "[[3. 3.]\n",
      " [3. 3.]]\n",
      "[[4. 4.]\n",
      " [4. 4.]]\n",
      "[[1.41421356 1.41421356]\n",
      " [1.41421356 1.41421356]]\n"
     ]
    }
   ],
   "source": [
    "ones = np.zeros((2, 2)) + 1 #addition ones.add()\n",
    "ones=np.add(ones,100)\n",
    "twos = np.ones((2, 2)) * 2 #multiplication\n",
    "threes = (np.ones((2, 2)) * 7 - 1) / 2 # complex operation\n",
    "fours = twos ** 2 # squre\n",
    "sqrt2s = twos ** 0.5 ## squre root\n",
    "\n",
    "print(ones)\n",
    "print(twos)\n",
    "print(threes)\n",
    "print(fours)\n",
    "print(sqrt2s)"
   ]
  },
  {
   "attachments": {},
   "cell_type": "markdown",
   "metadata": {},
   "source": [
    "1. `np.clip(a, a_min, a_max, out=None):` It is used to limit the values of an array or a scalar within a specified range.\n",
    "- a = array that should be cliped."
   ]
  },
  {
   "cell_type": "code",
   "execution_count": 55,
   "metadata": {},
   "outputs": [
    {
     "data": {
      "text/plain": [
       "array([2, 2, 3, 4, 4])"
      ]
     },
     "execution_count": 55,
     "metadata": {},
     "output_type": "execute_result"
    }
   ],
   "source": [
    "import numpy as np\n",
    "a = np.array([1, 2, 3, 4, 5])\n",
    "a_clipped = np.clip(a, 2, 4)\n",
    "a_clipped"
   ]
  },
  {
   "attachments": {},
   "cell_type": "markdown",
   "metadata": {},
   "source": [
    "### 6.1 Matrix multiplication\n",
    "PyTorch implements matrix multiplication functionality in the `torch.matmul()` method.\n",
    "\n",
    "1. The inner dimensions must match:\n",
    "\n",
    "        (3, 2) @ (3, 2) won't work\n",
    "        (2, 3) @ (3, 2) will work\n",
    "        (3, 2) @ (2, 3) will work\n",
    "2. The resulting matrix has the shape of the outer dimensions:\n",
    "\n",
    "        (2, 3) @ (3, 2) -> (2, 2)\n",
    "        (3, 2) @ (2, 3) -> (3, 3)\n",
    "\n",
    "### 6.2 Element wise multiplication:\n",
    "PyTorch implements multiplication functionality in the `torch.mul()` or `*` method.\n",
    "\n",
    "        (3, 2) @ (2, 3) won't work\n",
    "        (2, 3) @ (3, 3) will work"
   ]
  },
  {
   "cell_type": "code",
   "execution_count": 56,
   "metadata": {},
   "outputs": [
    {
     "name": "stdout",
     "output_type": "stream",
     "text": [
      "(3,) 1\n",
      "Element-Wise-Multiplication [1 4 9]\n",
      "Element-Wise-Multiplication: np.multiply() [1 4 9]\n",
      "Matrix-Multiplication: 14\n",
      "Matrix-Multiplication: 14\n"
     ]
    }
   ],
   "source": [
    "a = np.array([1, 2, 3])\n",
    "print(a.shape, a.ndim)\n",
    "element_wise_mul=a*a # Element wise multiplication: [1*1, 2*2, 3*3]=[1, 4, 9]\n",
    "print(\"Element-Wise-Multiplication\",element_wise_mul)\n",
    "print(\"Element-Wise-Multiplication: np.multiply()\",np.multiply(a, a))\n",
    "\n",
    "print(\"Matrix-Multiplication:\", np.matmul(a, a))\n",
    "print(\"Matrix-Multiplication:\", np.dot(a, a))"
   ]
  },
  {
   "cell_type": "code",
   "execution_count": 57,
   "metadata": {},
   "outputs": [
    {
     "name": "stdout",
     "output_type": "stream",
     "text": [
      "tensor_A: (3, 2) \t 2\n",
      "tensor_B: (3, 2) \t 2\n",
      "Element wise: [[ 7. 20.]\n",
      " [24. 44.]\n",
      " [45. 72.]]\n",
      "Transpose: (2, 3)\n"
     ]
    },
    {
     "data": {
      "text/plain": [
       "array([[ 76., 103.],\n",
       "       [100., 136.]], dtype=float32)"
      ]
     },
     "execution_count": 57,
     "metadata": {},
     "output_type": "execute_result"
    }
   ],
   "source": [
    "# Shapes need to be in the right way  \n",
    "tensor_A = np.array([[1, 2],\n",
    "                         [3, 4],\n",
    "                         [5, 6]], dtype=np.float32)\n",
    "\n",
    "tensor_B = np.array([[7, 10],\n",
    "                         [8, 11], \n",
    "                         [9, 12]], dtype=np.float32)\n",
    "print(f\"tensor_A: {tensor_A.shape} \\t {tensor_A.ndim}\")\n",
    "print(f\"tensor_B: {tensor_B.shape} \\t {tensor_B.ndim}\")\n",
    "\n",
    "print(\"Element wise:\",np.multiply(tensor_A, tensor_B))\n",
    "print(\"Transpose:\",tensor_A.T.shape)\n",
    "\n",
    "np.matmul(tensor_A.T, tensor_B) "
   ]
  },
  {
   "attachments": {},
   "cell_type": "markdown",
   "metadata": {},
   "source": [
    "#### Element wise Multiplication:\n",
    "$$[m\\times n\\times o] * [p\\times q\\times r]=[m\\times n\\times o]\\text{ this will be the new shape}$$\n",
    "* Each tensor must have at least one dimension - no empty tensors.\n",
    "* Comparing the dimension sizes of the two tensors, **going from last to first:**\n",
    "    * Each dimension must be equal $m=p\\;, n=q,\\; o=r $, **or**\n",
    "    * One of the dimensions must be of size 1, $p=1\\;, q=1,\\; o=r=1 $**or**\n",
    "    * The dimension does not exist in one of the tensors $q=1,\\; o=r=1 $"
   ]
  },
  {
   "cell_type": "code",
   "execution_count": 58,
   "metadata": {},
   "outputs": [
    {
     "name": "stdout",
     "output_type": "stream",
     "text": [
      "a*a=[[[1 1 4 4]\n",
      "  [4 4 1 1]\n",
      "  [1 1 1 4]]\n",
      "\n",
      " [[1 1 1 1]\n",
      "  [4 1 1 4]\n",
      "  [1 4 1 1]]],\n",
      "\n",
      "a*b=[[[1 2 4 4]\n",
      "  [2 4 2 2]\n",
      "  [1 2 2 4]]\n",
      "\n",
      " [[1 2 2 2]\n",
      "  [2 2 2 4]\n",
      "  [1 4 2 2]]],\n",
      "a.shape=(2, 3, 4),\t b.shape=(1, 4)\n"
     ]
    }
   ],
   "source": [
    "np.random.seed(100)\n",
    "a= np.random.randint(1,3,(2,3,4))\n",
    "b= np.random.randint(1,3,(1,4))\n",
    "print(f\"a*a={a*a},\\n\\na*b={(a*b)},\\na.shape={a.shape},\\t b.shape={b.shape}\")"
   ]
  },
  {
   "cell_type": "code",
   "execution_count": 59,
   "metadata": {},
   "outputs": [
    {
     "name": "stdout",
     "output_type": "stream",
     "text": [
      "b: [[[-0.45802699  0.43516349]\n",
      "  [-0.45802699  0.43516349]\n",
      "  [-0.45802699  0.43516349]]]\n",
      "C: [[[-0.58359505 -0.58359505]\n",
      "  [ 0.81684707  0.81684707]\n",
      "  [ 0.67272081  0.67272081]]\n",
      "\n",
      " [[-0.58359505 -0.58359505]\n",
      "  [ 0.81684707  0.81684707]\n",
      "  [ 0.67272081  0.67272081]]\n",
      "\n",
      " [[-0.58359505 -0.58359505]\n",
      "  [ 0.81684707  0.81684707]\n",
      "  [ 0.67272081  0.67272081]]\n",
      "\n",
      " [[-0.58359505 -0.58359505]\n",
      "  [ 0.81684707  0.81684707]\n",
      "  [ 0.67272081  0.67272081]]]\n",
      "d [[[-0.10441114 -0.53128038]\n",
      "  [-0.10441114 -0.53128038]\n",
      "  [-0.10441114 -0.53128038]]\n",
      "\n",
      " [[-0.10441114 -0.53128038]\n",
      "  [-0.10441114 -0.53128038]\n",
      "  [-0.10441114 -0.53128038]]\n",
      "\n",
      " [[-0.10441114 -0.53128038]\n",
      "  [-0.10441114 -0.53128038]\n",
      "  [-0.10441114 -0.53128038]]\n",
      "\n",
      " [[-0.10441114 -0.53128038]\n",
      "  [-0.10441114 -0.53128038]\n",
      "  [-0.10441114 -0.53128038]]]\n"
     ]
    }
   ],
   "source": [
    "a = np.ones((4, 3, 2))\n",
    "\n",
    "b = a * np.random.randn(   2) # 3rd & 2nd dims identical to a, dim 1 absent\n",
    "print(\"b:\", b[:1])\n",
    "\n",
    "\n",
    "c = a * np.random.randn( 3, 1) # 3rd dim = 1, 2nd dim identical to a\n",
    "print(\"C:\",c)\n",
    "\n",
    "d = a * np.random.randn(   1, 2) # 3rd dim identical to a, 2nd dim = 1\n",
    "print(\"d\", d)\n"
   ]
  },
  {
   "cell_type": "code",
   "execution_count": 60,
   "metadata": {},
   "outputs": [
    {
     "ename": "ValueError",
     "evalue": "operands could not be broadcast together with shapes (4,3,2) (4,3) ",
     "output_type": "error",
     "traceback": [
      "\u001b[1;31m---------------------------------------------------------------------------\u001b[0m",
      "\u001b[1;31mValueError\u001b[0m                                Traceback (most recent call last)",
      "\u001b[1;32mg:\\Computer Vision\\deep-learning-libray\\numpy\\numpy-fundamental.ipynb Cell 40\u001b[0m line \u001b[0;36m3\n\u001b[0;32m      <a href='vscode-notebook-cell:/g%3A/Computer%20Vision/deep-learning-libray/numpy/numpy-fundamental.ipynb#X52sZmlsZQ%3D%3D?line=0'>1</a>\u001b[0m a \u001b[39m=\u001b[39m np\u001b[39m.\u001b[39mones((\u001b[39m4\u001b[39m, \u001b[39m3\u001b[39m, \u001b[39m2\u001b[39m))\n\u001b[1;32m----> <a href='vscode-notebook-cell:/g%3A/Computer%20Vision/deep-learning-libray/numpy/numpy-fundamental.ipynb#X52sZmlsZQ%3D%3D?line=2'>3</a>\u001b[0m b \u001b[39m=\u001b[39m a \u001b[39m*\u001b[39;49m np\u001b[39m.\u001b[39;49mrandom\u001b[39m.\u001b[39;49mrandn(\u001b[39m4\u001b[39;49m, \u001b[39m3\u001b[39;49m)    \u001b[39m# dimensions must match last-to-first\u001b[39;00m\n\u001b[0;32m      <a href='vscode-notebook-cell:/g%3A/Computer%20Vision/deep-learning-libray/numpy/numpy-fundamental.ipynb#X52sZmlsZQ%3D%3D?line=4'>5</a>\u001b[0m c \u001b[39m=\u001b[39m a \u001b[39m*\u001b[39m np\u001b[39m.\u001b[39mrand(   \u001b[39m2\u001b[39m, \u001b[39m3\u001b[39m) \u001b[39m# both 3rd & 2nd dims different\u001b[39;00m\n\u001b[0;32m      <a href='vscode-notebook-cell:/g%3A/Computer%20Vision/deep-learning-libray/numpy/numpy-fundamental.ipynb#X52sZmlsZQ%3D%3D?line=6'>7</a>\u001b[0m d \u001b[39m=\u001b[39m a \u001b[39m*\u001b[39m np\u001b[39m.\u001b[39mrand((\u001b[39m0\u001b[39m, ))   \u001b[39m# can't broadcast with an empty tensor\u001b[39;00m\n",
      "\u001b[1;31mValueError\u001b[0m: operands could not be broadcast together with shapes (4,3,2) (4,3) "
     ]
    }
   ],
   "source": [
    "a = np.ones((4, 3, 2))\n",
    "\n",
    "b = a * np.random.randn(4, 3)    # dimensions must match last-to-first\n",
    "\n",
    "c = a * np.rand(   2, 3) # both 3rd & 2nd dims different\n",
    "\n",
    "d = a * np.rand((0, ))   # can't broadcast with an empty tensor"
   ]
  },
  {
   "cell_type": "markdown",
   "metadata": {},
   "source": [
    "## [7. Manipulating Tensor Shapes](#h_cell)\n",
    "<a id='mts_cell'></a>"
   ]
  },
  {
   "attachments": {},
   "cell_type": "markdown",
   "metadata": {},
   "source": [
    "## [8. Array Accessing](#h_cell)\n",
    "<a id='aa_cell'></a>"
   ]
  },
  {
   "cell_type": "code",
   "execution_count": null,
   "metadata": {},
   "outputs": [
    {
     "name": "stdout",
     "output_type": "stream",
     "text": [
      "[[2 3 4]\n",
      " [7 8 9]]\n"
     ]
    }
   ],
   "source": [
    "import numpy as np\n",
    "\n",
    "arr = np.array([[1, 2, 3, 4, 5], [6, 7, 8, 9, 10]])\n",
    "\n",
    "print(arr[:, 1:4])\n"
   ]
  },
  {
   "cell_type": "code",
   "execution_count": null,
   "metadata": {},
   "outputs": [
    {
     "data": {
      "text/plain": [
       "array([[1.423e+01, 1.710e+00, 2.430e+00, ..., 1.040e+00, 3.920e+00,\n",
       "        1.065e+03],\n",
       "       [1.320e+01, 1.780e+00, 2.140e+00, ..., 1.050e+00, 3.400e+00,\n",
       "        1.050e+03],\n",
       "       [1.316e+01, 2.360e+00, 2.670e+00, ..., 1.030e+00, 3.170e+00,\n",
       "        1.185e+03],\n",
       "       ...,\n",
       "       [1.327e+01, 4.280e+00, 2.260e+00, ..., 5.900e-01, 1.560e+00,\n",
       "        8.350e+02],\n",
       "       [1.317e+01, 2.590e+00, 2.370e+00, ..., 6.000e-01, 1.620e+00,\n",
       "        8.400e+02],\n",
       "       [1.413e+01, 4.100e+00, 2.740e+00, ..., 6.100e-01, 1.600e+00,\n",
       "        5.600e+02]], dtype=float32)"
      ]
     },
     "execution_count": 8,
     "metadata": {},
     "output_type": "execute_result"
    }
   ],
   "source": [
    "\n",
    "xy= np.loadtxt(\"../data/wine/wine.csv\", delimiter=',', dtype=np.float32, skiprows=1)\n",
    "n_samples=xy.shape[0]\n",
    "# xy\n",
    "xy[:, 1:]\n"
   ]
  },
  {
   "cell_type": "markdown",
   "metadata": {},
   "source": [
    "## [9. Important Methods:](#h_cell)\n",
    "<a id='im_cell'></a>\n",
    "\n",
    "1. `numpy.linspace(start, stop, num=50, endpoint=True, retstep=False, dtype=None, axis=0)`:  is used to create an array of evenly spaced values over a specified range."
   ]
  },
  {
   "cell_type": "code",
   "execution_count": null,
   "metadata": {},
   "outputs": [
    {
     "name": "stdout",
     "output_type": "stream",
     "text": [
      "[0.         0.11111111 0.22222222 0.33333333 0.44444444 0.55555556\n",
      " 0.66666667 0.77777778 0.88888889 1.        ]\n"
     ]
    }
   ],
   "source": [
    "arr = np.linspace(0, 1, num=10)\n",
    "print(arr)"
   ]
  }
 ],
 "metadata": {
  "kernelspec": {
   "display_name": "Python 3",
   "language": "python",
   "name": "python3"
  },
  "language_info": {
   "codemirror_mode": {
    "name": "ipython",
    "version": 3
   },
   "file_extension": ".py",
   "mimetype": "text/x-python",
   "name": "python",
   "nbconvert_exporter": "python",
   "pygments_lexer": "ipython3",
   "version": "3.11.3"
  },
  "orig_nbformat": 4
 },
 "nbformat": 4,
 "nbformat_minor": 2
}
